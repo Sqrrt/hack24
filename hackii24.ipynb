{
  "cells": [
    {
      "cell_type": "code",
      "source": [
        "import os\n",
        "\n",
        "def rename_jpg_files_to_numbers(directory):\n",
        "    files = os.listdir(directory)\n",
        "    number = 1\n",
        "\n",
        "    for file in files:\n",
        "        file_path = os.path.join(directory, file)\n",
        "        if os.path.isfile(file_path) and file.lower().endswith('.png'):\n",
        "            new_name = f\"{number}.jpg\"\n",
        "            new_file_path = os.path.join(directory, new_name)\n",
        "            os.rename(file_path, new_file_path)\n",
        "            number += 1\n",
        "\n",
        "directory_path = '/content/obfuscated_private_ed/2023-04-11-09-18-38-day/back_cam'\n",
        "rename_jpg_files_to_numbers(directory_path)\n",
        "directory_path = '/content/obfuscated_private_ed/2023-04-11-09-18-38-day/front_cam'\n",
        "rename_jpg_files_to_numbers(directory_path)\n",
        "directory_path = '/content/obfuscated_private_ed/2023-04-11-09-18-38-day/masks/back_cam'\n",
        "rename_jpg_files_to_numbers(directory_path)\n",
        "directory_path = '/content/obfuscated_private_ed/2023-04-11-09-18-38-day/masks/front_cam'\n",
        "rename_jpg_files_to_numbers(directory_path)\n",
        "directory_path = '/content/obfuscated_private_ed/2023-04-13-13-07-34-night/back_cam'\n",
        "rename_jpg_files_to_numbers(directory_path)\n",
        "directory_path = '/content/obfuscated_private_ed/2023-04-13-13-07-34-night/front_cam'\n",
        "rename_jpg_files_to_numbers(directory_path)\n",
        "directory_path = '/content/obfuscated_private_ed/2023-04-13-13-07-34-night/masks/back_cam'\n",
        "rename_jpg_files_to_numbers(directory_path)\n",
        "directory_path = '/content/obfuscated_private_ed/2023-04-13-13-07-34-night/masks/front_cam'\n",
        "rename_jpg_files_to_numbers(directory_path)"
      ],
      "metadata": {
        "id": "ASQ01gCFWZPI"
      },
      "execution_count": null,
      "outputs": []
    },
    {
      "cell_type": "code",
      "source": [
        "from google.colab import drive\n",
        "drive.mount('/content/drive')"
      ],
      "metadata": {
        "id": "UJAJyyLhXTb_"
      },
      "execution_count": null,
      "outputs": []
    },
    {
      "cell_type": "markdown",
      "metadata": {
        "id": "QrVbGWhxUMnd"
      },
      "source": [
        "## Установка в Google Colab\n",
        "\n",
        "Ячейки ниже рекомендуется использовать для установки зависимостей в Google Colab."
      ]
    },
    {
      "cell_type": "markdown",
      "metadata": {
        "id": "LUMNB4SHUSf2"
      },
      "source": [
        "1. Убедитесь, что вы подключены к окружению с GPU"
      ]
    },
    {
      "cell_type": "code",
      "execution_count": null,
      "metadata": {
        "id": "-5LvQ573UQNf",
        "colab": {
          "base_uri": "https://localhost:8080/"
        },
        "outputId": "243041e8-5551-40dd-939d-800227b3cf0f"
      },
      "outputs": [
        {
          "output_type": "stream",
          "name": "stdout",
          "text": [
            "Thu Jul  4 07:06:25 2024       \n",
            "+---------------------------------------------------------------------------------------+\n",
            "| NVIDIA-SMI 535.104.05             Driver Version: 535.104.05   CUDA Version: 12.2     |\n",
            "|-----------------------------------------+----------------------+----------------------+\n",
            "| GPU  Name                 Persistence-M | Bus-Id        Disp.A | Volatile Uncorr. ECC |\n",
            "| Fan  Temp   Perf          Pwr:Usage/Cap |         Memory-Usage | GPU-Util  Compute M. |\n",
            "|                                         |                      |               MIG M. |\n",
            "|=========================================+======================+======================|\n",
            "|   0  Tesla T4                       Off | 00000000:00:04.0 Off |                    0 |\n",
            "| N/A   47C    P8              11W /  70W |      0MiB / 15360MiB |      0%      Default |\n",
            "|                                         |                      |                  N/A |\n",
            "+-----------------------------------------+----------------------+----------------------+\n",
            "                                                                                         \n",
            "+---------------------------------------------------------------------------------------+\n",
            "| Processes:                                                                            |\n",
            "|  GPU   GI   CI        PID   Type   Process name                            GPU Memory |\n",
            "|        ID   ID                                                             Usage      |\n",
            "|=======================================================================================|\n",
            "|  No running processes found                                                           |\n",
            "+---------------------------------------------------------------------------------------+\n"
          ]
        }
      ],
      "source": [
        "!nvidia-smi"
      ]
    },
    {
      "cell_type": "markdown",
      "metadata": {
        "id": "PjUs-yGZUWAd"
      },
      "source": [
        "2. Установка необходимых библиотек для сборки MinkowskiEngine"
      ]
    },
    {
      "cell_type": "code",
      "execution_count": null,
      "metadata": {
        "colab": {
          "base_uri": "https://localhost:8080/"
        },
        "id": "AETIQeN5uN2T",
        "outputId": "94f2191d-d3a0-4097-bf64-270d60a18270"
      },
      "outputs": [
        {
          "output_type": "stream",
          "name": "stdout",
          "text": [
            "Reading package lists... Done\n",
            "Building dependency tree... Done\n",
            "Reading state information... Done\n",
            "libopenblas-dev is already the newest version (0.3.20+ds-1).\n",
            "0 upgraded, 0 newly installed, 0 to remove and 45 not upgraded.\n"
          ]
        }
      ],
      "source": [
        "!sudo apt-get install libopenblas-dev"
      ]
    },
    {
      "cell_type": "code",
      "execution_count": null,
      "metadata": {
        "colab": {
          "base_uri": "https://localhost:8080/"
        },
        "id": "k3uBZvcCuMqq",
        "outputId": "68a62a97-687e-4eac-d05d-660d83164d1b"
      },
      "outputs": [
        {
          "output_type": "stream",
          "name": "stdout",
          "text": [
            "Collecting ninja\n",
            "  Downloading ninja-1.11.1.1-py2.py3-none-manylinux1_x86_64.manylinux_2_5_x86_64.whl (307 kB)\n",
            "\u001b[?25l     \u001b[90m━━━━━━━━━━━━━━━━━━━━━━━━━━━━━━━━━━━━━━━━\u001b[0m \u001b[32m0.0/307.2 kB\u001b[0m \u001b[31m?\u001b[0m eta \u001b[36m-:--:--\u001b[0m\r\u001b[2K     \u001b[91m━━━━━━━━━━━━━━━━━━━━\u001b[0m\u001b[90m╺\u001b[0m\u001b[90m━━━━━━━━━━━━━━━━━━━\u001b[0m \u001b[32m153.6/307.2 kB\u001b[0m \u001b[31m4.3 MB/s\u001b[0m eta \u001b[36m0:00:01\u001b[0m\r\u001b[2K     \u001b[90m━━━━━━━━━━━━━━━━━━━━━━━━━━━━━━━━━━━━━━━━\u001b[0m \u001b[32m307.2/307.2 kB\u001b[0m \u001b[31m6.0 MB/s\u001b[0m eta \u001b[36m0:00:00\u001b[0m\n",
            "\u001b[?25hInstalling collected packages: ninja\n",
            "Successfully installed ninja-1.11.1.1\n"
          ]
        }
      ],
      "source": [
        "!pip install ninja"
      ]
    },
    {
      "cell_type": "markdown",
      "metadata": {
        "id": "6lUTmgztUZup"
      },
      "source": [
        "3. Сборка и установка MinkowskiEngine из репозитория для работы с CUDA 12.2 (занимает много времени)"
      ]
    },
    {
      "cell_type": "code",
      "execution_count": null,
      "metadata": {
        "colab": {
          "base_uri": "https://localhost:8080/"
        },
        "id": "3Go8wOjsuoZC",
        "outputId": "a722b838-af8c-43d2-8a95-18b834bc177d"
      },
      "outputs": [
        {
          "output_type": "stream",
          "name": "stdout",
          "text": [
            "Using pip 23.1.2 from /usr/local/lib/python3.10/dist-packages/pip (python 3.10)\n",
            "Collecting git+https://github.com/richlukich/MinkowskiEngine\n",
            "  Cloning https://github.com/richlukich/MinkowskiEngine to /tmp/pip-req-build-c3dcs7ws\n",
            "  Running command git version\n",
            "  git version 2.34.1\n",
            "  Running command git clone --filter=blob:none https://github.com/richlukich/MinkowskiEngine /tmp/pip-req-build-c3dcs7ws\n",
            "  Cloning into '/tmp/pip-req-build-c3dcs7ws'...\n",
            "  Updating files:   0% (2/244)\n",
            "  Updating files:   1% (3/244)\n",
            "  Updating files:   2% (5/244)\n",
            "  Updating files:   3% (8/244)\n",
            "  Updating files:   4% (10/244)\n",
            "  Updating files:   5% (13/244)\n",
            "  Updating files:   6% (15/244)\n",
            "  Updating files:   7% (18/244)\n",
            "  Updating files:   8% (20/244)\n",
            "  Updating files:   9% (22/244)\n",
            "  Updating files:  10% (25/244)\n",
            "  Updating files:  11% (27/244)\n",
            "  Updating files:  12% (30/244)\n",
            "  Updating files:  13% (32/244)\n",
            "  Updating files:  14% (35/244)\n",
            "  Updating files:  15% (37/244)\n",
            "  Updating files:  16% (40/244)\n",
            "  Updating files:  17% (42/244)\n",
            "  Updating files:  18% (44/244)\n",
            "  Updating files:  19% (47/244)\n",
            "  Updating files:  20% (49/244)\n",
            "  Updating files:  21% (52/244)\n",
            "  Updating files:  22% (54/244)\n",
            "  Updating files:  23% (57/244)\n",
            "  Updating files:  24% (59/244)\n",
            "  Updating files:  25% (61/244)\n",
            "  Updating files:  26% (64/244)\n",
            "  Updating files:  27% (66/244)\n",
            "  Updating files:  28% (69/244)\n",
            "  Updating files:  29% (71/244)\n",
            "  Updating files:  30% (74/244)\n",
            "  Updating files:  31% (76/244)\n",
            "  Updating files:  32% (79/244)\n",
            "  Updating files:  33% (81/244)\n",
            "  Updating files:  34% (83/244)\n",
            "  Updating files:  35% (86/244)\n",
            "  Updating files:  36% (88/244)\n",
            "  Updating files:  37% (91/244)\n",
            "  Updating files:  38% (93/244)\n",
            "  Updating files:  39% (96/244)\n",
            "  Updating files:  40% (98/244)\n",
            "  Updating files:  41% (101/244)\n",
            "  Updating files:  42% (103/244)\n",
            "  Updating files:  43% (105/244)\n",
            "  Updating files:  44% (108/244)\n",
            "  Updating files:  45% (110/244)\n",
            "  Updating files:  46% (113/244)\n",
            "  Updating files:  47% (115/244)\n",
            "  Updating files:  48% (118/244)\n",
            "  Updating files:  49% (120/244)\n",
            "  Updating files:  50% (122/244)\n",
            "  Updating files:  51% (125/244)\n",
            "  Updating files:  52% (127/244)\n",
            "  Updating files:  53% (130/244)\n",
            "  Updating files:  54% (132/244)\n",
            "  Updating files:  55% (135/244)\n",
            "  Updating files:  56% (137/244)\n",
            "  Updating files:  57% (140/244)\n",
            "  Updating files:  58% (142/244)\n",
            "  Updating files:  59% (144/244)\n",
            "  Updating files:  60% (147/244)\n",
            "  Updating files:  61% (149/244)\n",
            "  Updating files:  62% (152/244)\n",
            "  Updating files:  63% (154/244)\n",
            "  Updating files:  64% (157/244)\n",
            "  Updating files:  65% (159/244)\n",
            "  Updating files:  66% (162/244)\n",
            "  Updating files:  67% (164/244)\n",
            "  Updating files:  68% (166/244)\n",
            "  Updating files:  69% (169/244)\n",
            "  Updating files:  70% (171/244)\n",
            "  Updating files:  71% (174/244)\n",
            "  Updating files:  72% (176/244)\n",
            "  Updating files:  73% (179/244)\n",
            "  Updating files:  74% (181/244)\n",
            "  Updating files:  75% (183/244)\n",
            "  Updating files:  76% (186/244)\n",
            "  Updating files:  77% (188/244)\n",
            "  Updating files:  78% (191/244)\n",
            "  Updating files:  79% (193/244)\n",
            "  Updating files:  80% (196/244)\n",
            "  Updating files:  81% (198/244)\n",
            "  Updating files:  82% (201/244)\n",
            "  Updating files:  83% (203/244)\n",
            "  Updating files:  84% (205/244)\n",
            "  Updating files:  85% (208/244)\n",
            "  Updating files:  86% (210/244)\n",
            "  Updating files:  87% (213/244)\n",
            "  Updating files:  88% (215/244)\n",
            "  Updating files:  89% (218/244)\n",
            "  Updating files:  90% (220/244)\n",
            "  Updating files:  91% (223/244)\n",
            "  Updating files:  92% (225/244)\n",
            "  Updating files:  93% (227/244)\n",
            "  Updating files:  94% (230/244)\n",
            "  Updating files:  95% (232/244)\n",
            "  Updating files:  96% (235/244)\n",
            "  Updating files:  97% (237/244)\n",
            "  Updating files:  98% (240/244)\n",
            "  Updating files:  99% (242/244)\n",
            "  Updating files: 100% (244/244)\n",
            "  Updating files: 100% (244/244), done.\n",
            "  Running command git rev-parse HEAD\n",
            "  a0bfdd0e00dad2209adfadb719ad8429a88cf02d\n",
            "  Resolved https://github.com/richlukich/MinkowskiEngine to commit a0bfdd0e00dad2209adfadb719ad8429a88cf02d\n",
            "  Running command git rev-parse HEAD\n",
            "  a0bfdd0e00dad2209adfadb719ad8429a88cf02d\n",
            "\u001b[33m  DEPRECATION: Config settings are ignored for project git+https://github.com/richlukich/MinkowskiEngine. pip 23.3 will enforce this behaviour change. A possible replacement is to use --use-pep517 or add a pyproject.toml file to the project.\u001b[0m\u001b[33m\n",
            "\u001b[0m  Running command python setup.py egg_info\n",
            "  WARNING: Skipping MinkowskiEngine as it is not installed.\n",
            "  /tmp/pip-req-build-c3dcs7ws/setup.py:201: DeprecationWarning:\n",
            "\n",
            "    `numpy.distutils` is deprecated since NumPy 1.23.0, as a result\n",
            "    of the deprecation of `distutils` itself. It will be removed for\n",
            "    Python >= 3.12. For older Python versions it will remain present.\n",
            "    It is recommended to use `setuptools < 60.0` for those Python versions.\n",
            "    For more details, see:\n",
            "      https://numpy.org/devdocs/reference/distutils_status_migration.html\n",
            "\n",
            "\n",
            "    import numpy.distutils.system_info as sysinfo\n",
            "  --------------------------------\n",
            "  | CUDA compilation set         |\n",
            "  --------------------------------\n",
            "\n",
            "  Using BLAS=openblas\n",
            "  Using the default compiler\n",
            "  running egg_info\n",
            "  creating /tmp/pip-pip-egg-info-l3pbotac/MinkowskiEngine.egg-info\n",
            "  writing /tmp/pip-pip-egg-info-l3pbotac/MinkowskiEngine.egg-info/PKG-INFO\n",
            "  writing dependency_links to /tmp/pip-pip-egg-info-l3pbotac/MinkowskiEngine.egg-info/dependency_links.txt\n",
            "  writing requirements to /tmp/pip-pip-egg-info-l3pbotac/MinkowskiEngine.egg-info/requires.txt\n",
            "  writing top-level names to /tmp/pip-pip-egg-info-l3pbotac/MinkowskiEngine.egg-info/top_level.txt\n",
            "  writing manifest file '/tmp/pip-pip-egg-info-l3pbotac/MinkowskiEngine.egg-info/SOURCES.txt'\n",
            "  reading manifest file '/tmp/pip-pip-egg-info-l3pbotac/MinkowskiEngine.egg-info/SOURCES.txt'\n",
            "  reading manifest template 'MANIFEST.in'\n",
            "  adding license file 'LICENSE'\n",
            "  writing manifest file '/tmp/pip-pip-egg-info-l3pbotac/MinkowskiEngine.egg-info/SOURCES.txt'\n",
            "  Preparing metadata (setup.py) ... \u001b[?25l\u001b[?25hdone\n",
            "Building wheels for collected packages: MinkowskiEngine\n",
            "  Running command python setup.py bdist_wheel\n",
            "  WARNING: Skipping MinkowskiEngine as it is not installed.\n",
            "  --------------------------------\n",
            "  | CUDA compilation set         |\n",
            "  --------------------------------\n",
            "  /tmp/pip-req-build-c3dcs7ws/setup.py:201: DeprecationWarning:\n",
            "\n",
            "    `numpy.distutils` is deprecated since NumPy 1.23.0, as a result\n",
            "    of the deprecation of `distutils` itself. It will be removed for\n",
            "    Python >= 3.12. For older Python versions it will remain present.\n",
            "    It is recommended to use `setuptools < 60.0` for those Python versions.\n",
            "    For more details, see:\n",
            "      https://numpy.org/devdocs/reference/distutils_status_migration.html\n",
            "\n",
            "\n",
            "    import numpy.distutils.system_info as sysinfo\n",
            "\n",
            "  Using BLAS=openblas\n",
            "  Using the default compiler\n",
            "  running bdist_wheel\n",
            "  running build\n",
            "  running build_py\n",
            "  creating build\n",
            "  creating build/lib.linux-x86_64-cpython-310\n",
            "  creating build/lib.linux-x86_64-cpython-310/MinkowskiEngine\n",
            "  copying ./MinkowskiEngine/MinkowskiInterpolation.py -> build/lib.linux-x86_64-cpython-310/MinkowskiEngine\n",
            "  copying ./MinkowskiEngine/MinkowskiPooling.py -> build/lib.linux-x86_64-cpython-310/MinkowskiEngine\n",
            "  copying ./MinkowskiEngine/MinkowskiUnion.py -> build/lib.linux-x86_64-cpython-310/MinkowskiEngine\n",
            "  copying ./MinkowskiEngine/MinkowskiChannelwiseConvolution.py -> build/lib.linux-x86_64-cpython-310/MinkowskiEngine\n",
            "  copying ./MinkowskiEngine/MinkowskiTensor.py -> build/lib.linux-x86_64-cpython-310/MinkowskiEngine\n",
            "  copying ./MinkowskiEngine/MinkowskiTensorField.py -> build/lib.linux-x86_64-cpython-310/MinkowskiEngine\n",
            "  copying ./MinkowskiEngine/MinkowskiCommon.py -> build/lib.linux-x86_64-cpython-310/MinkowskiEngine\n",
            "  copying ./MinkowskiEngine/MinkowskiNonlinearity.py -> build/lib.linux-x86_64-cpython-310/MinkowskiEngine\n",
            "  copying ./MinkowskiEngine/MinkowskiKernelGenerator.py -> build/lib.linux-x86_64-cpython-310/MinkowskiEngine\n",
            "  copying ./MinkowskiEngine/diagnostics.py -> build/lib.linux-x86_64-cpython-310/MinkowskiEngine\n",
            "  copying ./MinkowskiEngine/MinkowskiPruning.py -> build/lib.linux-x86_64-cpython-310/MinkowskiEngine\n",
            "  copying ./MinkowskiEngine/MinkowskiConvolution.py -> build/lib.linux-x86_64-cpython-310/MinkowskiEngine\n",
            "  copying ./MinkowskiEngine/sparse_matrix_functions.py -> build/lib.linux-x86_64-cpython-310/MinkowskiEngine\n",
            "  copying ./MinkowskiEngine/MinkowskiNetwork.py -> build/lib.linux-x86_64-cpython-310/MinkowskiEngine\n",
            "  copying ./MinkowskiEngine/MinkowskiSparseTensor.py -> build/lib.linux-x86_64-cpython-310/MinkowskiEngine\n",
            "  copying ./MinkowskiEngine/__init__.py -> build/lib.linux-x86_64-cpython-310/MinkowskiEngine\n",
            "  copying ./MinkowskiEngine/MinkowskiOps.py -> build/lib.linux-x86_64-cpython-310/MinkowskiEngine\n",
            "  copying ./MinkowskiEngine/MinkowskiNormalization.py -> build/lib.linux-x86_64-cpython-310/MinkowskiEngine\n",
            "  copying ./MinkowskiEngine/MinkowskiCoordinateManager.py -> build/lib.linux-x86_64-cpython-310/MinkowskiEngine\n",
            "  copying ./MinkowskiEngine/MinkowskiFunctional.py -> build/lib.linux-x86_64-cpython-310/MinkowskiEngine\n",
            "  copying ./MinkowskiEngine/MinkowskiBroadcast.py -> build/lib.linux-x86_64-cpython-310/MinkowskiEngine\n",
            "  creating build/lib.linux-x86_64-cpython-310/MinkowskiEngine/utils\n",
            "  copying ./MinkowskiEngine/utils/gradcheck.py -> build/lib.linux-x86_64-cpython-310/MinkowskiEngine/utils\n",
            "  copying ./MinkowskiEngine/utils/coords.py -> build/lib.linux-x86_64-cpython-310/MinkowskiEngine/utils\n",
            "  copying ./MinkowskiEngine/utils/collation.py -> build/lib.linux-x86_64-cpython-310/MinkowskiEngine/utils\n",
            "  copying ./MinkowskiEngine/utils/init.py -> build/lib.linux-x86_64-cpython-310/MinkowskiEngine/utils\n",
            "  copying ./MinkowskiEngine/utils/quantization.py -> build/lib.linux-x86_64-cpython-310/MinkowskiEngine/utils\n",
            "  copying ./MinkowskiEngine/utils/__init__.py -> build/lib.linux-x86_64-cpython-310/MinkowskiEngine/utils\n",
            "  copying ./MinkowskiEngine/utils/summary.py -> build/lib.linux-x86_64-cpython-310/MinkowskiEngine/utils\n",
            "  creating build/lib.linux-x86_64-cpython-310/MinkowskiEngine/modules\n",
            "  copying ./MinkowskiEngine/modules/resnet_block.py -> build/lib.linux-x86_64-cpython-310/MinkowskiEngine/modules\n",
            "  copying ./MinkowskiEngine/modules/senet_block.py -> build/lib.linux-x86_64-cpython-310/MinkowskiEngine/modules\n",
            "  copying ./MinkowskiEngine/modules/__init__.py -> build/lib.linux-x86_64-cpython-310/MinkowskiEngine/modules\n",
            "  running build_ext\n",
            "  /usr/local/lib/python3.10/dist-packages/torch/utils/cpp_extension.py:418: UserWarning: The detected CUDA version (12.2) has a minor version mismatch with the version that was used to compile PyTorch (12.1). Most likely this shouldn't be a problem.\n",
            "    warnings.warn(CUDA_MISMATCH_WARN.format(cuda_str_version, torch.version.cuda))\n",
            "  /usr/local/lib/python3.10/dist-packages/torch/utils/cpp_extension.py:428: UserWarning: There are no x86_64-linux-gnu-g++ version bounds defined for CUDA version 12.2\n",
            "    warnings.warn(f'There are no {compiler_name} version bounds defined for CUDA version {cuda_str_version}')\n",
            "  building 'MinkowskiEngineBackend._C' extension\n",
            "  creating /tmp/pip-req-build-c3dcs7ws/build/temp.linux-x86_64-cpython-310\n",
            "  creating /tmp/pip-req-build-c3dcs7ws/build/temp.linux-x86_64-cpython-310/tmp\n",
            "  creating /tmp/pip-req-build-c3dcs7ws/build/temp.linux-x86_64-cpython-310/tmp/pip-req-build-c3dcs7ws\n",
            "  creating /tmp/pip-req-build-c3dcs7ws/build/temp.linux-x86_64-cpython-310/tmp/pip-req-build-c3dcs7ws/src\n",
            "  creating /tmp/pip-req-build-c3dcs7ws/build/temp.linux-x86_64-cpython-310/pybind\n",
            "  /usr/local/lib/python3.10/dist-packages/torch/utils/cpp_extension.py:1967: UserWarning: TORCH_CUDA_ARCH_LIST is not set, all archs for visible cards are included for compilation.\n",
            "  If this is not desired, please set os.environ['TORCH_CUDA_ARCH_LIST'].\n",
            "    warnings.warn(\n",
            "  Emitting ninja build file /tmp/pip-req-build-c3dcs7ws/build/temp.linux-x86_64-cpython-310/build.ninja...\n",
            "  Compiling objects...\n",
            "  Allowing ninja to set a default number of workers... (overridable by setting the environment variable MAX_JOBS=N)\n",
            "  [1/21] /usr/local/cuda/bin/nvcc --generate-dependencies-with-compile --dependency-output /tmp/pip-req-build-c3dcs7ws/build/temp.linux-x86_64-cpython-310/tmp/pip-req-build-c3dcs7ws/src/broadcast_kernel.o.d -I/usr/local/lib/python3.10/dist-packages/torch/include -I/usr/local/lib/python3.10/dist-packages/torch/include/torch/csrc/api/include -I/usr/local/lib/python3.10/dist-packages/torch/include/TH -I/usr/local/lib/python3.10/dist-packages/torch/include/THC -I/usr/local/cuda/include -I/tmp/pip-req-build-c3dcs7ws/src -I/tmp/pip-req-build-c3dcs7ws/src/3rdparty -I/usr/include/python3.10 -c -c /tmp/pip-req-build-c3dcs7ws/src/broadcast_kernel.cu -o /tmp/pip-req-build-c3dcs7ws/build/temp.linux-x86_64-cpython-310/tmp/pip-req-build-c3dcs7ws/src/broadcast_kernel.o -D__CUDA_NO_HALF_OPERATORS__ -D__CUDA_NO_HALF_CONVERSIONS__ -D__CUDA_NO_BFLOAT16_CONVERSIONS__ -D__CUDA_NO_HALF2_OPERATORS__ --expt-relaxed-constexpr --compiler-options ''\"'\"'-fPIC'\"'\"'' --expt-relaxed-constexpr --expt-extended-lambda -O3 -Xcompiler=-fno-gnu-unique -DTORCH_API_INCLUDE_EXTENSION_H '-DPYBIND11_COMPILER_TYPE=\"_gcc\"' '-DPYBIND11_STDLIB=\"_libstdcpp\"' '-DPYBIND11_BUILD_ABI=\"_cxxabi1011\"' -DTORCH_EXTENSION_NAME=_C -D_GLIBCXX_USE_CXX11_ABI=0 -gencode=arch=compute_75,code=compute_75 -gencode=arch=compute_75,code=sm_75 -std=c++17\n",
            "  [2/21] /usr/local/cuda/bin/nvcc --generate-dependencies-with-compile --dependency-output /tmp/pip-req-build-c3dcs7ws/build/temp.linux-x86_64-cpython-310/tmp/pip-req-build-c3dcs7ws/src/convolution_gpu.o.d -I/usr/local/lib/python3.10/dist-packages/torch/include -I/usr/local/lib/python3.10/dist-packages/torch/include/torch/csrc/api/include -I/usr/local/lib/python3.10/dist-packages/torch/include/TH -I/usr/local/lib/python3.10/dist-packages/torch/include/THC -I/usr/local/cuda/include -I/tmp/pip-req-build-c3dcs7ws/src -I/tmp/pip-req-build-c3dcs7ws/src/3rdparty -I/usr/include/python3.10 -c -c /tmp/pip-req-build-c3dcs7ws/src/convolution_gpu.cu -o /tmp/pip-req-build-c3dcs7ws/build/temp.linux-x86_64-cpython-310/tmp/pip-req-build-c3dcs7ws/src/convolution_gpu.o -D__CUDA_NO_HALF_OPERATORS__ -D__CUDA_NO_HALF_CONVERSIONS__ -D__CUDA_NO_BFLOAT16_CONVERSIONS__ -D__CUDA_NO_HALF2_OPERATORS__ --expt-relaxed-constexpr --compiler-options ''\"'\"'-fPIC'\"'\"'' --expt-relaxed-constexpr --expt-extended-lambda -O3 -Xcompiler=-fno-gnu-unique -DTORCH_API_INCLUDE_EXTENSION_H '-DPYBIND11_COMPILER_TYPE=\"_gcc\"' '-DPYBIND11_STDLIB=\"_libstdcpp\"' '-DPYBIND11_BUILD_ABI=\"_cxxabi1011\"' -DTORCH_EXTENSION_NAME=_C -D_GLIBCXX_USE_CXX11_ABI=0 -gencode=arch=compute_75,code=compute_75 -gencode=arch=compute_75,code=sm_75 -std=c++17\n",
            "  [3/21] /usr/local/cuda/bin/nvcc --generate-dependencies-with-compile --dependency-output /tmp/pip-req-build-c3dcs7ws/build/temp.linux-x86_64-cpython-310/tmp/pip-req-build-c3dcs7ws/src/broadcast_gpu.o.d -I/usr/local/lib/python3.10/dist-packages/torch/include -I/usr/local/lib/python3.10/dist-packages/torch/include/torch/csrc/api/include -I/usr/local/lib/python3.10/dist-packages/torch/include/TH -I/usr/local/lib/python3.10/dist-packages/torch/include/THC -I/usr/local/cuda/include -I/tmp/pip-req-build-c3dcs7ws/src -I/tmp/pip-req-build-c3dcs7ws/src/3rdparty -I/usr/include/python3.10 -c -c /tmp/pip-req-build-c3dcs7ws/src/broadcast_gpu.cu -o /tmp/pip-req-build-c3dcs7ws/build/temp.linux-x86_64-cpython-310/tmp/pip-req-build-c3dcs7ws/src/broadcast_gpu.o -D__CUDA_NO_HALF_OPERATORS__ -D__CUDA_NO_HALF_CONVERSIONS__ -D__CUDA_NO_BFLOAT16_CONVERSIONS__ -D__CUDA_NO_HALF2_OPERATORS__ --expt-relaxed-constexpr --compiler-options ''\"'\"'-fPIC'\"'\"'' --expt-relaxed-constexpr --expt-extended-lambda -O3 -Xcompiler=-fno-gnu-unique -DTORCH_API_INCLUDE_EXTENSION_H '-DPYBIND11_COMPILER_TYPE=\"_gcc\"' '-DPYBIND11_STDLIB=\"_libstdcpp\"' '-DPYBIND11_BUILD_ABI=\"_cxxabi1011\"' -DTORCH_EXTENSION_NAME=_C -D_GLIBCXX_USE_CXX11_ABI=0 -gencode=arch=compute_75,code=compute_75 -gencode=arch=compute_75,code=sm_75 -std=c++17\n",
            "  [4/21] /usr/local/cuda/bin/nvcc --generate-dependencies-with-compile --dependency-output /tmp/pip-req-build-c3dcs7ws/build/temp.linux-x86_64-cpython-310/tmp/pip-req-build-c3dcs7ws/src/convolution_kernel.o.d -I/usr/local/lib/python3.10/dist-packages/torch/include -I/usr/local/lib/python3.10/dist-packages/torch/include/torch/csrc/api/include -I/usr/local/lib/python3.10/dist-packages/torch/include/TH -I/usr/local/lib/python3.10/dist-packages/torch/include/THC -I/usr/local/cuda/include -I/tmp/pip-req-build-c3dcs7ws/src -I/tmp/pip-req-build-c3dcs7ws/src/3rdparty -I/usr/include/python3.10 -c -c /tmp/pip-req-build-c3dcs7ws/src/convolution_kernel.cu -o /tmp/pip-req-build-c3dcs7ws/build/temp.linux-x86_64-cpython-310/tmp/pip-req-build-c3dcs7ws/src/convolution_kernel.o -D__CUDA_NO_HALF_OPERATORS__ -D__CUDA_NO_HALF_CONVERSIONS__ -D__CUDA_NO_BFLOAT16_CONVERSIONS__ -D__CUDA_NO_HALF2_OPERATORS__ --expt-relaxed-constexpr --compiler-options ''\"'\"'-fPIC'\"'\"'' --expt-relaxed-constexpr --expt-extended-lambda -O3 -Xcompiler=-fno-gnu-unique -DTORCH_API_INCLUDE_EXTENSION_H '-DPYBIND11_COMPILER_TYPE=\"_gcc\"' '-DPYBIND11_STDLIB=\"_libstdcpp\"' '-DPYBIND11_BUILD_ABI=\"_cxxabi1011\"' -DTORCH_EXTENSION_NAME=_C -D_GLIBCXX_USE_CXX11_ABI=0 -gencode=arch=compute_75,code=compute_75 -gencode=arch=compute_75,code=sm_75 -std=c++17\n",
            "  /tmp/pip-req-build-c3dcs7ws/src/convolution_kernel.cu(334): warning #68-D: integer conversion resulted in a change of sign\n",
            "      size_t n_active_in_volume, shared_mem_size = -1;\n",
            "                                                   ^\n",
            "\n",
            "  Remark: The warnings can be suppressed with \"-diag-suppress <warning-number>\"\n",
            "\n",
            "  /tmp/pip-req-build-c3dcs7ws/src/convolution_kernel.cu(573): warning #68-D: integer conversion resulted in a change of sign\n",
            "      size_t n_active_in_volume, shared_mem_size = -1;\n",
            "                                                   ^\n",
            "\n",
            "  /tmp/pip-req-build-c3dcs7ws/src/convolution_kernel.cu(334): warning #68-D: integer conversion resulted in a change of sign\n",
            "      size_t n_active_in_volume, shared_mem_size = -1;\n",
            "                                                   ^\n",
            "\n",
            "  Remark: The warnings can be suppressed with \"-diag-suppress <warning-number>\"\n",
            "\n",
            "  /tmp/pip-req-build-c3dcs7ws/src/convolution_kernel.cu(573): warning #68-D: integer conversion resulted in a change of sign\n",
            "      size_t n_active_in_volume, shared_mem_size = -1;\n",
            "                                                   ^\n",
            "\n",
            "  [5/21] /usr/local/cuda/bin/nvcc --generate-dependencies-with-compile --dependency-output /tmp/pip-req-build-c3dcs7ws/build/temp.linux-x86_64-cpython-310/tmp/pip-req-build-c3dcs7ws/src/convolution_transpose_gpu.o.d -I/usr/local/lib/python3.10/dist-packages/torch/include -I/usr/local/lib/python3.10/dist-packages/torch/include/torch/csrc/api/include -I/usr/local/lib/python3.10/dist-packages/torch/include/TH -I/usr/local/lib/python3.10/dist-packages/torch/include/THC -I/usr/local/cuda/include -I/tmp/pip-req-build-c3dcs7ws/src -I/tmp/pip-req-build-c3dcs7ws/src/3rdparty -I/usr/include/python3.10 -c -c /tmp/pip-req-build-c3dcs7ws/src/convolution_transpose_gpu.cu -o /tmp/pip-req-build-c3dcs7ws/build/temp.linux-x86_64-cpython-310/tmp/pip-req-build-c3dcs7ws/src/convolution_transpose_gpu.o -D__CUDA_NO_HALF_OPERATORS__ -D__CUDA_NO_HALF_CONVERSIONS__ -D__CUDA_NO_BFLOAT16_CONVERSIONS__ -D__CUDA_NO_HALF2_OPERATORS__ --expt-relaxed-constexpr --compiler-options ''\"'\"'-fPIC'\"'\"'' --expt-relaxed-constexpr --expt-extended-lambda -O3 -Xcompiler=-fno-gnu-unique -DTORCH_API_INCLUDE_EXTENSION_H '-DPYBIND11_COMPILER_TYPE=\"_gcc\"' '-DPYBIND11_STDLIB=\"_libstdcpp\"' '-DPYBIND11_BUILD_ABI=\"_cxxabi1011\"' -DTORCH_EXTENSION_NAME=_C -D_GLIBCXX_USE_CXX11_ABI=0 -gencode=arch=compute_75,code=compute_75 -gencode=arch=compute_75,code=sm_75 -std=c++17\n",
            "  [6/21] c++ -MMD -MF /tmp/pip-req-build-c3dcs7ws/build/temp.linux-x86_64-cpython-310/tmp/pip-req-build-c3dcs7ws/src/direct_max_pool.o.d -Wno-unused-result -Wsign-compare -DNDEBUG -g -fwrapv -O2 -Wall -g -fstack-protector-strong -Wformat -Werror=format-security -g -fwrapv -O2 -fPIC -I/usr/local/lib/python3.10/dist-packages/torch/include -I/usr/local/lib/python3.10/dist-packages/torch/include/torch/csrc/api/include -I/usr/local/lib/python3.10/dist-packages/torch/include/TH -I/usr/local/lib/python3.10/dist-packages/torch/include/THC -I/usr/local/cuda/include -I/tmp/pip-req-build-c3dcs7ws/src -I/tmp/pip-req-build-c3dcs7ws/src/3rdparty -I/usr/include/python3.10 -c -c /tmp/pip-req-build-c3dcs7ws/src/direct_max_pool.cpp -o /tmp/pip-req-build-c3dcs7ws/build/temp.linux-x86_64-cpython-310/tmp/pip-req-build-c3dcs7ws/src/direct_max_pool.o -fopenmp -O3 -DTORCH_API_INCLUDE_EXTENSION_H '-DPYBIND11_COMPILER_TYPE=\"_gcc\"' '-DPYBIND11_STDLIB=\"_libstdcpp\"' '-DPYBIND11_BUILD_ABI=\"_cxxabi1011\"' -DTORCH_EXTENSION_NAME=_C -D_GLIBCXX_USE_CXX11_ABI=0 -std=c++17\n",
            "  [7/21] /usr/local/cuda/bin/nvcc --generate-dependencies-with-compile --dependency-output /tmp/pip-req-build-c3dcs7ws/build/temp.linux-x86_64-cpython-310/tmp/pip-req-build-c3dcs7ws/src/coordinate_map_gpu.o.d -I/usr/local/lib/python3.10/dist-packages/torch/include -I/usr/local/lib/python3.10/dist-packages/torch/include/torch/csrc/api/include -I/usr/local/lib/python3.10/dist-packages/torch/include/TH -I/usr/local/lib/python3.10/dist-packages/torch/include/THC -I/usr/local/cuda/include -I/tmp/pip-req-build-c3dcs7ws/src -I/tmp/pip-req-build-c3dcs7ws/src/3rdparty -I/usr/include/python3.10 -c -c /tmp/pip-req-build-c3dcs7ws/src/coordinate_map_gpu.cu -o /tmp/pip-req-build-c3dcs7ws/build/temp.linux-x86_64-cpython-310/tmp/pip-req-build-c3dcs7ws/src/coordinate_map_gpu.o -D__CUDA_NO_HALF_OPERATORS__ -D__CUDA_NO_HALF_CONVERSIONS__ -D__CUDA_NO_BFLOAT16_CONVERSIONS__ -D__CUDA_NO_HALF2_OPERATORS__ --expt-relaxed-constexpr --compiler-options ''\"'\"'-fPIC'\"'\"'' --expt-relaxed-constexpr --expt-extended-lambda -O3 -Xcompiler=-fno-gnu-unique -DTORCH_API_INCLUDE_EXTENSION_H '-DPYBIND11_COMPILER_TYPE=\"_gcc\"' '-DPYBIND11_STDLIB=\"_libstdcpp\"' '-DPYBIND11_BUILD_ABI=\"_cxxabi1011\"' -DTORCH_EXTENSION_NAME=_C -D_GLIBCXX_USE_CXX11_ABI=0 -gencode=arch=compute_75,code=compute_75 -gencode=arch=compute_75,code=sm_75 -std=c++17\n",
            "  /tmp/pip-req-build-c3dcs7ws/src/kernel_region.hpp(428): warning #20014-D: calling a __host__ function from a __host__ __device__ function is not allowed\n",
            "          : base_type{other.region_type(), other.coordinate_size(),\n",
            "            ^\n",
            "            detected during:\n",
            "              instantiation of \"minkowski::gpu_kernel_region<coordinate_type>::gpu_kernel_region(const minkowski::cpu_kernel_region<coordinate_type> &) [with coordinate_type=int32_t]\" at line 626 of /tmp/pip-req-build-c3dcs7ws/src/coordinate_map_gpu.cu\n",
            "              instantiation of \"minkowski::CoordinateMapGPU<coordinate_type, TemplatedAllocator>::self_type minkowski::CoordinateMapGPU<coordinate_type, TemplatedAllocator>::stride_region(minkowski::cpu_kernel_region<coordinate_type> &, const minkowski::CoordinateMapGPU<coordinate_type, TemplatedAllocator>::stride_type &) const [with coordinate_type=int32_t, TemplatedAllocator=minkowski::detail::default_allocator]\" at line 2461 of /tmp/pip-req-build-c3dcs7ws/src/coordinate_map_gpu.cu\n",
            "\n",
            "  Remark: The warnings can be suppressed with \"-diag-suppress <warning-number>\"\n",
            "\n",
            "  /tmp/pip-req-build-c3dcs7ws/src/kernel_region.hpp(428): warning #20014-D: calling a __host__ function from a __host__ __device__ function is not allowed\n",
            "          : base_type{other.region_type(), other.coordinate_size(),\n",
            "            ^\n",
            "            detected during:\n",
            "              instantiation of \"minkowski::gpu_kernel_region<coordinate_type>::gpu_kernel_region(const minkowski::cpu_kernel_region<coordinate_type> &) [with coordinate_type=int32_t]\" at line 626 of /tmp/pip-req-build-c3dcs7ws/src/coordinate_map_gpu.cu\n",
            "              instantiation of \"minkowski::CoordinateMapGPU<coordinate_type, TemplatedAllocator>::self_type minkowski::CoordinateMapGPU<coordinate_type, TemplatedAllocator>::stride_region(minkowski::cpu_kernel_region<coordinate_type> &, const minkowski::CoordinateMapGPU<coordinate_type, TemplatedAllocator>::stride_type &) const [with coordinate_type=int32_t, TemplatedAllocator=minkowski::detail::default_allocator]\" at line 2461 of /tmp/pip-req-build-c3dcs7ws/src/coordinate_map_gpu.cu\n",
            "\n",
            "  /tmp/pip-req-build-c3dcs7ws/src/kernel_region.hpp(428): warning #20014-D: calling a __host__ function from a __host__ __device__ function is not allowed\n",
            "          : base_type{other.region_type(), other.coordinate_size(),\n",
            "            ^\n",
            "            detected during:\n",
            "              instantiation of \"minkowski::gpu_kernel_region<coordinate_type>::gpu_kernel_region(const minkowski::cpu_kernel_region<coordinate_type> &) [with coordinate_type=int32_t]\" at line 626 of /tmp/pip-req-build-c3dcs7ws/src/coordinate_map_gpu.cu\n",
            "              instantiation of \"minkowski::CoordinateMapGPU<coordinate_type, TemplatedAllocator>::self_type minkowski::CoordinateMapGPU<coordinate_type, TemplatedAllocator>::stride_region(minkowski::cpu_kernel_region<coordinate_type> &, const minkowski::CoordinateMapGPU<coordinate_type, TemplatedAllocator>::stride_type &) const [with coordinate_type=int32_t, TemplatedAllocator=minkowski::detail::default_allocator]\" at line 2461 of /tmp/pip-req-build-c3dcs7ws/src/coordinate_map_gpu.cu\n",
            "\n",
            "  /tmp/pip-req-build-c3dcs7ws/src/kernel_region.hpp(428): warning #20014-D: calling a __host__ function from a __host__ __device__ function is not allowed\n",
            "          : base_type{other.region_type(), other.coordinate_size(),\n",
            "            ^\n",
            "            detected during:\n",
            "              instantiation of \"minkowski::gpu_kernel_region<coordinate_type>::gpu_kernel_region(const minkowski::cpu_kernel_region<coordinate_type> &) [with coordinate_type=int32_t]\" at line 626 of /tmp/pip-req-build-c3dcs7ws/src/coordinate_map_gpu.cu\n",
            "              instantiation of \"minkowski::CoordinateMapGPU<coordinate_type, TemplatedAllocator>::self_type minkowski::CoordinateMapGPU<coordinate_type, TemplatedAllocator>::stride_region(minkowski::cpu_kernel_region<coordinate_type> &, const minkowski::CoordinateMapGPU<coordinate_type, TemplatedAllocator>::stride_type &) const [with coordinate_type=int32_t, TemplatedAllocator=minkowski::detail::default_allocator]\" at line 2461 of /tmp/pip-req-build-c3dcs7ws/src/coordinate_map_gpu.cu\n",
            "\n",
            "  /tmp/pip-req-build-c3dcs7ws/src/kernel_region.hpp(429): warning #20011-D: calling a __host__ function(\"minkowski::cpu_kernel_region<int> ::device_tensor_stride() const\") from a __host__ __device__ function(\"minkowski::gpu_kernel_region<int> ::gpu_kernel_region\") is not allowed\n",
            "\n",
            "  /tmp/pip-req-build-c3dcs7ws/src/kernel_region.hpp(429): warning #20011-D: calling a __host__ function(\"minkowski::cpu_kernel_region<int> ::device_kernel_size() const\") from a __host__ __device__ function(\"minkowski::gpu_kernel_region<int> ::gpu_kernel_region\") is not allowed\n",
            "\n",
            "  /tmp/pip-req-build-c3dcs7ws/src/kernel_region.hpp(430): warning #20011-D: calling a __host__ function(\"minkowski::cpu_kernel_region<int> ::device_dilation() const\") from a __host__ __device__ function(\"minkowski::gpu_kernel_region<int> ::gpu_kernel_region\") is not allowed\n",
            "\n",
            "  /tmp/pip-req-build-c3dcs7ws/src/kernel_region.hpp(431): warning #20011-D: calling a __host__ function(\"minkowski::cpu_kernel_region<int> ::device_offset() const\") from a __host__ __device__ function(\"minkowski::gpu_kernel_region<int> ::gpu_kernel_region\") is not allowed\n",
            "\n",
            "  [8/21] /usr/local/cuda/bin/nvcc --generate-dependencies-with-compile --dependency-output /tmp/pip-req-build-c3dcs7ws/build/temp.linux-x86_64-cpython-310/tmp/pip-req-build-c3dcs7ws/src/gpu.o.d -I/usr/local/lib/python3.10/dist-packages/torch/include -I/usr/local/lib/python3.10/dist-packages/torch/include/torch/csrc/api/include -I/usr/local/lib/python3.10/dist-packages/torch/include/TH -I/usr/local/lib/python3.10/dist-packages/torch/include/THC -I/usr/local/cuda/include -I/tmp/pip-req-build-c3dcs7ws/src -I/tmp/pip-req-build-c3dcs7ws/src/3rdparty -I/usr/include/python3.10 -c -c /tmp/pip-req-build-c3dcs7ws/src/gpu.cu -o /tmp/pip-req-build-c3dcs7ws/build/temp.linux-x86_64-cpython-310/tmp/pip-req-build-c3dcs7ws/src/gpu.o -D__CUDA_NO_HALF_OPERATORS__ -D__CUDA_NO_HALF_CONVERSIONS__ -D__CUDA_NO_BFLOAT16_CONVERSIONS__ -D__CUDA_NO_HALF2_OPERATORS__ --expt-relaxed-constexpr --compiler-options ''\"'\"'-fPIC'\"'\"'' --expt-relaxed-constexpr --expt-extended-lambda -O3 -Xcompiler=-fno-gnu-unique -DTORCH_API_INCLUDE_EXTENSION_H '-DPYBIND11_COMPILER_TYPE=\"_gcc\"' '-DPYBIND11_STDLIB=\"_libstdcpp\"' '-DPYBIND11_BUILD_ABI=\"_cxxabi1011\"' -DTORCH_EXTENSION_NAME=_C -D_GLIBCXX_USE_CXX11_ABI=0 -gencode=arch=compute_75,code=compute_75 -gencode=arch=compute_75,code=sm_75 -std=c++17\n",
            "  /tmp/pip-req-build-c3dcs7ws/src/gpu.cu(104): warning #177-D: function \"minkowski::format_size\" was declared but never referenced\n",
            "    static std::string format_size(uint64_t size) {\n",
            "                       ^\n",
            "\n",
            "  Remark: The warnings can be suppressed with \"-diag-suppress <warning-number>\"\n",
            "\n",
            "  [9/21] /usr/local/cuda/bin/nvcc --generate-dependencies-with-compile --dependency-output /tmp/pip-req-build-c3dcs7ws/build/temp.linux-x86_64-cpython-310/tmp/pip-req-build-c3dcs7ws/src/coordinate_map_manager.o.d -I/usr/local/lib/python3.10/dist-packages/torch/include -I/usr/local/lib/python3.10/dist-packages/torch/include/torch/csrc/api/include -I/usr/local/lib/python3.10/dist-packages/torch/include/TH -I/usr/local/lib/python3.10/dist-packages/torch/include/THC -I/usr/local/cuda/include -I/tmp/pip-req-build-c3dcs7ws/src -I/tmp/pip-req-build-c3dcs7ws/src/3rdparty -I/usr/include/python3.10 -c -c /tmp/pip-req-build-c3dcs7ws/src/coordinate_map_manager.cu -o /tmp/pip-req-build-c3dcs7ws/build/temp.linux-x86_64-cpython-310/tmp/pip-req-build-c3dcs7ws/src/coordinate_map_manager.o -D__CUDA_NO_HALF_OPERATORS__ -D__CUDA_NO_HALF_CONVERSIONS__ -D__CUDA_NO_BFLOAT16_CONVERSIONS__ -D__CUDA_NO_HALF2_OPERATORS__ --expt-relaxed-constexpr --compiler-options ''\"'\"'-fPIC'\"'\"'' --expt-relaxed-constexpr --expt-extended-lambda -O3 -Xcompiler=-fno-gnu-unique -DTORCH_API_INCLUDE_EXTENSION_H '-DPYBIND11_COMPILER_TYPE=\"_gcc\"' '-DPYBIND11_STDLIB=\"_libstdcpp\"' '-DPYBIND11_BUILD_ABI=\"_cxxabi1011\"' -DTORCH_EXTENSION_NAME=_C -D_GLIBCXX_USE_CXX11_ABI=0 -gencode=arch=compute_75,code=compute_75 -gencode=arch=compute_75,code=sm_75 -std=c++17\n",
            "  /tmp/pip-req-build-c3dcs7ws/src/coordinate_map_manager.cpp(717): warning #430-D: returning reference to local temporary\n",
            "          return detail::empty_map_functor<coordinate_type, TemplatedAllocator,\n",
            "                 ^\n",
            "            detected during instantiation of \"const minkowski::CoordinateMapManager<coordinate_type, coordinate_field_type, TemplatedAllocator, CoordinateMapType>::kernel_map_type &minkowski::CoordinateMapManager<coordinate_type, coordinate_field_type, TemplatedAllocator, CoordinateMapType>::kernel_map(const minkowski::CoordinateMapKey *, const minkowski::CoordinateMapKey *, const minkowski::CoordinateMapManager<coordinate_type, coordinate_field_type, TemplatedAllocator, CoordinateMapType>::stride_type &, const minkowski::CoordinateMapManager<coordinate_type, coordinate_field_type, TemplatedAllocator, CoordinateMapType>::stride_type &, const minkowski::CoordinateMapManager<coordinate_type, coordinate_field_type, TemplatedAllocator, CoordinateMapType>::stride_type &, minkowski::RegionType::Type, const at::Tensor &, bool, bool) [with coordinate_type=int32_t, coordinate_field_type=float, TemplatedAllocator=std::allocator, CoordinateMapType=minkowski::CoordinateMapCPU]\" at line 1451\n",
            "\n",
            "  Remark: The warnings can be suppressed with \"-diag-suppress <warning-number>\"\n",
            "\n",
            "  /tmp/pip-req-build-c3dcs7ws/src/coordinate_map_manager.cpp(717): warning #430-D: returning reference to local temporary\n",
            "          return detail::empty_map_functor<coordinate_type, TemplatedAllocator,\n",
            "                 ^\n",
            "            detected during instantiation of \"const minkowski::CoordinateMapManager<coordinate_type, coordinate_field_type, TemplatedAllocator, CoordinateMapType>::kernel_map_type &minkowski::CoordinateMapManager<coordinate_type, coordinate_field_type, TemplatedAllocator, CoordinateMapType>::kernel_map(const minkowski::CoordinateMapKey *, const minkowski::CoordinateMapKey *, const minkowski::CoordinateMapManager<coordinate_type, coordinate_field_type, TemplatedAllocator, CoordinateMapType>::stride_type &, const minkowski::CoordinateMapManager<coordinate_type, coordinate_field_type, TemplatedAllocator, CoordinateMapType>::stride_type &, const minkowski::CoordinateMapManager<coordinate_type, coordinate_field_type, TemplatedAllocator, CoordinateMapType>::stride_type &, minkowski::RegionType::Type, const at::Tensor &, bool, bool) [with coordinate_type=int32_t, coordinate_field_type=float, TemplatedAllocator=minkowski::detail::default_allocator, CoordinateMapType=minkowski::CoordinateMapGPU]\" at line 401 of /tmp/pip-req-build-c3dcs7ws/src/coordinate_map_manager.cu\n",
            "\n",
            "  /tmp/pip-req-build-c3dcs7ws/src/coordinate_map_manager.cpp(717): warning #430-D: returning reference to local temporary\n",
            "          return detail::empty_map_functor<coordinate_type, TemplatedAllocator,\n",
            "                 ^\n",
            "            detected during instantiation of \"const minkowski::CoordinateMapManager<coordinate_type, coordinate_field_type, TemplatedAllocator, CoordinateMapType>::kernel_map_type &minkowski::CoordinateMapManager<coordinate_type, coordinate_field_type, TemplatedAllocator, CoordinateMapType>::kernel_map(const minkowski::CoordinateMapKey *, const minkowski::CoordinateMapKey *, const minkowski::CoordinateMapManager<coordinate_type, coordinate_field_type, TemplatedAllocator, CoordinateMapType>::stride_type &, const minkowski::CoordinateMapManager<coordinate_type, coordinate_field_type, TemplatedAllocator, CoordinateMapType>::stride_type &, const minkowski::CoordinateMapManager<coordinate_type, coordinate_field_type, TemplatedAllocator, CoordinateMapType>::stride_type &, minkowski::RegionType::Type, const at::Tensor &, bool, bool) [with coordinate_type=int32_t, coordinate_field_type=float, TemplatedAllocator=minkowski::detail::c10_allocator, CoordinateMapType=minkowski::CoordinateMapGPU]\" at line 404 of /tmp/pip-req-build-c3dcs7ws/src/coordinate_map_manager.cu\n",
            "\n",
            "  /tmp/pip-req-build-c3dcs7ws/src/coordinate_map_cpu.hpp(58): warning #177-D: variable \"float_type\" was declared but never referenced\n",
            "      at::ScalarType const float_type =\n",
            "                           ^\n",
            "            detected during:\n",
            "              instantiation of \"std::pair<at::Tensor, at::Tensor> minkowski::CoordinateMapCPU<coordinate_type, TemplatedAllocator>::field_map(const coordinate_field_type *, minkowski::CoordinateMapCPU<coordinate_type, TemplatedAllocator>::size_type) const [with coordinate_type=int32_t, TemplatedAllocator=std::allocator, coordinate_field_type=float]\" at line 329 of /tmp/pip-req-build-c3dcs7ws/src/coordinate_map_manager.cpp\n",
            "              instantiation of \"std::pair<at::Tensor, at::Tensor> minkowski::CoordinateMapManager<coordinate_type, coordinate_field_type, TemplatedAllocator, CoordinateMapType>::field_to_sparse_map(const minkowski::CoordinateMapKey *, const minkowski::CoordinateMapKey *) [with coordinate_type=int32_t, coordinate_field_type=float, TemplatedAllocator=std::allocator, CoordinateMapType=minkowski::CoordinateMapCPU]\" at line 1451 of /tmp/pip-req-build-c3dcs7ws/src/coordinate_map_manager.cpp\n",
            "\n",
            "  Remark: The warnings can be suppressed with \"-diag-suppress <warning-number>\"\n",
            "\n",
            "  /tmp/pip-req-build-c3dcs7ws/src/coordinate_map_manager.cpp(717): warning #430-D: returning reference to local temporary\n",
            "          return detail::empty_map_functor<coordinate_type, TemplatedAllocator,\n",
            "                 ^\n",
            "            detected during instantiation of \"const minkowski::CoordinateMapManager<coordinate_type, coordinate_field_type, TemplatedAllocator, CoordinateMapType>::kernel_map_type &minkowski::CoordinateMapManager<coordinate_type, coordinate_field_type, TemplatedAllocator, CoordinateMapType>::kernel_map(const minkowski::CoordinateMapKey *, const minkowski::CoordinateMapKey *, const minkowski::CoordinateMapManager<coordinate_type, coordinate_field_type, TemplatedAllocator, CoordinateMapType>::stride_type &, const minkowski::CoordinateMapManager<coordinate_type, coordinate_field_type, TemplatedAllocator, CoordinateMapType>::stride_type &, const minkowski::CoordinateMapManager<coordinate_type, coordinate_field_type, TemplatedAllocator, CoordinateMapType>::stride_type &, minkowski::RegionType::Type, const at::Tensor &, __nv_bool, __nv_bool) [with coordinate_type=int32_t, coordinate_field_type=float, TemplatedAllocator=std::allocator, CoordinateMapType=minkowski::CoordinateMapCPU]\" at line 1451\n",
            "\n",
            "  /tmp/pip-req-build-c3dcs7ws/src/coordinate_map_manager.cpp(717): warning #430-D: returning reference to local temporary\n",
            "          return detail::empty_map_functor<coordinate_type, TemplatedAllocator,\n",
            "                 ^\n",
            "            detected during instantiation of \"const minkowski::CoordinateMapManager<coordinate_type, coordinate_field_type, TemplatedAllocator, CoordinateMapType>::kernel_map_type &minkowski::CoordinateMapManager<coordinate_type, coordinate_field_type, TemplatedAllocator, CoordinateMapType>::kernel_map(const minkowski::CoordinateMapKey *, const minkowski::CoordinateMapKey *, const minkowski::CoordinateMapManager<coordinate_type, coordinate_field_type, TemplatedAllocator, CoordinateMapType>::stride_type &, const minkowski::CoordinateMapManager<coordinate_type, coordinate_field_type, TemplatedAllocator, CoordinateMapType>::stride_type &, const minkowski::CoordinateMapManager<coordinate_type, coordinate_field_type, TemplatedAllocator, CoordinateMapType>::stride_type &, minkowski::RegionType::Type, const at::Tensor &, __nv_bool, __nv_bool) [with coordinate_type=int32_t, coordinate_field_type=float, TemplatedAllocator=minkowski::detail::default_allocator, CoordinateMapType=minkowski::CoordinateMapGPU]\" at line 401 of /tmp/pip-req-build-c3dcs7ws/src/coordinate_map_manager.cu\n",
            "\n",
            "  /tmp/pip-req-build-c3dcs7ws/src/kernel_region.hpp(428): warning #20014-D: calling a __host__ function from a __host__ __device__ function is not allowed\n",
            "          : base_type{other.region_type(), other.coordinate_size(),\n",
            "            ^\n",
            "            detected during:\n",
            "              instantiation of \"minkowski::gpu_kernel_region<coordinate_type>::gpu_kernel_region(const minkowski::cpu_kernel_region<coordinate_type> &) [with coordinate_type=int32_t]\" at line 205 of /tmp/pip-req-build-c3dcs7ws/src/coordinate_map_manager.cu\n",
            "              instantiation of \"minkowski::gpu_kernel_map<minkowski::type_wrapper<uint32_t, int32_t, float>::index_type, TemplatedAllocator<char>> minkowski::detail::kernel_map_functor<coordinate_type, TemplatedAllocator, minkowski::CoordinateMapGPU, minkowski::gpu_kernel_map<minkowski::type_wrapper<uint32_t, int32_t, float>::index_type, TemplatedAllocator<char>>>::operator()(const minkowski::CoordinateMapGPU<coordinate_type, TemplatedAllocator> &, const minkowski::CoordinateMapGPU<coordinate_type, TemplatedAllocator> &, minkowski::CUDAKernelMapMode::Mode, minkowski::cpu_kernel_region<coordinate_type> &) [with coordinate_type=int32_t, TemplatedAllocator=minkowski::detail::default_allocator]\" at line 753 of /tmp/pip-req-build-c3dcs7ws/src/coordinate_map_manager.cpp\n",
            "              instantiation of \"const minkowski::CoordinateMapManager<coordinate_type, coordinate_field_type, TemplatedAllocator, CoordinateMapType>::kernel_map_type &minkowski::CoordinateMapManager<coordinate_type, coordinate_field_type, TemplatedAllocator, CoordinateMapType>::kernel_map(const minkowski::CoordinateMapKey *, const minkowski::CoordinateMapKey *, const minkowski::CoordinateMapManager<coordinate_type, coordinate_field_type, TemplatedAllocator, CoordinateMapType>::stride_type &, const minkowski::CoordinateMapManager<coordinate_type, coordinate_field_type, TemplatedAllocator, CoordinateMapType>::stride_type &, const minkowski::CoordinateMapManager<coordinate_type, coordinate_field_type, TemplatedAllocator, CoordinateMapType>::stride_type &, minkowski::RegionType::Type, const at::Tensor &, __nv_bool, __nv_bool) [with coordinate_type=int32_t, coordinate_field_type=float, TemplatedAllocator=minkowski::detail::default_allocator, CoordinateMapType=minkowski::CoordinateMapGPU]\" at line 401 of /tmp/pip-req-build-c3dcs7ws/src/coordinate_map_manager.cu\n",
            "\n",
            "  /tmp/pip-req-build-c3dcs7ws/src/kernel_region.hpp(428): warning #20014-D: calling a __host__ function from a __host__ __device__ function is not allowed\n",
            "          : base_type{other.region_type(), other.coordinate_size(),\n",
            "            ^\n",
            "            detected during:\n",
            "              instantiation of \"minkowski::gpu_kernel_region<coordinate_type>::gpu_kernel_region(const minkowski::cpu_kernel_region<coordinate_type> &) [with coordinate_type=int32_t]\" at line 205 of /tmp/pip-req-build-c3dcs7ws/src/coordinate_map_manager.cu\n",
            "              instantiation of \"minkowski::gpu_kernel_map<minkowski::type_wrapper<uint32_t, int32_t, float>::index_type, TemplatedAllocator<char>> minkowski::detail::kernel_map_functor<coordinate_type, TemplatedAllocator, minkowski::CoordinateMapGPU, minkowski::gpu_kernel_map<minkowski::type_wrapper<uint32_t, int32_t, float>::index_type, TemplatedAllocator<char>>>::operator()(const minkowski::CoordinateMapGPU<coordinate_type, TemplatedAllocator> &, const minkowski::CoordinateMapGPU<coordinate_type, TemplatedAllocator> &, minkowski::CUDAKernelMapMode::Mode, minkowski::cpu_kernel_region<coordinate_type> &) [with coordinate_type=int32_t, TemplatedAllocator=minkowski::detail::default_allocator]\" at line 753 of /tmp/pip-req-build-c3dcs7ws/src/coordinate_map_manager.cpp\n",
            "              instantiation of \"const minkowski::CoordinateMapManager<coordinate_type, coordinate_field_type, TemplatedAllocator, CoordinateMapType>::kernel_map_type &minkowski::CoordinateMapManager<coordinate_type, coordinate_field_type, TemplatedAllocator, CoordinateMapType>::kernel_map(const minkowski::CoordinateMapKey *, const minkowski::CoordinateMapKey *, const minkowski::CoordinateMapManager<coordinate_type, coordinate_field_type, TemplatedAllocator, CoordinateMapType>::stride_type &, const minkowski::CoordinateMapManager<coordinate_type, coordinate_field_type, TemplatedAllocator, CoordinateMapType>::stride_type &, const minkowski::CoordinateMapManager<coordinate_type, coordinate_field_type, TemplatedAllocator, CoordinateMapType>::stride_type &, minkowski::RegionType::Type, const at::Tensor &, __nv_bool, __nv_bool) [with coordinate_type=int32_t, coordinate_field_type=float, TemplatedAllocator=minkowski::detail::default_allocator, CoordinateMapType=minkowski::CoordinateMapGPU]\" at line 401 of /tmp/pip-req-build-c3dcs7ws/src/coordinate_map_manager.cu\n",
            "\n",
            "  /tmp/pip-req-build-c3dcs7ws/src/kernel_region.hpp(428): warning #20014-D: calling a __host__ function from a __host__ __device__ function is not allowed\n",
            "          : base_type{other.region_type(), other.coordinate_size(),\n",
            "            ^\n",
            "            detected during:\n",
            "              instantiation of \"minkowski::gpu_kernel_region<coordinate_type>::gpu_kernel_region(const minkowski::cpu_kernel_region<coordinate_type> &) [with coordinate_type=int32_t]\" at line 205 of /tmp/pip-req-build-c3dcs7ws/src/coordinate_map_manager.cu\n",
            "              instantiation of \"minkowski::gpu_kernel_map<minkowski::type_wrapper<uint32_t, int32_t, float>::index_type, TemplatedAllocator<char>> minkowski::detail::kernel_map_functor<coordinate_type, TemplatedAllocator, minkowski::CoordinateMapGPU, minkowski::gpu_kernel_map<minkowski::type_wrapper<uint32_t, int32_t, float>::index_type, TemplatedAllocator<char>>>::operator()(const minkowski::CoordinateMapGPU<coordinate_type, TemplatedAllocator> &, const minkowski::CoordinateMapGPU<coordinate_type, TemplatedAllocator> &, minkowski::CUDAKernelMapMode::Mode, minkowski::cpu_kernel_region<coordinate_type> &) [with coordinate_type=int32_t, TemplatedAllocator=minkowski::detail::default_allocator]\" at line 753 of /tmp/pip-req-build-c3dcs7ws/src/coordinate_map_manager.cpp\n",
            "              instantiation of \"const minkowski::CoordinateMapManager<coordinate_type, coordinate_field_type, TemplatedAllocator, CoordinateMapType>::kernel_map_type &minkowski::CoordinateMapManager<coordinate_type, coordinate_field_type, TemplatedAllocator, CoordinateMapType>::kernel_map(const minkowski::CoordinateMapKey *, const minkowski::CoordinateMapKey *, const minkowski::CoordinateMapManager<coordinate_type, coordinate_field_type, TemplatedAllocator, CoordinateMapType>::stride_type &, const minkowski::CoordinateMapManager<coordinate_type, coordinate_field_type, TemplatedAllocator, CoordinateMapType>::stride_type &, const minkowski::CoordinateMapManager<coordinate_type, coordinate_field_type, TemplatedAllocator, CoordinateMapType>::stride_type &, minkowski::RegionType::Type, const at::Tensor &, __nv_bool, __nv_bool) [with coordinate_type=int32_t, coordinate_field_type=float, TemplatedAllocator=minkowski::detail::default_allocator, CoordinateMapType=minkowski::CoordinateMapGPU]\" at line 401 of /tmp/pip-req-build-c3dcs7ws/src/coordinate_map_manager.cu\n",
            "\n",
            "  /tmp/pip-req-build-c3dcs7ws/src/kernel_region.hpp(428): warning #20014-D: calling a __host__ function from a __host__ __device__ function is not allowed\n",
            "          : base_type{other.region_type(), other.coordinate_size(),\n",
            "            ^\n",
            "            detected during:\n",
            "              instantiation of \"minkowski::gpu_kernel_region<coordinate_type>::gpu_kernel_region(const minkowski::cpu_kernel_region<coordinate_type> &) [with coordinate_type=int32_t]\" at line 205 of /tmp/pip-req-build-c3dcs7ws/src/coordinate_map_manager.cu\n",
            "              instantiation of \"minkowski::gpu_kernel_map<minkowski::type_wrapper<uint32_t, int32_t, float>::index_type, TemplatedAllocator<char>> minkowski::detail::kernel_map_functor<coordinate_type, TemplatedAllocator, minkowski::CoordinateMapGPU, minkowski::gpu_kernel_map<minkowski::type_wrapper<uint32_t, int32_t, float>::index_type, TemplatedAllocator<char>>>::operator()(const minkowski::CoordinateMapGPU<coordinate_type, TemplatedAllocator> &, const minkowski::CoordinateMapGPU<coordinate_type, TemplatedAllocator> &, minkowski::CUDAKernelMapMode::Mode, minkowski::cpu_kernel_region<coordinate_type> &) [with coordinate_type=int32_t, TemplatedAllocator=minkowski::detail::default_allocator]\" at line 753 of /tmp/pip-req-build-c3dcs7ws/src/coordinate_map_manager.cpp\n",
            "              instantiation of \"const minkowski::CoordinateMapManager<coordinate_type, coordinate_field_type, TemplatedAllocator, CoordinateMapType>::kernel_map_type &minkowski::CoordinateMapManager<coordinate_type, coordinate_field_type, TemplatedAllocator, CoordinateMapType>::kernel_map(const minkowski::CoordinateMapKey *, const minkowski::CoordinateMapKey *, const minkowski::CoordinateMapManager<coordinate_type, coordinate_field_type, TemplatedAllocator, CoordinateMapType>::stride_type &, const minkowski::CoordinateMapManager<coordinate_type, coordinate_field_type, TemplatedAllocator, CoordinateMapType>::stride_type &, const minkowski::CoordinateMapManager<coordinate_type, coordinate_field_type, TemplatedAllocator, CoordinateMapType>::stride_type &, minkowski::RegionType::Type, const at::Tensor &, __nv_bool, __nv_bool) [with coordinate_type=int32_t, coordinate_field_type=float, TemplatedAllocator=minkowski::detail::default_allocator, CoordinateMapType=minkowski::CoordinateMapGPU]\" at line 401 of /tmp/pip-req-build-c3dcs7ws/src/coordinate_map_manager.cu\n",
            "\n",
            "  /tmp/pip-req-build-c3dcs7ws/src/coordinate_map_manager.cpp(717): warning #430-D: returning reference to local temporary\n",
            "          return detail::empty_map_functor<coordinate_type, TemplatedAllocator,\n",
            "                 ^\n",
            "            detected during instantiation of \"const minkowski::CoordinateMapManager<coordinate_type, coordinate_field_type, TemplatedAllocator, CoordinateMapType>::kernel_map_type &minkowski::CoordinateMapManager<coordinate_type, coordinate_field_type, TemplatedAllocator, CoordinateMapType>::kernel_map(const minkowski::CoordinateMapKey *, const minkowski::CoordinateMapKey *, const minkowski::CoordinateMapManager<coordinate_type, coordinate_field_type, TemplatedAllocator, CoordinateMapType>::stride_type &, const minkowski::CoordinateMapManager<coordinate_type, coordinate_field_type, TemplatedAllocator, CoordinateMapType>::stride_type &, const minkowski::CoordinateMapManager<coordinate_type, coordinate_field_type, TemplatedAllocator, CoordinateMapType>::stride_type &, minkowski::RegionType::Type, const at::Tensor &, __nv_bool, __nv_bool) [with coordinate_type=int32_t, coordinate_field_type=float, TemplatedAllocator=minkowski::detail::c10_allocator, CoordinateMapType=minkowski::CoordinateMapGPU]\" at line 404 of /tmp/pip-req-build-c3dcs7ws/src/coordinate_map_manager.cu\n",
            "\n",
            "  /tmp/pip-req-build-c3dcs7ws/src/kernel_region.hpp(429): warning #20011-D: calling a __host__ function(\"minkowski::cpu_kernel_region<int> ::device_tensor_stride() const\") from a __host__ __device__ function(\"minkowski::gpu_kernel_region<int> ::gpu_kernel_region\") is not allowed\n",
            "\n",
            "  /tmp/pip-req-build-c3dcs7ws/src/kernel_region.hpp(429): warning #20011-D: calling a __host__ function(\"minkowski::cpu_kernel_region<int> ::device_kernel_size() const\") from a __host__ __device__ function(\"minkowski::gpu_kernel_region<int> ::gpu_kernel_region\") is not allowed\n",
            "\n",
            "  /tmp/pip-req-build-c3dcs7ws/src/kernel_region.hpp(430): warning #20011-D: calling a __host__ function(\"minkowski::cpu_kernel_region<int> ::device_dilation() const\") from a __host__ __device__ function(\"minkowski::gpu_kernel_region<int> ::gpu_kernel_region\") is not allowed\n",
            "\n",
            "  /tmp/pip-req-build-c3dcs7ws/src/kernel_region.hpp(431): warning #20011-D: calling a __host__ function(\"minkowski::cpu_kernel_region<int> ::device_offset() const\") from a __host__ __device__ function(\"minkowski::gpu_kernel_region<int> ::gpu_kernel_region\") is not allowed\n",
            "\n",
            "  /tmp/pip-req-build-c3dcs7ws/src/coordinate_map_manager.cpp: In instantiation of ‘const kernel_map_type& minkowski::CoordinateMapManager<coordinate_type, coordinate_field_type, TemplatedAllocator, CoordinateMapType>::kernel_map(const minkowski::CoordinateMapKey*, const minkowski::CoordinateMapKey*, const stride_type&, const stride_type&, const stride_type&, minkowski::RegionType::Type, const at::Tensor&, bool, bool) [with coordinate_type = int; coordinate_field_type = float; TemplatedAllocator = std::allocator; CoordinateMapType = minkowski::CoordinateMapCPU; minkowski::CoordinateMapManager<coordinate_type, coordinate_field_type, TemplatedAllocator, CoordinateMapType>::kernel_map_type = minkowski::cpu_kernel_map; minkowski::CoordinateMapManager<coordinate_type, coordinate_field_type, TemplatedAllocator, CoordinateMapType>::stride_type = std::vector<unsigned int, std::allocator<unsigned int> >]’:\n",
            "  /tmp/pip-req-build-c3dcs7ws/src/coordinate_map_manager.cpp:1451:16:   required from here\n",
            "  /tmp/pip-req-build-c3dcs7ws/src/coordinate_map_manager.cpp:717:260: warning: returning reference to temporary [-Wreturn-local-addr]\n",
            "    717 |       return detail::empty_map_functor<coordinate_type, TemplatedAllocator,\n",
            "        |                                                                                                                                                                                                                                                                    ^\n",
            "  /tmp/pip-req-build-c3dcs7ws/src/coordinate_map_manager.cpp: In instantiation of ‘const kernel_map_type& minkowski::CoordinateMapManager<coordinate_type, coordinate_field_type, TemplatedAllocator, CoordinateMapType>::kernel_map(const minkowski::CoordinateMapKey*, const minkowski::CoordinateMapKey*, const stride_type&, const stride_type&, const stride_type&, minkowski::RegionType::Type, const at::Tensor&, bool, bool) [with coordinate_type = int; coordinate_field_type = float; TemplatedAllocator = minkowski::detail::default_allocator; CoordinateMapType = minkowski::CoordinateMapGPU; minkowski::CoordinateMapManager<coordinate_type, coordinate_field_type, TemplatedAllocator, CoordinateMapType>::kernel_map_type = minkowski::gpu_kernel_map<unsigned int, minkowski::detail::default_allocator<char> >; minkowski::CoordinateMapManager<coordinate_type, coordinate_field_type, TemplatedAllocator, CoordinateMapType>::stride_type = std::vector<unsigned int, std::allocator<unsigned int> >]’:\n",
            "  /tmp/pip-req-build-c3dcs7ws/src/coordinate_map_manager.cu:401:16:   required from here\n",
            "  /tmp/pip-req-build-c3dcs7ws/src/coordinate_map_manager.cpp:717:260: warning: returning reference to temporary [-Wreturn-local-addr]\n",
            "  /tmp/pip-req-build-c3dcs7ws/src/coordinate_map_manager.cpp: In instantiation of ‘const kernel_map_type& minkowski::CoordinateMapManager<coordinate_type, coordinate_field_type, TemplatedAllocator, CoordinateMapType>::kernel_map(const minkowski::CoordinateMapKey*, const minkowski::CoordinateMapKey*, const stride_type&, const stride_type&, const stride_type&, minkowski::RegionType::Type, const at::Tensor&, bool, bool) [with coordinate_type = int; coordinate_field_type = float; TemplatedAllocator = minkowski::detail::c10_allocator; CoordinateMapType = minkowski::CoordinateMapGPU; minkowski::CoordinateMapManager<coordinate_type, coordinate_field_type, TemplatedAllocator, CoordinateMapType>::kernel_map_type = minkowski::gpu_kernel_map<unsigned int, minkowski::detail::c10_allocator<char> >; minkowski::CoordinateMapManager<coordinate_type, coordinate_field_type, TemplatedAllocator, CoordinateMapType>::stride_type = std::vector<unsigned int, std::allocator<unsigned int> >]’:\n",
            "  /tmp/pip-req-build-c3dcs7ws/src/coordinate_map_manager.cu:404:16:   required from here\n",
            "  /tmp/pip-req-build-c3dcs7ws/src/coordinate_map_manager.cpp:717:260: warning: returning reference to temporary [-Wreturn-local-addr]\n",
            "  [10/21] /usr/local/cuda/bin/nvcc --generate-dependencies-with-compile --dependency-output /tmp/pip-req-build-c3dcs7ws/build/temp.linux-x86_64-cpython-310/tmp/pip-req-build-c3dcs7ws/src/global_pooling_gpu.o.d -I/usr/local/lib/python3.10/dist-packages/torch/include -I/usr/local/lib/python3.10/dist-packages/torch/include/torch/csrc/api/include -I/usr/local/lib/python3.10/dist-packages/torch/include/TH -I/usr/local/lib/python3.10/dist-packages/torch/include/THC -I/usr/local/cuda/include -I/tmp/pip-req-build-c3dcs7ws/src -I/tmp/pip-req-build-c3dcs7ws/src/3rdparty -I/usr/include/python3.10 -c -c /tmp/pip-req-build-c3dcs7ws/src/global_pooling_gpu.cu -o /tmp/pip-req-build-c3dcs7ws/build/temp.linux-x86_64-cpython-310/tmp/pip-req-build-c3dcs7ws/src/global_pooling_gpu.o -D__CUDA_NO_HALF_OPERATORS__ -D__CUDA_NO_HALF_CONVERSIONS__ -D__CUDA_NO_BFLOAT16_CONVERSIONS__ -D__CUDA_NO_HALF2_OPERATORS__ --expt-relaxed-constexpr --compiler-options ''\"'\"'-fPIC'\"'\"'' --expt-relaxed-constexpr --expt-extended-lambda -O3 -Xcompiler=-fno-gnu-unique -DTORCH_API_INCLUDE_EXTENSION_H '-DPYBIND11_COMPILER_TYPE=\"_gcc\"' '-DPYBIND11_STDLIB=\"_libstdcpp\"' '-DPYBIND11_BUILD_ABI=\"_cxxabi1011\"' -DTORCH_EXTENSION_NAME=_C -D_GLIBCXX_USE_CXX11_ABI=0 -gencode=arch=compute_75,code=compute_75 -gencode=arch=compute_75,code=sm_75 -std=c++17\n",
            "  [11/21] /usr/local/cuda/bin/nvcc --generate-dependencies-with-compile --dependency-output /tmp/pip-req-build-c3dcs7ws/build/temp.linux-x86_64-cpython-310/tmp/pip-req-build-c3dcs7ws/src/interpolation_gpu.o.d -I/usr/local/lib/python3.10/dist-packages/torch/include -I/usr/local/lib/python3.10/dist-packages/torch/include/torch/csrc/api/include -I/usr/local/lib/python3.10/dist-packages/torch/include/TH -I/usr/local/lib/python3.10/dist-packages/torch/include/THC -I/usr/local/cuda/include -I/tmp/pip-req-build-c3dcs7ws/src -I/tmp/pip-req-build-c3dcs7ws/src/3rdparty -I/usr/include/python3.10 -c -c /tmp/pip-req-build-c3dcs7ws/src/interpolation_gpu.cu -o /tmp/pip-req-build-c3dcs7ws/build/temp.linux-x86_64-cpython-310/tmp/pip-req-build-c3dcs7ws/src/interpolation_gpu.o -D__CUDA_NO_HALF_OPERATORS__ -D__CUDA_NO_HALF_CONVERSIONS__ -D__CUDA_NO_BFLOAT16_CONVERSIONS__ -D__CUDA_NO_HALF2_OPERATORS__ --expt-relaxed-constexpr --compiler-options ''\"'\"'-fPIC'\"'\"'' --expt-relaxed-constexpr --expt-extended-lambda -O3 -Xcompiler=-fno-gnu-unique -DTORCH_API_INCLUDE_EXTENSION_H '-DPYBIND11_COMPILER_TYPE=\"_gcc\"' '-DPYBIND11_STDLIB=\"_libstdcpp\"' '-DPYBIND11_BUILD_ABI=\"_cxxabi1011\"' -DTORCH_EXTENSION_NAME=_C -D_GLIBCXX_USE_CXX11_ABI=0 -gencode=arch=compute_75,code=compute_75 -gencode=arch=compute_75,code=sm_75 -std=c++17\n",
            "  [12/21] c++ -MMD -MF /tmp/pip-req-build-c3dcs7ws/build/temp.linux-x86_64-cpython-310/tmp/pip-req-build-c3dcs7ws/src/math_functions_cpu.o.d -Wno-unused-result -Wsign-compare -DNDEBUG -g -fwrapv -O2 -Wall -g -fstack-protector-strong -Wformat -Werror=format-security -g -fwrapv -O2 -fPIC -I/usr/local/lib/python3.10/dist-packages/torch/include -I/usr/local/lib/python3.10/dist-packages/torch/include/torch/csrc/api/include -I/usr/local/lib/python3.10/dist-packages/torch/include/TH -I/usr/local/lib/python3.10/dist-packages/torch/include/THC -I/usr/local/cuda/include -I/tmp/pip-req-build-c3dcs7ws/src -I/tmp/pip-req-build-c3dcs7ws/src/3rdparty -I/usr/include/python3.10 -c -c /tmp/pip-req-build-c3dcs7ws/src/math_functions_cpu.cpp -o /tmp/pip-req-build-c3dcs7ws/build/temp.linux-x86_64-cpython-310/tmp/pip-req-build-c3dcs7ws/src/math_functions_cpu.o -fopenmp -O3 -DTORCH_API_INCLUDE_EXTENSION_H '-DPYBIND11_COMPILER_TYPE=\"_gcc\"' '-DPYBIND11_STDLIB=\"_libstdcpp\"' '-DPYBIND11_BUILD_ABI=\"_cxxabi1011\"' -DTORCH_EXTENSION_NAME=_C -D_GLIBCXX_USE_CXX11_ABI=0 -std=c++17\n",
            "  [13/21] /usr/local/cuda/bin/nvcc --generate-dependencies-with-compile --dependency-output /tmp/pip-req-build-c3dcs7ws/build/temp.linux-x86_64-cpython-310/tmp/pip-req-build-c3dcs7ws/src/local_pooling_gpu.o.d -I/usr/local/lib/python3.10/dist-packages/torch/include -I/usr/local/lib/python3.10/dist-packages/torch/include/torch/csrc/api/include -I/usr/local/lib/python3.10/dist-packages/torch/include/TH -I/usr/local/lib/python3.10/dist-packages/torch/include/THC -I/usr/local/cuda/include -I/tmp/pip-req-build-c3dcs7ws/src -I/tmp/pip-req-build-c3dcs7ws/src/3rdparty -I/usr/include/python3.10 -c -c /tmp/pip-req-build-c3dcs7ws/src/local_pooling_gpu.cu -o /tmp/pip-req-build-c3dcs7ws/build/temp.linux-x86_64-cpython-310/tmp/pip-req-build-c3dcs7ws/src/local_pooling_gpu.o -D__CUDA_NO_HALF_OPERATORS__ -D__CUDA_NO_HALF_CONVERSIONS__ -D__CUDA_NO_BFLOAT16_CONVERSIONS__ -D__CUDA_NO_HALF2_OPERATORS__ --expt-relaxed-constexpr --compiler-options ''\"'\"'-fPIC'\"'\"'' --expt-relaxed-constexpr --expt-extended-lambda -O3 -Xcompiler=-fno-gnu-unique -DTORCH_API_INCLUDE_EXTENSION_H '-DPYBIND11_COMPILER_TYPE=\"_gcc\"' '-DPYBIND11_STDLIB=\"_libstdcpp\"' '-DPYBIND11_BUILD_ABI=\"_cxxabi1011\"' -DTORCH_EXTENSION_NAME=_C -D_GLIBCXX_USE_CXX11_ABI=0 -gencode=arch=compute_75,code=compute_75 -gencode=arch=compute_75,code=sm_75 -std=c++17\n",
            "  [14/21] /usr/local/cuda/bin/nvcc --generate-dependencies-with-compile --dependency-output /tmp/pip-req-build-c3dcs7ws/build/temp.linux-x86_64-cpython-310/tmp/pip-req-build-c3dcs7ws/src/math_functions_gpu.o.d -I/usr/local/lib/python3.10/dist-packages/torch/include -I/usr/local/lib/python3.10/dist-packages/torch/include/torch/csrc/api/include -I/usr/local/lib/python3.10/dist-packages/torch/include/TH -I/usr/local/lib/python3.10/dist-packages/torch/include/THC -I/usr/local/cuda/include -I/tmp/pip-req-build-c3dcs7ws/src -I/tmp/pip-req-build-c3dcs7ws/src/3rdparty -I/usr/include/python3.10 -c -c /tmp/pip-req-build-c3dcs7ws/src/math_functions_gpu.cu -o /tmp/pip-req-build-c3dcs7ws/build/temp.linux-x86_64-cpython-310/tmp/pip-req-build-c3dcs7ws/src/math_functions_gpu.o -D__CUDA_NO_HALF_OPERATORS__ -D__CUDA_NO_HALF_CONVERSIONS__ -D__CUDA_NO_BFLOAT16_CONVERSIONS__ -D__CUDA_NO_HALF2_OPERATORS__ --expt-relaxed-constexpr --compiler-options ''\"'\"'-fPIC'\"'\"'' --expt-relaxed-constexpr --expt-extended-lambda -O3 -Xcompiler=-fno-gnu-unique -DTORCH_API_INCLUDE_EXTENSION_H '-DPYBIND11_COMPILER_TYPE=\"_gcc\"' '-DPYBIND11_STDLIB=\"_libstdcpp\"' '-DPYBIND11_BUILD_ABI=\"_cxxabi1011\"' -DTORCH_EXTENSION_NAME=_C -D_GLIBCXX_USE_CXX11_ABI=0 -gencode=arch=compute_75,code=compute_75 -gencode=arch=compute_75,code=sm_75 -std=c++17\n",
            "  /tmp/pip-req-build-c3dcs7ws/src/math_functions_gpu.cu: In function ‘void minkowski::sort_coo_gpu(cusparseHandle_t, int, int, int, int*, int*, allocator_type&)’:\n",
            "  /tmp/pip-req-build-c3dcs7ws/src/math_functions_gpu.cu:181:69: warning: ‘cusparseStatus_t cusparseCreateIdentityPermutation(cusparseHandle_t, int, int*)’ is deprecated: The routine will be removed in the next major release [-Wdeprecated-declarations]\n",
            "    181 |   CUSPARSE_CHECK(cusparseCreateIdentityPermutation(handle, nnz, P));\n",
            "        |                                    ~~~~~~~~~~~~~~~~~~~~~~~~~~~~~~~~~^\n",
            "  /usr/local/cuda/include/cusparse.h:4060:1: note: declared here\n",
            "   4060 | cusparseCreateIdentityPermutation(cusparseHandle_t handle,\n",
            "        | ^~~~~~~~~~~~~~~~~~~~~~~~~~~~~~~~~\n",
            "  /tmp/pip-req-build-c3dcs7ws/src/math_functions_gpu.cu: In instantiation of ‘void minkowski::sort_coo_gpu(cusparseHandle_t, int, int, int, int*, int*, allocator_type&) [with allocator_type = minkowski::detail::default_allocator<char>; cusparseHandle_t = cusparseContext*]’:\n",
            "  /tmp/pip-req-build-c3dcs7ws/src/math_functions_gpu.cu:189:210:   required from here\n",
            "  /tmp/pip-req-build-c3dcs7ws/src/math_functions_gpu.cu:181:69: warning: ‘cusparseStatus_t cusparseCreateIdentityPermutation(cusparseHandle_t, int, int*)’ is deprecated: The routine will be removed in the next major release [-Wdeprecated-declarations]\n",
            "    181 |   CUSPARSE_CHECK(cusparseCreateIdentityPermutation(handle, nnz, P));\n",
            "        |                                    ~~~~~~~~~~~~~~~~~~~~~~~~~~~~~~~~~^\n",
            "  /usr/local/cuda/include/cusparse.h:4060:1: note: declared here\n",
            "   4060 | cusparseCreateIdentityPermutation(cusparseHandle_t handle,\n",
            "        | ^~~~~~~~~~~~~~~~~~~~~~~~~~~~~~~~~\n",
            "  /tmp/pip-req-build-c3dcs7ws/src/math_functions_gpu.cu:181:69: warning: ‘cusparseStatus_t cusparseCreateIdentityPermutation(cusparseHandle_t, int, int*)’ is deprecated: The routine will be removed in the next major release [-Wdeprecated-declarations]\n",
            "    181 |   CUSPARSE_CHECK(cusparseCreateIdentityPermutation(handle, nnz, P));\n",
            "        |                                    ~~~~~~~~~~~~~~~~~~~~~~~~~~~~~~~~~^\n",
            "  /usr/local/cuda/include/cusparse.h:4060:1: note: declared here\n",
            "   4060 | cusparseCreateIdentityPermutation(cusparseHandle_t handle,\n",
            "        | ^~~~~~~~~~~~~~~~~~~~~~~~~~~~~~~~~\n",
            "  /tmp/pip-req-build-c3dcs7ws/src/math_functions_gpu.cu:181:69: warning: ‘cusparseStatus_t cusparseCreateIdentityPermutation(cusparseHandle_t, int, int*)’ is deprecated: The routine will be removed in the next major release [-Wdeprecated-declarations]\n",
            "    181 |   CUSPARSE_CHECK(cusparseCreateIdentityPermutation(handle, nnz, P));\n",
            "        |                                    ~~~~~~~~~~~~~~~~~~~~~~~~~~~~~~~~~^\n",
            "  /usr/local/cuda/include/cusparse.h:4060:1: note: declared here\n",
            "   4060 | cusparseCreateIdentityPermutation(cusparseHandle_t handle,\n",
            "        | ^~~~~~~~~~~~~~~~~~~~~~~~~~~~~~~~~\n",
            "  /tmp/pip-req-build-c3dcs7ws/src/math_functions_gpu.cu: In instantiation of ‘void minkowski::sort_coo_gpu(cusparseHandle_t, int, int, int, int*, int*, allocator_type&) [with allocator_type = minkowski::detail::c10_allocator<char>; cusparseHandle_t = cusparseContext*]’:\n",
            "  /tmp/pip-req-build-c3dcs7ws/src/math_functions_gpu.cu:193:202:   required from here\n",
            "  /tmp/pip-req-build-c3dcs7ws/src/math_functions_gpu.cu:181:69: warning: ‘cusparseStatus_t cusparseCreateIdentityPermutation(cusparseHandle_t, int, int*)’ is deprecated: The routine will be removed in the next major release [-Wdeprecated-declarations]\n",
            "    181 |   CUSPARSE_CHECK(cusparseCreateIdentityPermutation(handle, nnz, P));\n",
            "        |                                    ~~~~~~~~~~~~~~~~~~~~~~~~~~~~~~~~~^\n",
            "  /usr/local/cuda/include/cusparse.h:4060:1: note: declared here\n",
            "   4060 | cusparseCreateIdentityPermutation(cusparseHandle_t handle,\n",
            "        | ^~~~~~~~~~~~~~~~~~~~~~~~~~~~~~~~~\n",
            "  /tmp/pip-req-build-c3dcs7ws/src/math_functions_gpu.cu:181:69: warning: ‘cusparseStatus_t cusparseCreateIdentityPermutation(cusparseHandle_t, int, int*)’ is deprecated: The routine will be removed in the next major release [-Wdeprecated-declarations]\n",
            "    181 |   CUSPARSE_CHECK(cusparseCreateIdentityPermutation(handle, nnz, P));\n",
            "        |                                    ~~~~~~~~~~~~~~~~~~~~~~~~~~~~~~~~~^\n",
            "  /usr/local/cuda/include/cusparse.h:4060:1: note: declared here\n",
            "   4060 | cusparseCreateIdentityPermutation(cusparseHandle_t handle,\n",
            "        | ^~~~~~~~~~~~~~~~~~~~~~~~~~~~~~~~~\n",
            "  /tmp/pip-req-build-c3dcs7ws/src/math_functions_gpu.cu:181:69: warning: ‘cusparseStatus_t cusparseCreateIdentityPermutation(cusparseHandle_t, int, int*)’ is deprecated: The routine will be removed in the next major release [-Wdeprecated-declarations]\n",
            "    181 |   CUSPARSE_CHECK(cusparseCreateIdentityPermutation(handle, nnz, P));\n",
            "        |                                    ~~~~~~~~~~~~~~~~~~~~~~~~~~~~~~~~~^\n",
            "  /usr/local/cuda/include/cusparse.h:4060:1: note: declared here\n",
            "   4060 | cusparseCreateIdentityPermutation(cusparseHandle_t handle,\n",
            "        | ^~~~~~~~~~~~~~~~~~~~~~~~~~~~~~~~~\n",
            "  [15/21] /usr/local/cuda/bin/nvcc --generate-dependencies-with-compile --dependency-output /tmp/pip-req-build-c3dcs7ws/build/temp.linux-x86_64-cpython-310/tmp/pip-req-build-c3dcs7ws/src/pooling_avg_kernel.o.d -I/usr/local/lib/python3.10/dist-packages/torch/include -I/usr/local/lib/python3.10/dist-packages/torch/include/torch/csrc/api/include -I/usr/local/lib/python3.10/dist-packages/torch/include/TH -I/usr/local/lib/python3.10/dist-packages/torch/include/THC -I/usr/local/cuda/include -I/tmp/pip-req-build-c3dcs7ws/src -I/tmp/pip-req-build-c3dcs7ws/src/3rdparty -I/usr/include/python3.10 -c -c /tmp/pip-req-build-c3dcs7ws/src/pooling_avg_kernel.cu -o /tmp/pip-req-build-c3dcs7ws/build/temp.linux-x86_64-cpython-310/tmp/pip-req-build-c3dcs7ws/src/pooling_avg_kernel.o -D__CUDA_NO_HALF_OPERATORS__ -D__CUDA_NO_HALF_CONVERSIONS__ -D__CUDA_NO_BFLOAT16_CONVERSIONS__ -D__CUDA_NO_HALF2_OPERATORS__ --expt-relaxed-constexpr --compiler-options ''\"'\"'-fPIC'\"'\"'' --expt-relaxed-constexpr --expt-extended-lambda -O3 -Xcompiler=-fno-gnu-unique -DTORCH_API_INCLUDE_EXTENSION_H '-DPYBIND11_COMPILER_TYPE=\"_gcc\"' '-DPYBIND11_STDLIB=\"_libstdcpp\"' '-DPYBIND11_BUILD_ABI=\"_cxxabi1011\"' -DTORCH_EXTENSION_NAME=_C -D_GLIBCXX_USE_CXX11_ABI=0 -gencode=arch=compute_75,code=compute_75 -gencode=arch=compute_75,code=sm_75 -std=c++17\n",
            "  [16/21] /usr/local/cuda/bin/nvcc --generate-dependencies-with-compile --dependency-output /tmp/pip-req-build-c3dcs7ws/build/temp.linux-x86_64-cpython-310/tmp/pip-req-build-c3dcs7ws/src/local_pooling_transpose_gpu.o.d -I/usr/local/lib/python3.10/dist-packages/torch/include -I/usr/local/lib/python3.10/dist-packages/torch/include/torch/csrc/api/include -I/usr/local/lib/python3.10/dist-packages/torch/include/TH -I/usr/local/lib/python3.10/dist-packages/torch/include/THC -I/usr/local/cuda/include -I/tmp/pip-req-build-c3dcs7ws/src -I/tmp/pip-req-build-c3dcs7ws/src/3rdparty -I/usr/include/python3.10 -c -c /tmp/pip-req-build-c3dcs7ws/src/local_pooling_transpose_gpu.cu -o /tmp/pip-req-build-c3dcs7ws/build/temp.linux-x86_64-cpython-310/tmp/pip-req-build-c3dcs7ws/src/local_pooling_transpose_gpu.o -D__CUDA_NO_HALF_OPERATORS__ -D__CUDA_NO_HALF_CONVERSIONS__ -D__CUDA_NO_BFLOAT16_CONVERSIONS__ -D__CUDA_NO_HALF2_OPERATORS__ --expt-relaxed-constexpr --compiler-options ''\"'\"'-fPIC'\"'\"'' --expt-relaxed-constexpr --expt-extended-lambda -O3 -Xcompiler=-fno-gnu-unique -DTORCH_API_INCLUDE_EXTENSION_H '-DPYBIND11_COMPILER_TYPE=\"_gcc\"' '-DPYBIND11_STDLIB=\"_libstdcpp\"' '-DPYBIND11_BUILD_ABI=\"_cxxabi1011\"' -DTORCH_EXTENSION_NAME=_C -D_GLIBCXX_USE_CXX11_ABI=0 -gencode=arch=compute_75,code=compute_75 -gencode=arch=compute_75,code=sm_75 -std=c++17\n",
            "  [17/21] /usr/local/cuda/bin/nvcc --generate-dependencies-with-compile --dependency-output /tmp/pip-req-build-c3dcs7ws/build/temp.linux-x86_64-cpython-310/tmp/pip-req-build-c3dcs7ws/src/pooling_max_kernel.o.d -I/usr/local/lib/python3.10/dist-packages/torch/include -I/usr/local/lib/python3.10/dist-packages/torch/include/torch/csrc/api/include -I/usr/local/lib/python3.10/dist-packages/torch/include/TH -I/usr/local/lib/python3.10/dist-packages/torch/include/THC -I/usr/local/cuda/include -I/tmp/pip-req-build-c3dcs7ws/src -I/tmp/pip-req-build-c3dcs7ws/src/3rdparty -I/usr/include/python3.10 -c -c /tmp/pip-req-build-c3dcs7ws/src/pooling_max_kernel.cu -o /tmp/pip-req-build-c3dcs7ws/build/temp.linux-x86_64-cpython-310/tmp/pip-req-build-c3dcs7ws/src/pooling_max_kernel.o -D__CUDA_NO_HALF_OPERATORS__ -D__CUDA_NO_HALF_CONVERSIONS__ -D__CUDA_NO_BFLOAT16_CONVERSIONS__ -D__CUDA_NO_HALF2_OPERATORS__ --expt-relaxed-constexpr --compiler-options ''\"'\"'-fPIC'\"'\"'' --expt-relaxed-constexpr --expt-extended-lambda -O3 -Xcompiler=-fno-gnu-unique -DTORCH_API_INCLUDE_EXTENSION_H '-DPYBIND11_COMPILER_TYPE=\"_gcc\"' '-DPYBIND11_STDLIB=\"_libstdcpp\"' '-DPYBIND11_BUILD_ABI=\"_cxxabi1011\"' -DTORCH_EXTENSION_NAME=_C -D_GLIBCXX_USE_CXX11_ABI=0 -gencode=arch=compute_75,code=compute_75 -gencode=arch=compute_75,code=sm_75 -std=c++17\n",
            "  [18/21] c++ -MMD -MF /tmp/pip-req-build-c3dcs7ws/build/temp.linux-x86_64-cpython-310/tmp/pip-req-build-c3dcs7ws/src/quantization.o.d -Wno-unused-result -Wsign-compare -DNDEBUG -g -fwrapv -O2 -Wall -g -fstack-protector-strong -Wformat -Werror=format-security -g -fwrapv -O2 -fPIC -I/usr/local/lib/python3.10/dist-packages/torch/include -I/usr/local/lib/python3.10/dist-packages/torch/include/torch/csrc/api/include -I/usr/local/lib/python3.10/dist-packages/torch/include/TH -I/usr/local/lib/python3.10/dist-packages/torch/include/THC -I/usr/local/cuda/include -I/tmp/pip-req-build-c3dcs7ws/src -I/tmp/pip-req-build-c3dcs7ws/src/3rdparty -I/usr/include/python3.10 -c -c /tmp/pip-req-build-c3dcs7ws/src/quantization.cpp -o /tmp/pip-req-build-c3dcs7ws/build/temp.linux-x86_64-cpython-310/tmp/pip-req-build-c3dcs7ws/src/quantization.o -fopenmp -O3 -DTORCH_API_INCLUDE_EXTENSION_H '-DPYBIND11_COMPILER_TYPE=\"_gcc\"' '-DPYBIND11_STDLIB=\"_libstdcpp\"' '-DPYBIND11_BUILD_ABI=\"_cxxabi1011\"' -DTORCH_EXTENSION_NAME=_C -D_GLIBCXX_USE_CXX11_ABI=0 -std=c++17\n",
            "  In file included from /tmp/pip-req-build-c3dcs7ws/src/allocators.cuh:39,\n",
            "                   from /tmp/pip-req-build-c3dcs7ws/src/kernel_region.hpp:40,\n",
            "                   from /tmp/pip-req-build-c3dcs7ws/src/coordinate_map.hpp:30,\n",
            "                   from /tmp/pip-req-build-c3dcs7ws/src/coordinate_map_cpu.hpp:28,\n",
            "                   from /tmp/pip-req-build-c3dcs7ws/src/quantization.cpp:32:\n",
            "  /tmp/pip-req-build-c3dcs7ws/src/gpu.cuh:149: warning: \"THRUST_CHECK\" redefined\n",
            "    149 | #define THRUST_CHECK(condition)                                                \\\n",
            "        |\n",
            "  In file included from /tmp/pip-req-build-c3dcs7ws/src/coordinate.hpp:30,\n",
            "                   from /tmp/pip-req-build-c3dcs7ws/src/coordinate_map.hpp:29,\n",
            "                   from /tmp/pip-req-build-c3dcs7ws/src/coordinate_map_cpu.hpp:28,\n",
            "                   from /tmp/pip-req-build-c3dcs7ws/src/quantization.cpp:32:\n",
            "  /tmp/pip-req-build-c3dcs7ws/src/utils.hpp:169: note: this is the location of the previous definition\n",
            "    169 | #define THRUST_CHECK(condition) condition;\n",
            "        |\n",
            "  /tmp/pip-req-build-c3dcs7ws/src/quantization.cpp: In function ‘std::vector<std::vector<int> > minkowski::quantize_label(const int*, const int*, int, int, int)’:\n",
            "  /tmp/pip-req-build-c3dcs7ws/src/quantization.cpp:177:16: warning: variable ‘it’ set but not used [-Wunused-but-set-variable]\n",
            "    177 |     const auto it = map.find(key);\n",
            "        |                ^~\n",
            "  [19/21] /usr/local/cuda/bin/nvcc --generate-dependencies-with-compile --dependency-output /tmp/pip-req-build-c3dcs7ws/build/temp.linux-x86_64-cpython-310/tmp/pip-req-build-c3dcs7ws/src/pruning_gpu.o.d -I/usr/local/lib/python3.10/dist-packages/torch/include -I/usr/local/lib/python3.10/dist-packages/torch/include/torch/csrc/api/include -I/usr/local/lib/python3.10/dist-packages/torch/include/TH -I/usr/local/lib/python3.10/dist-packages/torch/include/THC -I/usr/local/cuda/include -I/tmp/pip-req-build-c3dcs7ws/src -I/tmp/pip-req-build-c3dcs7ws/src/3rdparty -I/usr/include/python3.10 -c -c /tmp/pip-req-build-c3dcs7ws/src/pruning_gpu.cu -o /tmp/pip-req-build-c3dcs7ws/build/temp.linux-x86_64-cpython-310/tmp/pip-req-build-c3dcs7ws/src/pruning_gpu.o -D__CUDA_NO_HALF_OPERATORS__ -D__CUDA_NO_HALF_CONVERSIONS__ -D__CUDA_NO_BFLOAT16_CONVERSIONS__ -D__CUDA_NO_HALF2_OPERATORS__ --expt-relaxed-constexpr --compiler-options ''\"'\"'-fPIC'\"'\"'' --expt-relaxed-constexpr --expt-extended-lambda -O3 -Xcompiler=-fno-gnu-unique -DTORCH_API_INCLUDE_EXTENSION_H '-DPYBIND11_COMPILER_TYPE=\"_gcc\"' '-DPYBIND11_STDLIB=\"_libstdcpp\"' '-DPYBIND11_BUILD_ABI=\"_cxxabi1011\"' -DTORCH_EXTENSION_NAME=_C -D_GLIBCXX_USE_CXX11_ABI=0 -gencode=arch=compute_75,code=compute_75 -gencode=arch=compute_75,code=sm_75 -std=c++17\n",
            "  [20/21] /usr/local/cuda/bin/nvcc --generate-dependencies-with-compile --dependency-output /tmp/pip-req-build-c3dcs7ws/build/temp.linux-x86_64-cpython-310/tmp/pip-req-build-c3dcs7ws/src/spmm.o.d -I/usr/local/lib/python3.10/dist-packages/torch/include -I/usr/local/lib/python3.10/dist-packages/torch/include/torch/csrc/api/include -I/usr/local/lib/python3.10/dist-packages/torch/include/TH -I/usr/local/lib/python3.10/dist-packages/torch/include/THC -I/usr/local/cuda/include -I/tmp/pip-req-build-c3dcs7ws/src -I/tmp/pip-req-build-c3dcs7ws/src/3rdparty -I/usr/include/python3.10 -c -c /tmp/pip-req-build-c3dcs7ws/src/spmm.cu -o /tmp/pip-req-build-c3dcs7ws/build/temp.linux-x86_64-cpython-310/tmp/pip-req-build-c3dcs7ws/src/spmm.o -D__CUDA_NO_HALF_OPERATORS__ -D__CUDA_NO_HALF_CONVERSIONS__ -D__CUDA_NO_BFLOAT16_CONVERSIONS__ -D__CUDA_NO_HALF2_OPERATORS__ --expt-relaxed-constexpr --compiler-options ''\"'\"'-fPIC'\"'\"'' --expt-relaxed-constexpr --expt-extended-lambda -O3 -Xcompiler=-fno-gnu-unique -DTORCH_API_INCLUDE_EXTENSION_H '-DPYBIND11_COMPILER_TYPE=\"_gcc\"' '-DPYBIND11_STDLIB=\"_libstdcpp\"' '-DPYBIND11_BUILD_ABI=\"_cxxabi1011\"' -DTORCH_EXTENSION_NAME=_C -D_GLIBCXX_USE_CXX11_ABI=0 -gencode=arch=compute_75,code=compute_75 -gencode=arch=compute_75,code=sm_75 -std=c++17\n",
            "  /tmp/pip-req-build-c3dcs7ws/src/spmm.cu(95): warning #177-D: variable \"is_int64\" was declared but never referenced\n",
            "      constexpr bool is_int64 = std::is_same<th_int_type, int64_t>::value;\n",
            "                     ^\n",
            "\n",
            "  Remark: The warnings can be suppressed with \"-diag-suppress <warning-number>\"\n",
            "\n",
            "  /tmp/pip-req-build-c3dcs7ws/src/spmm.cu(357): warning #177-D: variable \"is_int64\" was declared but never referenced\n",
            "      constexpr bool is_int64 = std::is_same<th_int_type, int64_t>::value;\n",
            "                     ^\n",
            "\n",
            "  [21/21] /usr/local/cuda/bin/nvcc --generate-dependencies-with-compile --dependency-output /tmp/pip-req-build-c3dcs7ws/build/temp.linux-x86_64-cpython-310/pybind/minkowski.o.d -I/usr/local/lib/python3.10/dist-packages/torch/include -I/usr/local/lib/python3.10/dist-packages/torch/include/torch/csrc/api/include -I/usr/local/lib/python3.10/dist-packages/torch/include/TH -I/usr/local/lib/python3.10/dist-packages/torch/include/THC -I/usr/local/cuda/include -I/tmp/pip-req-build-c3dcs7ws/src -I/tmp/pip-req-build-c3dcs7ws/src/3rdparty -I/usr/include/python3.10 -c -c /tmp/pip-req-build-c3dcs7ws/pybind/minkowski.cu -o /tmp/pip-req-build-c3dcs7ws/build/temp.linux-x86_64-cpython-310/pybind/minkowski.o -D__CUDA_NO_HALF_OPERATORS__ -D__CUDA_NO_HALF_CONVERSIONS__ -D__CUDA_NO_BFLOAT16_CONVERSIONS__ -D__CUDA_NO_HALF2_OPERATORS__ --expt-relaxed-constexpr --compiler-options ''\"'\"'-fPIC'\"'\"'' --expt-relaxed-constexpr --expt-extended-lambda -O3 -Xcompiler=-fno-gnu-unique -DTORCH_API_INCLUDE_EXTENSION_H '-DPYBIND11_COMPILER_TYPE=\"_gcc\"' '-DPYBIND11_STDLIB=\"_libstdcpp\"' '-DPYBIND11_BUILD_ABI=\"_cxxabi1011\"' -DTORCH_EXTENSION_NAME=_C -D_GLIBCXX_USE_CXX11_ABI=0 -gencode=arch=compute_75,code=compute_75 -gencode=arch=compute_75,code=sm_75 -std=c++17\n",
            "  creating build/lib.linux-x86_64-cpython-310/MinkowskiEngineBackend\n",
            "  INFO: x86_64-linux-gnu-g++ -shared -Wl,-O1 -Wl,-Bsymbolic-functions -Wl,-Bsymbolic-functions -g -fwrapv -O2 /tmp/pip-req-build-c3dcs7ws/build/temp.linux-x86_64-cpython-310/tmp/pip-req-build-c3dcs7ws/src/broadcast_gpu.o /tmp/pip-req-build-c3dcs7ws/build/temp.linux-x86_64-cpython-310/tmp/pip-req-build-c3dcs7ws/src/broadcast_kernel.o /tmp/pip-req-build-c3dcs7ws/build/temp.linux-x86_64-cpython-310/tmp/pip-req-build-c3dcs7ws/src/convolution_gpu.o /tmp/pip-req-build-c3dcs7ws/build/temp.linux-x86_64-cpython-310/tmp/pip-req-build-c3dcs7ws/src/convolution_kernel.o /tmp/pip-req-build-c3dcs7ws/build/temp.linux-x86_64-cpython-310/tmp/pip-req-build-c3dcs7ws/src/convolution_transpose_gpu.o /tmp/pip-req-build-c3dcs7ws/build/temp.linux-x86_64-cpython-310/tmp/pip-req-build-c3dcs7ws/src/coordinate_map_gpu.o /tmp/pip-req-build-c3dcs7ws/build/temp.linux-x86_64-cpython-310/tmp/pip-req-build-c3dcs7ws/src/coordinate_map_manager.o /tmp/pip-req-build-c3dcs7ws/build/temp.linux-x86_64-cpython-310/tmp/pip-req-build-c3dcs7ws/src/direct_max_pool.o /tmp/pip-req-build-c3dcs7ws/build/temp.linux-x86_64-cpython-310/tmp/pip-req-build-c3dcs7ws/src/global_pooling_gpu.o /tmp/pip-req-build-c3dcs7ws/build/temp.linux-x86_64-cpython-310/tmp/pip-req-build-c3dcs7ws/src/gpu.o /tmp/pip-req-build-c3dcs7ws/build/temp.linux-x86_64-cpython-310/tmp/pip-req-build-c3dcs7ws/src/interpolation_gpu.o /tmp/pip-req-build-c3dcs7ws/build/temp.linux-x86_64-cpython-310/tmp/pip-req-build-c3dcs7ws/src/local_pooling_gpu.o /tmp/pip-req-build-c3dcs7ws/build/temp.linux-x86_64-cpython-310/tmp/pip-req-build-c3dcs7ws/src/local_pooling_transpose_gpu.o /tmp/pip-req-build-c3dcs7ws/build/temp.linux-x86_64-cpython-310/tmp/pip-req-build-c3dcs7ws/src/math_functions_cpu.o /tmp/pip-req-build-c3dcs7ws/build/temp.linux-x86_64-cpython-310/tmp/pip-req-build-c3dcs7ws/src/math_functions_gpu.o /tmp/pip-req-build-c3dcs7ws/build/temp.linux-x86_64-cpython-310/tmp/pip-req-build-c3dcs7ws/src/pooling_avg_kernel.o /tmp/pip-req-build-c3dcs7ws/build/temp.linux-x86_64-cpython-310/tmp/pip-req-build-c3dcs7ws/src/pooling_max_kernel.o /tmp/pip-req-build-c3dcs7ws/build/temp.linux-x86_64-cpython-310/tmp/pip-req-build-c3dcs7ws/src/pruning_gpu.o /tmp/pip-req-build-c3dcs7ws/build/temp.linux-x86_64-cpython-310/tmp/pip-req-build-c3dcs7ws/src/quantization.o /tmp/pip-req-build-c3dcs7ws/build/temp.linux-x86_64-cpython-310/tmp/pip-req-build-c3dcs7ws/src/spmm.o /tmp/pip-req-build-c3dcs7ws/build/temp.linux-x86_64-cpython-310/pybind/minkowski.o -L/usr/local/lib/python3.10/dist-packages/torch/lib -L/usr/local/cuda/lib64 -L/usr/lib/x86_64-linux-gnu -lcusparse -lopenblas -lopenblas -lc10 -ltorch -ltorch_cpu -ltorch_python -lcudart -lc10_cuda -ltorch_cuda -o build/lib.linux-x86_64-cpython-310/MinkowskiEngineBackend/_C.cpython-310-x86_64-linux-gnu.so\n",
            "  /usr/local/lib/python3.10/dist-packages/setuptools/_distutils/cmd.py:66: SetuptoolsDeprecationWarning: setup.py install is deprecated.\n",
            "  !!\n",
            "\n",
            "          ********************************************************************************\n",
            "          Please avoid running ``setup.py`` directly.\n",
            "          Instead, use pypa/build, pypa/installer, pypa/build or\n",
            "          other standards-based tools.\n",
            "\n",
            "          See https://blog.ganssle.io/articles/2021/10/setup-py-deprecated.html for details.\n",
            "          ********************************************************************************\n",
            "\n",
            "  !!\n",
            "    self.initialize_options()\n",
            "  installing to build/bdist.linux-x86_64/wheel\n",
            "  running install\n",
            "  running install_lib\n",
            "  creating build/bdist.linux-x86_64\n",
            "  creating build/bdist.linux-x86_64/wheel\n",
            "  creating build/bdist.linux-x86_64/wheel/MinkowskiEngine\n",
            "  copying build/lib.linux-x86_64-cpython-310/MinkowskiEngine/MinkowskiInterpolation.py -> build/bdist.linux-x86_64/wheel/MinkowskiEngine\n",
            "  copying build/lib.linux-x86_64-cpython-310/MinkowskiEngine/MinkowskiPooling.py -> build/bdist.linux-x86_64/wheel/MinkowskiEngine\n",
            "  copying build/lib.linux-x86_64-cpython-310/MinkowskiEngine/MinkowskiUnion.py -> build/bdist.linux-x86_64/wheel/MinkowskiEngine\n",
            "  copying build/lib.linux-x86_64-cpython-310/MinkowskiEngine/MinkowskiChannelwiseConvolution.py -> build/bdist.linux-x86_64/wheel/MinkowskiEngine\n",
            "  copying build/lib.linux-x86_64-cpython-310/MinkowskiEngine/MinkowskiTensor.py -> build/bdist.linux-x86_64/wheel/MinkowskiEngine\n",
            "  copying build/lib.linux-x86_64-cpython-310/MinkowskiEngine/MinkowskiTensorField.py -> build/bdist.linux-x86_64/wheel/MinkowskiEngine\n",
            "  copying build/lib.linux-x86_64-cpython-310/MinkowskiEngine/MinkowskiCommon.py -> build/bdist.linux-x86_64/wheel/MinkowskiEngine\n",
            "  copying build/lib.linux-x86_64-cpython-310/MinkowskiEngine/MinkowskiNonlinearity.py -> build/bdist.linux-x86_64/wheel/MinkowskiEngine\n",
            "  copying build/lib.linux-x86_64-cpython-310/MinkowskiEngine/MinkowskiKernelGenerator.py -> build/bdist.linux-x86_64/wheel/MinkowskiEngine\n",
            "  creating build/bdist.linux-x86_64/wheel/MinkowskiEngine/utils\n",
            "  copying build/lib.linux-x86_64-cpython-310/MinkowskiEngine/utils/gradcheck.py -> build/bdist.linux-x86_64/wheel/MinkowskiEngine/utils\n",
            "  copying build/lib.linux-x86_64-cpython-310/MinkowskiEngine/utils/coords.py -> build/bdist.linux-x86_64/wheel/MinkowskiEngine/utils\n",
            "  copying build/lib.linux-x86_64-cpython-310/MinkowskiEngine/utils/collation.py -> build/bdist.linux-x86_64/wheel/MinkowskiEngine/utils\n",
            "  copying build/lib.linux-x86_64-cpython-310/MinkowskiEngine/utils/init.py -> build/bdist.linux-x86_64/wheel/MinkowskiEngine/utils\n",
            "  copying build/lib.linux-x86_64-cpython-310/MinkowskiEngine/utils/quantization.py -> build/bdist.linux-x86_64/wheel/MinkowskiEngine/utils\n",
            "  copying build/lib.linux-x86_64-cpython-310/MinkowskiEngine/utils/__init__.py -> build/bdist.linux-x86_64/wheel/MinkowskiEngine/utils\n",
            "  copying build/lib.linux-x86_64-cpython-310/MinkowskiEngine/utils/summary.py -> build/bdist.linux-x86_64/wheel/MinkowskiEngine/utils\n",
            "  creating build/bdist.linux-x86_64/wheel/MinkowskiEngine/modules\n",
            "  copying build/lib.linux-x86_64-cpython-310/MinkowskiEngine/modules/resnet_block.py -> build/bdist.linux-x86_64/wheel/MinkowskiEngine/modules\n",
            "  copying build/lib.linux-x86_64-cpython-310/MinkowskiEngine/modules/senet_block.py -> build/bdist.linux-x86_64/wheel/MinkowskiEngine/modules\n",
            "  copying build/lib.linux-x86_64-cpython-310/MinkowskiEngine/modules/__init__.py -> build/bdist.linux-x86_64/wheel/MinkowskiEngine/modules\n",
            "  copying build/lib.linux-x86_64-cpython-310/MinkowskiEngine/diagnostics.py -> build/bdist.linux-x86_64/wheel/MinkowskiEngine\n",
            "  copying build/lib.linux-x86_64-cpython-310/MinkowskiEngine/MinkowskiPruning.py -> build/bdist.linux-x86_64/wheel/MinkowskiEngine\n",
            "  copying build/lib.linux-x86_64-cpython-310/MinkowskiEngine/MinkowskiConvolution.py -> build/bdist.linux-x86_64/wheel/MinkowskiEngine\n",
            "  copying build/lib.linux-x86_64-cpython-310/MinkowskiEngine/sparse_matrix_functions.py -> build/bdist.linux-x86_64/wheel/MinkowskiEngine\n",
            "  copying build/lib.linux-x86_64-cpython-310/MinkowskiEngine/MinkowskiNetwork.py -> build/bdist.linux-x86_64/wheel/MinkowskiEngine\n",
            "  copying build/lib.linux-x86_64-cpython-310/MinkowskiEngine/MinkowskiSparseTensor.py -> build/bdist.linux-x86_64/wheel/MinkowskiEngine\n",
            "  copying build/lib.linux-x86_64-cpython-310/MinkowskiEngine/__init__.py -> build/bdist.linux-x86_64/wheel/MinkowskiEngine\n",
            "  copying build/lib.linux-x86_64-cpython-310/MinkowskiEngine/MinkowskiOps.py -> build/bdist.linux-x86_64/wheel/MinkowskiEngine\n",
            "  copying build/lib.linux-x86_64-cpython-310/MinkowskiEngine/MinkowskiNormalization.py -> build/bdist.linux-x86_64/wheel/MinkowskiEngine\n",
            "  copying build/lib.linux-x86_64-cpython-310/MinkowskiEngine/MinkowskiCoordinateManager.py -> build/bdist.linux-x86_64/wheel/MinkowskiEngine\n",
            "  copying build/lib.linux-x86_64-cpython-310/MinkowskiEngine/MinkowskiFunctional.py -> build/bdist.linux-x86_64/wheel/MinkowskiEngine\n",
            "  copying build/lib.linux-x86_64-cpython-310/MinkowskiEngine/MinkowskiBroadcast.py -> build/bdist.linux-x86_64/wheel/MinkowskiEngine\n",
            "  creating build/bdist.linux-x86_64/wheel/MinkowskiEngineBackend\n",
            "  copying build/lib.linux-x86_64-cpython-310/MinkowskiEngineBackend/_C.cpython-310-x86_64-linux-gnu.so -> build/bdist.linux-x86_64/wheel/MinkowskiEngineBackend\n",
            "  running install_egg_info\n",
            "  running egg_info\n",
            "  creating MinkowskiEngine.egg-info\n",
            "  writing MinkowskiEngine.egg-info/PKG-INFO\n",
            "  writing dependency_links to MinkowskiEngine.egg-info/dependency_links.txt\n",
            "  writing requirements to MinkowskiEngine.egg-info/requires.txt\n",
            "  writing top-level names to MinkowskiEngine.egg-info/top_level.txt\n",
            "  writing manifest file 'MinkowskiEngine.egg-info/SOURCES.txt'\n",
            "  reading manifest file 'MinkowskiEngine.egg-info/SOURCES.txt'\n",
            "  reading manifest template 'MANIFEST.in'\n",
            "  adding license file 'LICENSE'\n",
            "  writing manifest file 'MinkowskiEngine.egg-info/SOURCES.txt'\n",
            "  Copying MinkowskiEngine.egg-info to build/bdist.linux-x86_64/wheel/MinkowskiEngine-0.5.4-py3.10.egg-info\n",
            "  running install_scripts\n",
            "  creating build/bdist.linux-x86_64/wheel/MinkowskiEngine-0.5.4.dist-info/WHEEL\n",
            "  creating '/tmp/pip-wheel-mlz6mv17/MinkowskiEngine-0.5.4-cp310-cp310-linux_x86_64.whl' and adding 'build/bdist.linux-x86_64/wheel' to it\n",
            "  adding 'MinkowskiEngine/MinkowskiBroadcast.py'\n",
            "  adding 'MinkowskiEngine/MinkowskiChannelwiseConvolution.py'\n",
            "  adding 'MinkowskiEngine/MinkowskiCommon.py'\n",
            "  adding 'MinkowskiEngine/MinkowskiConvolution.py'\n",
            "  adding 'MinkowskiEngine/MinkowskiCoordinateManager.py'\n",
            "  adding 'MinkowskiEngine/MinkowskiFunctional.py'\n",
            "  adding 'MinkowskiEngine/MinkowskiInterpolation.py'\n",
            "  adding 'MinkowskiEngine/MinkowskiKernelGenerator.py'\n",
            "  adding 'MinkowskiEngine/MinkowskiNetwork.py'\n",
            "  adding 'MinkowskiEngine/MinkowskiNonlinearity.py'\n",
            "  adding 'MinkowskiEngine/MinkowskiNormalization.py'\n",
            "  adding 'MinkowskiEngine/MinkowskiOps.py'\n",
            "  adding 'MinkowskiEngine/MinkowskiPooling.py'\n",
            "  adding 'MinkowskiEngine/MinkowskiPruning.py'\n",
            "  adding 'MinkowskiEngine/MinkowskiSparseTensor.py'\n",
            "  adding 'MinkowskiEngine/MinkowskiTensor.py'\n",
            "  adding 'MinkowskiEngine/MinkowskiTensorField.py'\n",
            "  adding 'MinkowskiEngine/MinkowskiUnion.py'\n",
            "  adding 'MinkowskiEngine/__init__.py'\n",
            "  adding 'MinkowskiEngine/diagnostics.py'\n",
            "  adding 'MinkowskiEngine/sparse_matrix_functions.py'\n",
            "  adding 'MinkowskiEngine/modules/__init__.py'\n",
            "  adding 'MinkowskiEngine/modules/resnet_block.py'\n",
            "  adding 'MinkowskiEngine/modules/senet_block.py'\n",
            "  adding 'MinkowskiEngine/utils/__init__.py'\n",
            "  adding 'MinkowskiEngine/utils/collation.py'\n",
            "  adding 'MinkowskiEngine/utils/coords.py'\n",
            "  adding 'MinkowskiEngine/utils/gradcheck.py'\n",
            "  adding 'MinkowskiEngine/utils/init.py'\n",
            "  adding 'MinkowskiEngine/utils/quantization.py'\n",
            "  adding 'MinkowskiEngine/utils/summary.py'\n",
            "  adding 'MinkowskiEngineBackend/_C.cpython-310-x86_64-linux-gnu.so'\n",
            "  adding 'MinkowskiEngine-0.5.4.dist-info/LICENSE'\n",
            "  adding 'MinkowskiEngine-0.5.4.dist-info/METADATA'\n",
            "  adding 'MinkowskiEngine-0.5.4.dist-info/WHEEL'\n",
            "  adding 'MinkowskiEngine-0.5.4.dist-info/top_level.txt'\n",
            "  adding 'MinkowskiEngine-0.5.4.dist-info/RECORD'\n",
            "  removing build/bdist.linux-x86_64/wheel\n",
            "  Building wheel for MinkowskiEngine (setup.py) ... \u001b[?25l\u001b[?25hdone\n",
            "  Created wheel for MinkowskiEngine: filename=MinkowskiEngine-0.5.4-cp310-cp310-linux_x86_64.whl size=8633963 sha256=c83e95ec7e8e1b80c500c5a8d843b2e04c93bed73b7b5188562276feafb6c0c8\n",
            "  Stored in directory: /tmp/pip-ephem-wheel-cache-tsf0dylo/wheels/93/82/00/c708764503c073bd0972b9527256f844fcc04dcea8b4ef5ea4\n",
            "Successfully built MinkowskiEngine\n",
            "Installing collected packages: MinkowskiEngine\n",
            "Successfully installed MinkowskiEngine-0.5.4\n"
          ]
        }
      ],
      "source": [
        "!pip install -U git+https://github.com/richlukich/MinkowskiEngine -v --no-deps \\\n",
        "                          --config-settings=\"--install-option=--force_cuda\" \\\n",
        "                          --config-settings=\"--install-option=--blas=openblas\""
      ]
    },
    {
      "cell_type": "markdown",
      "metadata": {
        "id": "gMU7PJ_LUzIs"
      },
      "source": [
        "4. Проверка, что все работает"
      ]
    },
    {
      "cell_type": "code",
      "execution_count": null,
      "metadata": {
        "id": "FMxMN0OeUyU-",
        "colab": {
          "base_uri": "https://localhost:8080/"
        },
        "outputId": "67f24317-3fd7-4daf-f754-2b905a329a3c"
      },
      "outputs": [
        {
          "output_type": "stream",
          "name": "stdout",
          "text": [
            "Is CUDA available in torch?: True\n",
            "Is CUDA available in MinkowskiEngine?: True\n",
            "==========System==========\n",
            "Linux-6.1.85+-x86_64-with-glibc2.35\n",
            "3.10.12 (main, Nov 20 2023, 15:14:05) [GCC 11.4.0]\n",
            "==========Pytorch==========\n",
            "2.3.0+cu121\n",
            "torch.cuda.is_available(): True\n",
            "==========NVIDIA-SMI==========\n",
            "Driver Version 535.104.05\n",
            "CUDA Version 12.2\n",
            "VBIOS Version 90.04.A7.00.01\n",
            "Image Version G183.0200.00.02\n",
            "GSP Firmware Version N/A\n",
            "==========NVCC==========\n",
            "==========CC==========\n",
            "==========MinkowskiEngine==========\n",
            "0.5.4\n",
            "MinkowskiEngine compiled with CUDA Support: True\n",
            "NVCC version MinkowskiEngine is compiled: 12020\n",
            "CUDART version MinkowskiEngine is compiled: 12020\n"
          ]
        }
      ],
      "source": [
        "import torch\n",
        "print(f\"Is CUDA available in torch?: {torch.cuda.is_available()}\")\n",
        "import MinkowskiEngine as ME\n",
        "print(f\"Is CUDA available in MinkowskiEngine?: {ME.is_cuda_available()}\")\n",
        "ME.print_diagnostics()"
      ]
    },
    {
      "cell_type": "markdown",
      "metadata": {
        "id": "uFubPmYLU8SX"
      },
      "source": [
        "5. Финальный шаг - установка библиотеки [opr](https://github.com/alexmelekhin/open_place_recognition), код из которой будет использоваться в бейзлайне"
      ]
    },
    {
      "cell_type": "code",
      "execution_count": null,
      "metadata": {
        "colab": {
          "base_uri": "https://localhost:8080/",
          "height": 1000
        },
        "id": "vLTo1C7zc1Yl",
        "outputId": "c50fd136-f298-45c0-c92a-370196818769"
      },
      "outputs": [
        {
          "output_type": "stream",
          "name": "stdout",
          "text": [
            "Cloning into 'open_place_recognition'...\n",
            "remote: Enumerating objects: 1467, done.\u001b[K\n",
            "remote: Counting objects: 100% (696/696), done.\u001b[K\n",
            "remote: Compressing objects: 100% (304/304), done.\u001b[K\n",
            "remote: Total 1467 (delta 470), reused 494 (delta 376), pack-reused 771\u001b[K\n",
            "Receiving objects: 100% (1467/1467), 22.87 MiB | 10.29 MiB/s, done.\n",
            "Resolving deltas: 100% (842/842), done.\n",
            "/content/open_place_recognition\n",
            "Obtaining file:///content/open_place_recognition\n",
            "  Installing build dependencies ... \u001b[?25l\u001b[?25hdone\n",
            "  Checking if build backend supports build_editable ... \u001b[?25l\u001b[?25hdone\n",
            "  Getting requirements to build editable ... \u001b[?25l\u001b[?25hdone\n",
            "  Preparing editable metadata (pyproject.toml) ... \u001b[?25l\u001b[?25hdone\n",
            "Requirement already satisfied: albumentations in /usr/local/lib/python3.10/dist-packages (from opr==0.2.1) (1.3.1)\n",
            "Collecting hydra-core>=1.2 (from opr==0.2.1)\n",
            "  Downloading hydra_core-1.3.2-py3-none-any.whl (154 kB)\n",
            "\u001b[2K     \u001b[90m━━━━━━━━━━━━━━━━━━━━━━━━━━━━━━━━━━━━━━━━\u001b[0m \u001b[32m154.5/154.5 kB\u001b[0m \u001b[31m3.1 MB/s\u001b[0m eta \u001b[36m0:00:00\u001b[0m\n",
            "\u001b[?25hCollecting kaleido (from opr==0.2.1)\n",
            "  Downloading kaleido-0.2.1-py2.py3-none-manylinux1_x86_64.whl (79.9 MB)\n",
            "\u001b[2K     \u001b[90m━━━━━━━━━━━━━━━━━━━━━━━━━━━━━━━━━━━━━━━━\u001b[0m \u001b[32m79.9/79.9 MB\u001b[0m \u001b[31m7.9 MB/s\u001b[0m eta \u001b[36m0:00:00\u001b[0m\n",
            "\u001b[?25hRequirement already satisfied: matplotlib in /usr/local/lib/python3.10/dist-packages (from opr==0.2.1) (3.7.1)\n",
            "Requirement already satisfied: numpy in /usr/local/lib/python3.10/dist-packages (from opr==0.2.1) (1.25.2)\n",
            "Requirement already satisfied: opencv-python in /usr/local/lib/python3.10/dist-packages (from opr==0.2.1) (4.8.0.76)\n",
            "Requirement already satisfied: pandas in /usr/local/lib/python3.10/dist-packages (from opr==0.2.1) (2.0.3)\n",
            "Requirement already satisfied: plotly>=5.14.1 in /usr/local/lib/python3.10/dist-packages (from opr==0.2.1) (5.15.0)\n",
            "Collecting pytorch-metric-learning (from opr==0.2.1)\n",
            "  Downloading pytorch_metric_learning-2.5.0-py3-none-any.whl (119 kB)\n",
            "\u001b[2K     \u001b[90m━━━━━━━━━━━━━━━━━━━━━━━━━━━━━━━━━━━━━━━━\u001b[0m \u001b[32m119.1/119.1 kB\u001b[0m \u001b[31m15.3 MB/s\u001b[0m eta \u001b[36m0:00:00\u001b[0m\n",
            "\u001b[?25hRequirement already satisfied: requests>=2.31.0 in /usr/local/lib/python3.10/dist-packages (from opr==0.2.1) (2.31.0)\n",
            "Requirement already satisfied: scipy in /usr/local/lib/python3.10/dist-packages (from opr==0.2.1) (1.11.4)\n",
            "Requirement already satisfied: tqdm in /usr/local/lib/python3.10/dist-packages (from opr==0.2.1) (4.66.4)\n",
            "Collecting wandb (from opr==0.2.1)\n",
            "  Downloading wandb-0.17.4-py3-none-manylinux_2_5_x86_64.manylinux1_x86_64.manylinux_2_17_x86_64.manylinux2014_x86_64.whl (6.9 MB)\n",
            "\u001b[2K     \u001b[90m━━━━━━━━━━━━━━━━━━━━━━━━━━━━━━━━━━━━━━━━\u001b[0m \u001b[32m6.9/6.9 MB\u001b[0m \u001b[31m19.9 MB/s\u001b[0m eta \u001b[36m0:00:00\u001b[0m\n",
            "\u001b[?25hCollecting omegaconf<2.4,>=2.2 (from hydra-core>=1.2->opr==0.2.1)\n",
            "  Downloading omegaconf-2.3.0-py3-none-any.whl (79 kB)\n",
            "\u001b[2K     \u001b[90m━━━━━━━━━━━━━━━━━━━━━━━━━━━━━━━━━━━━━━━━\u001b[0m \u001b[32m79.5/79.5 kB\u001b[0m \u001b[31m4.1 MB/s\u001b[0m eta \u001b[36m0:00:00\u001b[0m\n",
            "\u001b[?25hCollecting antlr4-python3-runtime==4.9.* (from hydra-core>=1.2->opr==0.2.1)\n",
            "  Downloading antlr4-python3-runtime-4.9.3.tar.gz (117 kB)\n",
            "\u001b[2K     \u001b[90m━━━━━━━━━━━━━━━━━━━━━━━━━━━━━━━━━━━━━━━━\u001b[0m \u001b[32m117.0/117.0 kB\u001b[0m \u001b[31m16.1 MB/s\u001b[0m eta \u001b[36m0:00:00\u001b[0m\n",
            "\u001b[?25h  Preparing metadata (setup.py) ... \u001b[?25l\u001b[?25hdone\n",
            "Requirement already satisfied: packaging in /usr/local/lib/python3.10/dist-packages (from hydra-core>=1.2->opr==0.2.1) (24.1)\n",
            "Requirement already satisfied: tenacity>=6.2.0 in /usr/local/lib/python3.10/dist-packages (from plotly>=5.14.1->opr==0.2.1) (8.4.2)\n",
            "Requirement already satisfied: charset-normalizer<4,>=2 in /usr/local/lib/python3.10/dist-packages (from requests>=2.31.0->opr==0.2.1) (3.3.2)\n",
            "Requirement already satisfied: idna<4,>=2.5 in /usr/local/lib/python3.10/dist-packages (from requests>=2.31.0->opr==0.2.1) (3.7)\n",
            "Requirement already satisfied: urllib3<3,>=1.21.1 in /usr/local/lib/python3.10/dist-packages (from requests>=2.31.0->opr==0.2.1) (2.0.7)\n",
            "Requirement already satisfied: certifi>=2017.4.17 in /usr/local/lib/python3.10/dist-packages (from requests>=2.31.0->opr==0.2.1) (2024.6.2)\n",
            "Requirement already satisfied: scikit-image>=0.16.1 in /usr/local/lib/python3.10/dist-packages (from albumentations->opr==0.2.1) (0.19.3)\n",
            "Requirement already satisfied: PyYAML in /usr/local/lib/python3.10/dist-packages (from albumentations->opr==0.2.1) (6.0.1)\n",
            "Requirement already satisfied: qudida>=0.0.4 in /usr/local/lib/python3.10/dist-packages (from albumentations->opr==0.2.1) (0.0.4)\n",
            "Requirement already satisfied: opencv-python-headless>=4.1.1 in /usr/local/lib/python3.10/dist-packages (from albumentations->opr==0.2.1) (4.10.0.84)\n",
            "Requirement already satisfied: contourpy>=1.0.1 in /usr/local/lib/python3.10/dist-packages (from matplotlib->opr==0.2.1) (1.2.1)\n",
            "Requirement already satisfied: cycler>=0.10 in /usr/local/lib/python3.10/dist-packages (from matplotlib->opr==0.2.1) (0.12.1)\n",
            "Requirement already satisfied: fonttools>=4.22.0 in /usr/local/lib/python3.10/dist-packages (from matplotlib->opr==0.2.1) (4.53.0)\n",
            "Requirement already satisfied: kiwisolver>=1.0.1 in /usr/local/lib/python3.10/dist-packages (from matplotlib->opr==0.2.1) (1.4.5)\n",
            "Requirement already satisfied: pillow>=6.2.0 in /usr/local/lib/python3.10/dist-packages (from matplotlib->opr==0.2.1) (9.4.0)\n",
            "Requirement already satisfied: pyparsing>=2.3.1 in /usr/local/lib/python3.10/dist-packages (from matplotlib->opr==0.2.1) (3.1.2)\n",
            "Requirement already satisfied: python-dateutil>=2.7 in /usr/local/lib/python3.10/dist-packages (from matplotlib->opr==0.2.1) (2.8.2)\n",
            "Requirement already satisfied: pytz>=2020.1 in /usr/local/lib/python3.10/dist-packages (from pandas->opr==0.2.1) (2023.4)\n",
            "Requirement already satisfied: tzdata>=2022.1 in /usr/local/lib/python3.10/dist-packages (from pandas->opr==0.2.1) (2024.1)\n",
            "Requirement already satisfied: scikit-learn in /usr/local/lib/python3.10/dist-packages (from pytorch-metric-learning->opr==0.2.1) (1.2.2)\n",
            "Requirement already satisfied: torch>=1.6.0 in /usr/local/lib/python3.10/dist-packages (from pytorch-metric-learning->opr==0.2.1) (2.3.0+cu121)\n",
            "Requirement already satisfied: click!=8.0.0,>=7.1 in /usr/local/lib/python3.10/dist-packages (from wandb->opr==0.2.1) (8.1.7)\n",
            "Collecting docker-pycreds>=0.4.0 (from wandb->opr==0.2.1)\n",
            "  Downloading docker_pycreds-0.4.0-py2.py3-none-any.whl (9.0 kB)\n",
            "Collecting gitpython!=3.1.29,>=1.0.0 (from wandb->opr==0.2.1)\n",
            "  Downloading GitPython-3.1.43-py3-none-any.whl (207 kB)\n",
            "\u001b[2K     \u001b[90m━━━━━━━━━━━━━━━━━━━━━━━━━━━━━━━━━━━━━━━━\u001b[0m \u001b[32m207.3/207.3 kB\u001b[0m \u001b[31m26.6 MB/s\u001b[0m eta \u001b[36m0:00:00\u001b[0m\n",
            "\u001b[?25hRequirement already satisfied: platformdirs in /usr/local/lib/python3.10/dist-packages (from wandb->opr==0.2.1) (4.2.2)\n",
            "Requirement already satisfied: protobuf!=4.21.0,<6,>=3.19.0 in /usr/local/lib/python3.10/dist-packages (from wandb->opr==0.2.1) (3.20.3)\n",
            "Requirement already satisfied: psutil>=5.0.0 in /usr/local/lib/python3.10/dist-packages (from wandb->opr==0.2.1) (5.9.5)\n",
            "Collecting sentry-sdk>=1.0.0 (from wandb->opr==0.2.1)\n",
            "  Downloading sentry_sdk-2.7.1-py2.py3-none-any.whl (300 kB)\n",
            "\u001b[2K     \u001b[90m━━━━━━━━━━━━━━━━━━━━━━━━━━━━━━━━━━━━━━━━\u001b[0m \u001b[32m300.2/300.2 kB\u001b[0m \u001b[31m40.7 MB/s\u001b[0m eta \u001b[36m0:00:00\u001b[0m\n",
            "\u001b[?25hCollecting setproctitle (from wandb->opr==0.2.1)\n",
            "  Downloading setproctitle-1.3.3-cp310-cp310-manylinux_2_5_x86_64.manylinux1_x86_64.manylinux_2_17_x86_64.manylinux2014_x86_64.whl (30 kB)\n",
            "Requirement already satisfied: setuptools in /usr/local/lib/python3.10/dist-packages (from wandb->opr==0.2.1) (67.7.2)\n",
            "Requirement already satisfied: six>=1.4.0 in /usr/local/lib/python3.10/dist-packages (from docker-pycreds>=0.4.0->wandb->opr==0.2.1) (1.16.0)\n",
            "Collecting gitdb<5,>=4.0.1 (from gitpython!=3.1.29,>=1.0.0->wandb->opr==0.2.1)\n",
            "  Downloading gitdb-4.0.11-py3-none-any.whl (62 kB)\n",
            "\u001b[2K     \u001b[90m━━━━━━━━━━━━━━━━━━━━━━━━━━━━━━━━━━━━━━━━\u001b[0m \u001b[32m62.7/62.7 kB\u001b[0m \u001b[31m10.2 MB/s\u001b[0m eta \u001b[36m0:00:00\u001b[0m\n",
            "\u001b[?25hRequirement already satisfied: typing-extensions in /usr/local/lib/python3.10/dist-packages (from qudida>=0.0.4->albumentations->opr==0.2.1) (4.12.2)\n",
            "Requirement already satisfied: networkx>=2.2 in /usr/local/lib/python3.10/dist-packages (from scikit-image>=0.16.1->albumentations->opr==0.2.1) (3.3)\n",
            "Requirement already satisfied: imageio>=2.4.1 in /usr/local/lib/python3.10/dist-packages (from scikit-image>=0.16.1->albumentations->opr==0.2.1) (2.31.6)\n",
            "Requirement already satisfied: tifffile>=2019.7.26 in /usr/local/lib/python3.10/dist-packages (from scikit-image>=0.16.1->albumentations->opr==0.2.1) (2024.6.18)\n",
            "Requirement already satisfied: PyWavelets>=1.1.1 in /usr/local/lib/python3.10/dist-packages (from scikit-image>=0.16.1->albumentations->opr==0.2.1) (1.6.0)\n",
            "Requirement already satisfied: joblib>=1.1.1 in /usr/local/lib/python3.10/dist-packages (from scikit-learn->pytorch-metric-learning->opr==0.2.1) (1.4.2)\n",
            "Requirement already satisfied: threadpoolctl>=2.0.0 in /usr/local/lib/python3.10/dist-packages (from scikit-learn->pytorch-metric-learning->opr==0.2.1) (3.5.0)\n",
            "Requirement already satisfied: filelock in /usr/local/lib/python3.10/dist-packages (from torch>=1.6.0->pytorch-metric-learning->opr==0.2.1) (3.15.4)\n",
            "Requirement already satisfied: sympy in /usr/local/lib/python3.10/dist-packages (from torch>=1.6.0->pytorch-metric-learning->opr==0.2.1) (1.12.1)\n",
            "Requirement already satisfied: jinja2 in /usr/local/lib/python3.10/dist-packages (from torch>=1.6.0->pytorch-metric-learning->opr==0.2.1) (3.1.4)\n",
            "Requirement already satisfied: fsspec in /usr/local/lib/python3.10/dist-packages (from torch>=1.6.0->pytorch-metric-learning->opr==0.2.1) (2023.6.0)\n",
            "Collecting nvidia-cuda-nvrtc-cu12==12.1.105 (from torch>=1.6.0->pytorch-metric-learning->opr==0.2.1)\n",
            "  Using cached nvidia_cuda_nvrtc_cu12-12.1.105-py3-none-manylinux1_x86_64.whl (23.7 MB)\n",
            "Collecting nvidia-cuda-runtime-cu12==12.1.105 (from torch>=1.6.0->pytorch-metric-learning->opr==0.2.1)\n",
            "  Using cached nvidia_cuda_runtime_cu12-12.1.105-py3-none-manylinux1_x86_64.whl (823 kB)\n",
            "Collecting nvidia-cuda-cupti-cu12==12.1.105 (from torch>=1.6.0->pytorch-metric-learning->opr==0.2.1)\n",
            "  Using cached nvidia_cuda_cupti_cu12-12.1.105-py3-none-manylinux1_x86_64.whl (14.1 MB)\n",
            "Collecting nvidia-cudnn-cu12==8.9.2.26 (from torch>=1.6.0->pytorch-metric-learning->opr==0.2.1)\n",
            "  Using cached nvidia_cudnn_cu12-8.9.2.26-py3-none-manylinux1_x86_64.whl (731.7 MB)\n",
            "Collecting nvidia-cublas-cu12==12.1.3.1 (from torch>=1.6.0->pytorch-metric-learning->opr==0.2.1)\n",
            "  Using cached nvidia_cublas_cu12-12.1.3.1-py3-none-manylinux1_x86_64.whl (410.6 MB)\n",
            "Collecting nvidia-cufft-cu12==11.0.2.54 (from torch>=1.6.0->pytorch-metric-learning->opr==0.2.1)\n",
            "  Using cached nvidia_cufft_cu12-11.0.2.54-py3-none-manylinux1_x86_64.whl (121.6 MB)\n",
            "Collecting nvidia-curand-cu12==10.3.2.106 (from torch>=1.6.0->pytorch-metric-learning->opr==0.2.1)\n",
            "  Using cached nvidia_curand_cu12-10.3.2.106-py3-none-manylinux1_x86_64.whl (56.5 MB)\n",
            "Collecting nvidia-cusolver-cu12==11.4.5.107 (from torch>=1.6.0->pytorch-metric-learning->opr==0.2.1)\n",
            "  Using cached nvidia_cusolver_cu12-11.4.5.107-py3-none-manylinux1_x86_64.whl (124.2 MB)\n",
            "Collecting nvidia-cusparse-cu12==12.1.0.106 (from torch>=1.6.0->pytorch-metric-learning->opr==0.2.1)\n",
            "  Using cached nvidia_cusparse_cu12-12.1.0.106-py3-none-manylinux1_x86_64.whl (196.0 MB)\n",
            "Collecting nvidia-nccl-cu12==2.20.5 (from torch>=1.6.0->pytorch-metric-learning->opr==0.2.1)\n",
            "  Using cached nvidia_nccl_cu12-2.20.5-py3-none-manylinux2014_x86_64.whl (176.2 MB)\n",
            "Collecting nvidia-nvtx-cu12==12.1.105 (from torch>=1.6.0->pytorch-metric-learning->opr==0.2.1)\n",
            "  Using cached nvidia_nvtx_cu12-12.1.105-py3-none-manylinux1_x86_64.whl (99 kB)\n",
            "Requirement already satisfied: triton==2.3.0 in /usr/local/lib/python3.10/dist-packages (from torch>=1.6.0->pytorch-metric-learning->opr==0.2.1) (2.3.0)\n",
            "Collecting nvidia-nvjitlink-cu12 (from nvidia-cusolver-cu12==11.4.5.107->torch>=1.6.0->pytorch-metric-learning->opr==0.2.1)\n",
            "  Downloading nvidia_nvjitlink_cu12-12.5.82-py3-none-manylinux2014_x86_64.whl (21.3 MB)\n",
            "\u001b[2K     \u001b[90m━━━━━━━━━━━━━━━━━━━━━━━━━━━━━━━━━━━━━━━━\u001b[0m \u001b[32m21.3/21.3 MB\u001b[0m \u001b[31m25.2 MB/s\u001b[0m eta \u001b[36m0:00:00\u001b[0m\n",
            "\u001b[?25hCollecting smmap<6,>=3.0.1 (from gitdb<5,>=4.0.1->gitpython!=3.1.29,>=1.0.0->wandb->opr==0.2.1)\n",
            "  Downloading smmap-5.0.1-py3-none-any.whl (24 kB)\n",
            "Requirement already satisfied: MarkupSafe>=2.0 in /usr/local/lib/python3.10/dist-packages (from jinja2->torch>=1.6.0->pytorch-metric-learning->opr==0.2.1) (2.1.5)\n",
            "Requirement already satisfied: mpmath<1.4.0,>=1.1.0 in /usr/local/lib/python3.10/dist-packages (from sympy->torch>=1.6.0->pytorch-metric-learning->opr==0.2.1) (1.3.0)\n",
            "Building wheels for collected packages: opr, antlr4-python3-runtime\n",
            "  Building editable for opr (pyproject.toml) ... \u001b[?25l\u001b[?25hdone\n",
            "  Created wheel for opr: filename=opr-0.2.1-0.editable-py3-none-any.whl size=6476 sha256=4f7f6d1050a0d690b8cc0ba06b2eb7119c2b7cdffa8ce78e77b8fbdfbd710048\n",
            "  Stored in directory: /tmp/pip-ephem-wheel-cache-e9ch8qas/wheels/4e/ea/fc/830ab642798549f1c268b33dc3add210794ad74f3678a0fa0f\n",
            "  Building wheel for antlr4-python3-runtime (setup.py) ... \u001b[?25l\u001b[?25hdone\n",
            "  Created wheel for antlr4-python3-runtime: filename=antlr4_python3_runtime-4.9.3-py3-none-any.whl size=144554 sha256=73f87afb9c2ad03c30bca0af7dc484e93f0ba636b8341360808690a3e0b89256\n",
            "  Stored in directory: /root/.cache/pip/wheels/12/93/dd/1f6a127edc45659556564c5730f6d4e300888f4bca2d4c5a88\n",
            "Successfully built opr antlr4-python3-runtime\n",
            "Installing collected packages: kaleido, antlr4-python3-runtime, smmap, setproctitle, sentry-sdk, omegaconf, nvidia-nvtx-cu12, nvidia-nvjitlink-cu12, nvidia-nccl-cu12, nvidia-curand-cu12, nvidia-cufft-cu12, nvidia-cuda-runtime-cu12, nvidia-cuda-nvrtc-cu12, nvidia-cuda-cupti-cu12, nvidia-cublas-cu12, docker-pycreds, nvidia-cusparse-cu12, nvidia-cudnn-cu12, hydra-core, gitdb, nvidia-cusolver-cu12, gitpython, wandb, pytorch-metric-learning, opr\n",
            "Successfully installed antlr4-python3-runtime-4.9.3 docker-pycreds-0.4.0 gitdb-4.0.11 gitpython-3.1.43 hydra-core-1.3.2 kaleido-0.2.1 nvidia-cublas-cu12-12.1.3.1 nvidia-cuda-cupti-cu12-12.1.105 nvidia-cuda-nvrtc-cu12-12.1.105 nvidia-cuda-runtime-cu12-12.1.105 nvidia-cudnn-cu12-8.9.2.26 nvidia-cufft-cu12-11.0.2.54 nvidia-curand-cu12-10.3.2.106 nvidia-cusolver-cu12-11.4.5.107 nvidia-cusparse-cu12-12.1.0.106 nvidia-nccl-cu12-2.20.5 nvidia-nvjitlink-cu12-12.5.82 nvidia-nvtx-cu12-12.1.105 omegaconf-2.3.0 opr-0.2.1 pytorch-metric-learning-2.5.0 sentry-sdk-2.7.1 setproctitle-1.3.3 smmap-5.0.1 wandb-0.17.4\n"
          ]
        },
        {
          "output_type": "display_data",
          "data": {
            "application/vnd.colab-display-data+json": {
              "pip_warning": {
                "packages": [
                  "pydevd_plugins"
                ]
              },
              "id": "861d0f7e62b843128ff42141dfdbb919"
            }
          },
          "metadata": {}
        },
        {
          "output_type": "stream",
          "name": "stdout",
          "text": [
            "/content\n"
          ]
        }
      ],
      "source": [
        "!git clone -b feat/itlp_outdoor https://github.com/alexmelekhin/open_place_recognition\n",
        "%cd open_place_recognition\n",
        "!pip install -e .  # флаг -e необходим для возможности редактировать код уже установленной библиотеки\n",
        "%cd .."
      ]
    },
    {
      "cell_type": "code",
      "execution_count": null,
      "metadata": {
        "colab": {
          "base_uri": "https://localhost:8080/"
        },
        "id": "wFWPxHws0woD",
        "outputId": "25bc7c07-fa5c-4ffd-f019-b0790ba64b9a"
      },
      "outputs": [
        {
          "output_type": "stream",
          "name": "stdout",
          "text": [
            "Requirement already satisfied: loguru in /usr/local/lib/python3.10/dist-packages (0.7.2)\n"
          ]
        }
      ],
      "source": [
        "!pip install loguru"
      ]
    },
    {
      "cell_type": "code",
      "execution_count": null,
      "metadata": {
        "colab": {
          "base_uri": "https://localhost:8080/"
        },
        "id": "_rscHcEP0x9w",
        "outputId": "f2cd69be-112f-4c04-9273-484fb17fc200"
      },
      "outputs": [
        {
          "output_type": "stream",
          "name": "stdout",
          "text": [
            "Requirement already satisfied: numpy-quaternion in /usr/local/lib/python3.10/dist-packages (2023.0.4)\n",
            "Requirement already satisfied: numpy<2.0,>=1.13 in /usr/local/lib/python3.10/dist-packages (from numpy-quaternion) (1.25.2)\n"
          ]
        }
      ],
      "source": [
        "!python -m pip install numpy-quaternion"
      ]
    },
    {
      "cell_type": "markdown",
      "metadata": {
        "id": "-VDVL9JqVBeP"
      },
      "source": [
        "## Загрузка датасета в Google Colab\n",
        "\n",
        "Пример кода для загрузки датасета."
      ]
    },
    {
      "cell_type": "markdown",
      "metadata": {
        "id": "MCHL-ePgVD_d"
      },
      "source": [
        "Вы можете воспользоваться утилитой gdown, которая по умолчанию доступна в Colab. Допустим, https://drive.google.com/file/d/1rXsx0GEotwwTHjX1PveKdGzcatssO7wg/view?usp=sharing - ссылка на файл. Чтобы скачать его, нам нужно передать в gdown в качестве аргумента его id - для данного примера это `1rXsx0GEotwwTHjX1PveKdGzcatssO7wg` (часть ссылки между `file/d/` и `/view`)."
      ]
    },
    {
      "cell_type": "code",
      "execution_count": null,
      "metadata": {
        "id": "HU_raFZDc5_R"
      },
      "outputs": [],
      "source": [
        "#!gdown 1txG6aPiy5XtxLOxFk0CxFk9Ey_VUsB5T"
      ]
    },
    {
      "cell_type": "markdown",
      "metadata": {
        "id": "M77B11hOVSHw"
      },
      "source": [
        "Вы можете сверить хэш-сумму файла:"
      ]
    },
    {
      "cell_type": "code",
      "execution_count": null,
      "metadata": {
        "id": "CEzvaptYd7q7"
      },
      "outputs": [],
      "source": [
        "#!sha256sum public.zip"
      ]
    },
    {
      "cell_type": "markdown",
      "metadata": {
        "id": "Cl857pVbVUeH"
      },
      "source": [
        "И распаковать архив:"
      ]
    },
    {
      "cell_type": "code",
      "source": [
        "from google.colab import drive\n",
        "drive.mount('/content/drive/')"
      ],
      "metadata": {
        "colab": {
          "base_uri": "https://localhost:8080/"
        },
        "id": "O5a5lLdO8HLD",
        "outputId": "6fea533d-64c0-4f99-fee1-50a0057966d4"
      },
      "execution_count": null,
      "outputs": [
        {
          "output_type": "stream",
          "name": "stdout",
          "text": [
            "Drive already mounted at /content/drive/; to attempt to forcibly remount, call drive.mount(\"/content/drive/\", force_remount=True).\n"
          ]
        }
      ]
    },
    {
      "cell_type": "code",
      "execution_count": null,
      "metadata": {
        "id": "wU7TSZiNevSm"
      },
      "outputs": [],
      "source": [
        "!unzip -q '/content/drive/MyDrive/Colab Notebooks/public.zip'"
      ]
    },
    {
      "cell_type": "markdown",
      "metadata": {
        "id": "KjgoHQ8qVYLz"
      },
      "source": [
        "## Базовое решение"
      ]
    },
    {
      "cell_type": "markdown",
      "metadata": {
        "id": "snGTAkbeVaAk"
      },
      "source": [
        "Создаем даталоадеры"
      ]
    },
    {
      "cell_type": "code",
      "source": [
        "!unzip -q '/content/drive/MyDrive/Colab Notebooks/obfuscated_private_ed.zip'"
      ],
      "metadata": {
        "colab": {
          "base_uri": "https://localhost:8080/"
        },
        "id": "WxJGV6meFvIz",
        "outputId": "8a29f772-6512-4848-8558-225b87eb6b7b"
      },
      "execution_count": null,
      "outputs": [
        {
          "output_type": "stream",
          "name": "stdout",
          "text": [
            "replace __MACOSX/._obfuscated_private_ed? [y]es, [n]o, [A]ll, [N]one, [r]ename: "
          ]
        }
      ]
    },
    {
      "cell_type": "code",
      "execution_count": null,
      "metadata": {
        "id": "-ABtBcWbeyOh"
      },
      "outputs": [],
      "source": [
        "DATA_ROOT = \"/content/public\""
      ]
    },
    {
      "cell_type": "code",
      "source": [
        "DATA_ROOT2 = \"/content/obfuscated_private_ed\""
      ],
      "metadata": {
        "id": "YaZWURV9QBsC"
      },
      "execution_count": null,
      "outputs": []
    },
    {
      "cell_type": "code",
      "execution_count": null,
      "metadata": {
        "id": "Aa2CcbvzhW-2"
      },
      "outputs": [],
      "source": [
        "from torch.utils.data import DataLoader\n",
        "\n",
        "from opr.datasets.itlp_outdoor import ITLPCampusOutdoor\n",
        "from opr.samplers import BatchSampler"
      ]
    },
    {
      "cell_type": "code",
      "execution_count": null,
      "metadata": {
        "id": "7nZ5T3KmhYR2"
      },
      "outputs": [],
      "source": [
        "train_dataset = ITLPCampusOutdoor(\n",
        "    DATA_ROOT,\n",
        "    subset=\"train\",\n",
        "    sensors=(\"front_cam\", \"back_cam\"),\n",
        "    load_semantics=True,\n",
        ")\n",
        "val_dataset = ITLPCampusOutdoor(\n",
        "    DATA_ROOT,\n",
        "    subset=\"val\",\n",
        "    sensors=(\"front_cam\", \"back_cam\"),\n",
        "    load_semantics=True,\n",
        ")\n",
        "\n",
        "test_dataset = ITLPCampusOutdoor(\n",
        "    DATA_ROOT,\n",
        "    subset=\"test\",\n",
        "    sensors=(\"front_cam\", \"back_cam\"),\n",
        "    load_semantics=True,\n",
        ")"
      ]
    },
    {
      "cell_type": "code",
      "execution_count": null,
      "metadata": {
        "id": "EjDaCWMUtXH2"
      },
      "outputs": [],
      "source": [
        "train_sampler = BatchSampler(\n",
        "    train_dataset,\n",
        "    batch_size=16,  # initial batch size\n",
        "    batch_size_limit=256,  # maximum batch size (see \"Dynamic Batch Sizing\")\n",
        "    batch_expansion_rate=1.4,\n",
        "    drop_last=True,\n",
        ")\n",
        "val_sampler = BatchSampler(\n",
        "    val_dataset,\n",
        "    batch_size=256,  # initial batch size\n",
        "    drop_last=True,\n",
        ")"
      ]
    },
    {
      "cell_type": "code",
      "execution_count": null,
      "metadata": {
        "id": "ftIEDAzetoWp",
        "colab": {
          "base_uri": "https://localhost:8080/"
        },
        "outputId": "e9f0aa45-4642-478a-fcc0-6d03ac0f7e50"
      },
      "outputs": [
        {
          "output_type": "stream",
          "name": "stderr",
          "text": [
            "/usr/local/lib/python3.10/dist-packages/torch/utils/data/dataloader.py:558: UserWarning: This DataLoader will create 4 worker processes in total. Our suggested max number of worker in current system is 2, which is smaller than what this DataLoader is going to create. Please be aware that excessive worker creation might get DataLoader running slow or even freeze, lower the worker number to avoid potential slowness/freeze if necessary.\n",
            "  warnings.warn(_create_warning_msg(\n"
          ]
        }
      ],
      "source": [
        "train_dl = DataLoader(\n",
        "    dataset=train_dataset,\n",
        "    batch_sampler=train_sampler,\n",
        "    collate_fn=train_dataset.collate_fn,\n",
        "    num_workers=4,\n",
        "    pin_memory=True,\n",
        ")\n",
        "val_dl = DataLoader(\n",
        "    dataset=val_dataset,\n",
        "    batch_sampler=val_sampler,\n",
        "    collate_fn=val_dataset.collate_fn,\n",
        "    num_workers=4,\n",
        "    pin_memory=True,\n",
        ")\n",
        "\n",
        "test_dl = DataLoader(\n",
        "    dataset=test_dataset,\n",
        "    batch_size=256,\n",
        "    collate_fn=test_dataset.collate_fn,\n",
        "    num_workers=4,\n",
        "    pin_memory=True,\n",
        "    drop_last=False,\n",
        ")\n"
      ]
    },
    {
      "cell_type": "markdown",
      "source": [
        "## BLIP + BERT"
      ],
      "metadata": {
        "id": "dL9TJYZf9HZm"
      }
    },
    {
      "cell_type": "markdown",
      "source": [
        "### BLIP"
      ],
      "metadata": {
        "id": "Ht6s4AreIgcR"
      }
    },
    {
      "cell_type": "code",
      "source": [
        "!pip3 install salesforce-lavis"
      ],
      "metadata": {
        "id": "pw8JznSBEPVK",
        "collapsed": true,
        "colab": {
          "base_uri": "https://localhost:8080/",
          "height": 1000
        },
        "outputId": "41a8aef8-8c16-4f36-d8c2-48957fabd8c7"
      },
      "execution_count": null,
      "outputs": [
        {
          "output_type": "stream",
          "name": "stdout",
          "text": [
            "Collecting salesforce-lavis\n",
            "  Downloading salesforce_lavis-1.0.2-py3-none-any.whl (1.8 MB)\n",
            "\u001b[?25l     \u001b[90m━━━━━━━━━━━━━━━━━━━━━━━━━━━━━━━━━━━━━━━━\u001b[0m \u001b[32m0.0/1.8 MB\u001b[0m \u001b[31m?\u001b[0m eta \u001b[36m-:--:--\u001b[0m\r\u001b[2K     \u001b[91m━━━━━━━━━━━━━━━━━\u001b[0m\u001b[90m╺\u001b[0m\u001b[90m━━━━━━━━━━━━━━━━━━━━━━\u001b[0m \u001b[32m0.8/1.8 MB\u001b[0m \u001b[31m23.2 MB/s\u001b[0m eta \u001b[36m0:00:01\u001b[0m\r\u001b[2K     \u001b[90m━━━━━━━━━━━━━━━━━━━━━━━━━━━━━━━━━━━━━━━━\u001b[0m \u001b[32m1.8/1.8 MB\u001b[0m \u001b[31m28.1 MB/s\u001b[0m eta \u001b[36m0:00:00\u001b[0m\n",
            "\u001b[?25hCollecting contexttimer (from salesforce-lavis)\n",
            "  Downloading contexttimer-0.3.3.tar.gz (4.9 kB)\n",
            "  Preparing metadata (setup.py) ... \u001b[?25l\u001b[?25hdone\n",
            "Collecting decord (from salesforce-lavis)\n",
            "  Downloading decord-0.6.0-py3-none-manylinux2010_x86_64.whl (13.6 MB)\n",
            "\u001b[2K     \u001b[90m━━━━━━━━━━━━━━━━━━━━━━━━━━━━━━━━━━━━━━━━\u001b[0m \u001b[32m13.6/13.6 MB\u001b[0m \u001b[31m59.5 MB/s\u001b[0m eta \u001b[36m0:00:00\u001b[0m\n",
            "\u001b[?25hCollecting einops>=0.4.1 (from salesforce-lavis)\n",
            "  Downloading einops-0.8.0-py3-none-any.whl (43 kB)\n",
            "\u001b[2K     \u001b[90m━━━━━━━━━━━━━━━━━━━━━━━━━━━━━━━━━━━━━━━━\u001b[0m \u001b[32m43.2/43.2 kB\u001b[0m \u001b[31m5.1 MB/s\u001b[0m eta \u001b[36m0:00:00\u001b[0m\n",
            "\u001b[?25hCollecting fairscale==0.4.4 (from salesforce-lavis)\n",
            "  Downloading fairscale-0.4.4.tar.gz (235 kB)\n",
            "\u001b[2K     \u001b[90m━━━━━━━━━━━━━━━━━━━━━━━━━━━━━━━━━━━━━━━━\u001b[0m \u001b[32m235.4/235.4 kB\u001b[0m \u001b[31m25.9 MB/s\u001b[0m eta \u001b[36m0:00:00\u001b[0m\n",
            "\u001b[?25h  Installing build dependencies ... \u001b[?25l\u001b[?25hdone\n",
            "  Getting requirements to build wheel ... \u001b[?25l\u001b[?25hdone\n",
            "  Installing backend dependencies ... \u001b[?25l\u001b[?25hdone\n",
            "  Preparing metadata (pyproject.toml) ... \u001b[?25l\u001b[?25hdone\n",
            "Collecting ftfy (from salesforce-lavis)\n",
            "  Downloading ftfy-6.2.0-py3-none-any.whl (54 kB)\n",
            "\u001b[2K     \u001b[90m━━━━━━━━━━━━━━━━━━━━━━━━━━━━━━━━━━━━━━━━\u001b[0m \u001b[32m54.4/54.4 kB\u001b[0m \u001b[31m8.0 MB/s\u001b[0m eta \u001b[36m0:00:00\u001b[0m\n",
            "\u001b[?25hCollecting iopath (from salesforce-lavis)\n",
            "  Downloading iopath-0.1.10.tar.gz (42 kB)\n",
            "\u001b[2K     \u001b[90m━━━━━━━━━━━━━━━━━━━━━━━━━━━━━━━━━━━━━━━━\u001b[0m \u001b[32m42.2/42.2 kB\u001b[0m \u001b[31m6.5 MB/s\u001b[0m eta \u001b[36m0:00:00\u001b[0m\n",
            "\u001b[?25h  Preparing metadata (setup.py) ... \u001b[?25l\u001b[?25hdone\n",
            "Requirement already satisfied: ipython in /usr/local/lib/python3.10/dist-packages (from salesforce-lavis) (7.34.0)\n",
            "Requirement already satisfied: omegaconf in /usr/local/lib/python3.10/dist-packages (from salesforce-lavis) (2.3.0)\n",
            "Collecting opencv-python-headless==4.5.5.64 (from salesforce-lavis)\n",
            "  Downloading opencv_python_headless-4.5.5.64-cp36-abi3-manylinux_2_17_x86_64.manylinux2014_x86_64.whl (47.8 MB)\n",
            "\u001b[2K     \u001b[90m━━━━━━━━━━━━━━━━━━━━━━━━━━━━━━━━━━━━━━━━\u001b[0m \u001b[32m47.8/47.8 MB\u001b[0m \u001b[31m10.0 MB/s\u001b[0m eta \u001b[36m0:00:00\u001b[0m\n",
            "\u001b[?25hCollecting opendatasets (from salesforce-lavis)\n",
            "  Downloading opendatasets-0.1.22-py3-none-any.whl (15 kB)\n",
            "Requirement already satisfied: packaging in /usr/local/lib/python3.10/dist-packages (from salesforce-lavis) (24.1)\n",
            "Requirement already satisfied: pandas in /usr/local/lib/python3.10/dist-packages (from salesforce-lavis) (2.0.3)\n",
            "Requirement already satisfied: plotly in /usr/local/lib/python3.10/dist-packages (from salesforce-lavis) (5.15.0)\n",
            "Collecting pre-commit (from salesforce-lavis)\n",
            "  Downloading pre_commit-3.7.1-py2.py3-none-any.whl (204 kB)\n",
            "\u001b[2K     \u001b[90m━━━━━━━━━━━━━━━━━━━━━━━━━━━━━━━━━━━━━━━━\u001b[0m \u001b[32m204.3/204.3 kB\u001b[0m \u001b[31m29.6 MB/s\u001b[0m eta \u001b[36m0:00:00\u001b[0m\n",
            "\u001b[?25hCollecting pycocoevalcap (from salesforce-lavis)\n",
            "  Downloading pycocoevalcap-1.2-py3-none-any.whl (104.3 MB)\n",
            "\u001b[2K     \u001b[90m━━━━━━━━━━━━━━━━━━━━━━━━━━━━━━━━━━━━━━━━\u001b[0m \u001b[32m104.3/104.3 MB\u001b[0m \u001b[31m9.4 MB/s\u001b[0m eta \u001b[36m0:00:00\u001b[0m\n",
            "\u001b[?25hRequirement already satisfied: pycocotools in /usr/local/lib/python3.10/dist-packages (from salesforce-lavis) (2.0.8)\n",
            "Collecting python-magic (from salesforce-lavis)\n",
            "  Downloading python_magic-0.4.27-py2.py3-none-any.whl (13 kB)\n",
            "Requirement already satisfied: scikit-image in /usr/local/lib/python3.10/dist-packages (from salesforce-lavis) (0.19.3)\n",
            "Requirement already satisfied: sentencepiece in /usr/local/lib/python3.10/dist-packages (from salesforce-lavis) (0.1.99)\n",
            "Requirement already satisfied: spacy in /usr/local/lib/python3.10/dist-packages (from salesforce-lavis) (3.7.5)\n",
            "Collecting streamlit (from salesforce-lavis)\n",
            "  Downloading streamlit-1.36.0-py2.py3-none-any.whl (8.6 MB)\n",
            "\u001b[2K     \u001b[90m━━━━━━━━━━━━━━━━━━━━━━━━━━━━━━━━━━━━━━━━\u001b[0m \u001b[32m8.6/8.6 MB\u001b[0m \u001b[31m90.9 MB/s\u001b[0m eta \u001b[36m0:00:00\u001b[0m\n",
            "\u001b[?25hCollecting timm==0.4.12 (from salesforce-lavis)\n",
            "  Downloading timm-0.4.12-py3-none-any.whl (376 kB)\n",
            "\u001b[2K     \u001b[90m━━━━━━━━━━━━━━━━━━━━━━━━━━━━━━━━━━━━━━━━\u001b[0m \u001b[32m377.0/377.0 kB\u001b[0m \u001b[31m44.3 MB/s\u001b[0m eta \u001b[36m0:00:00\u001b[0m\n",
            "\u001b[?25hRequirement already satisfied: torch>=1.10.0 in /usr/local/lib/python3.10/dist-packages (from salesforce-lavis) (2.3.0+cu121)\n",
            "Requirement already satisfied: torchvision in /usr/local/lib/python3.10/dist-packages (from salesforce-lavis) (0.18.0+cu121)\n",
            "Requirement already satisfied: tqdm in /usr/local/lib/python3.10/dist-packages (from salesforce-lavis) (4.66.4)\n",
            "Collecting transformers<4.27,>=4.25.0 (from salesforce-lavis)\n",
            "  Downloading transformers-4.26.1-py3-none-any.whl (6.3 MB)\n",
            "\u001b[2K     \u001b[90m━━━━━━━━━━━━━━━━━━━━━━━━━━━━━━━━━━━━━━━━\u001b[0m \u001b[32m6.3/6.3 MB\u001b[0m \u001b[31m74.3 MB/s\u001b[0m eta \u001b[36m0:00:00\u001b[0m\n",
            "\u001b[?25hCollecting webdataset (from salesforce-lavis)\n",
            "  Downloading webdataset-0.2.86-py3-none-any.whl (70 kB)\n",
            "\u001b[2K     \u001b[90m━━━━━━━━━━━━━━━━━━━━━━━━━━━━━━━━━━━━━━━━\u001b[0m \u001b[32m70.4/70.4 kB\u001b[0m \u001b[31m11.5 MB/s\u001b[0m eta \u001b[36m0:00:00\u001b[0m\n",
            "\u001b[?25hRequirement already satisfied: wheel in /usr/local/lib/python3.10/dist-packages (from salesforce-lavis) (0.43.0)\n",
            "Requirement already satisfied: numpy>=1.21.2 in /usr/local/lib/python3.10/dist-packages (from opencv-python-headless==4.5.5.64->salesforce-lavis) (1.25.2)\n",
            "Requirement already satisfied: filelock in /usr/local/lib/python3.10/dist-packages (from torch>=1.10.0->salesforce-lavis) (3.15.4)\n",
            "Requirement already satisfied: typing-extensions>=4.8.0 in /usr/local/lib/python3.10/dist-packages (from torch>=1.10.0->salesforce-lavis) (4.12.2)\n",
            "Requirement already satisfied: sympy in /usr/local/lib/python3.10/dist-packages (from torch>=1.10.0->salesforce-lavis) (1.12.1)\n",
            "Requirement already satisfied: networkx in /usr/local/lib/python3.10/dist-packages (from torch>=1.10.0->salesforce-lavis) (3.3)\n",
            "Requirement already satisfied: jinja2 in /usr/local/lib/python3.10/dist-packages (from torch>=1.10.0->salesforce-lavis) (3.1.4)\n",
            "Requirement already satisfied: fsspec in /usr/local/lib/python3.10/dist-packages (from torch>=1.10.0->salesforce-lavis) (2023.6.0)\n",
            "Requirement already satisfied: nvidia-cuda-nvrtc-cu12==12.1.105 in /usr/local/lib/python3.10/dist-packages (from torch>=1.10.0->salesforce-lavis) (12.1.105)\n",
            "Requirement already satisfied: nvidia-cuda-runtime-cu12==12.1.105 in /usr/local/lib/python3.10/dist-packages (from torch>=1.10.0->salesforce-lavis) (12.1.105)\n",
            "Requirement already satisfied: nvidia-cuda-cupti-cu12==12.1.105 in /usr/local/lib/python3.10/dist-packages (from torch>=1.10.0->salesforce-lavis) (12.1.105)\n",
            "Requirement already satisfied: nvidia-cudnn-cu12==8.9.2.26 in /usr/local/lib/python3.10/dist-packages (from torch>=1.10.0->salesforce-lavis) (8.9.2.26)\n",
            "Requirement already satisfied: nvidia-cublas-cu12==12.1.3.1 in /usr/local/lib/python3.10/dist-packages (from torch>=1.10.0->salesforce-lavis) (12.1.3.1)\n",
            "Requirement already satisfied: nvidia-cufft-cu12==11.0.2.54 in /usr/local/lib/python3.10/dist-packages (from torch>=1.10.0->salesforce-lavis) (11.0.2.54)\n",
            "Requirement already satisfied: nvidia-curand-cu12==10.3.2.106 in /usr/local/lib/python3.10/dist-packages (from torch>=1.10.0->salesforce-lavis) (10.3.2.106)\n",
            "Requirement already satisfied: nvidia-cusolver-cu12==11.4.5.107 in /usr/local/lib/python3.10/dist-packages (from torch>=1.10.0->salesforce-lavis) (11.4.5.107)\n",
            "Requirement already satisfied: nvidia-cusparse-cu12==12.1.0.106 in /usr/local/lib/python3.10/dist-packages (from torch>=1.10.0->salesforce-lavis) (12.1.0.106)\n",
            "Requirement already satisfied: nvidia-nccl-cu12==2.20.5 in /usr/local/lib/python3.10/dist-packages (from torch>=1.10.0->salesforce-lavis) (2.20.5)\n",
            "Requirement already satisfied: nvidia-nvtx-cu12==12.1.105 in /usr/local/lib/python3.10/dist-packages (from torch>=1.10.0->salesforce-lavis) (12.1.105)\n",
            "Requirement already satisfied: triton==2.3.0 in /usr/local/lib/python3.10/dist-packages (from torch>=1.10.0->salesforce-lavis) (2.3.0)\n",
            "Requirement already satisfied: nvidia-nvjitlink-cu12 in /usr/local/lib/python3.10/dist-packages (from nvidia-cusolver-cu12==11.4.5.107->torch>=1.10.0->salesforce-lavis) (12.5.82)\n",
            "Requirement already satisfied: huggingface-hub<1.0,>=0.11.0 in /usr/local/lib/python3.10/dist-packages (from transformers<4.27,>=4.25.0->salesforce-lavis) (0.23.4)\n",
            "Requirement already satisfied: pyyaml>=5.1 in /usr/local/lib/python3.10/dist-packages (from transformers<4.27,>=4.25.0->salesforce-lavis) (6.0.1)\n",
            "Requirement already satisfied: regex!=2019.12.17 in /usr/local/lib/python3.10/dist-packages (from transformers<4.27,>=4.25.0->salesforce-lavis) (2024.5.15)\n",
            "Requirement already satisfied: requests in /usr/local/lib/python3.10/dist-packages (from transformers<4.27,>=4.25.0->salesforce-lavis) (2.31.0)\n",
            "Collecting tokenizers!=0.11.3,<0.14,>=0.11.1 (from transformers<4.27,>=4.25.0->salesforce-lavis)\n",
            "  Downloading tokenizers-0.13.3-cp310-cp310-manylinux_2_17_x86_64.manylinux2014_x86_64.whl (7.8 MB)\n",
            "\u001b[2K     \u001b[90m━━━━━━━━━━━━━━━━━━━━━━━━━━━━━━━━━━━━━━━━\u001b[0m \u001b[32m7.8/7.8 MB\u001b[0m \u001b[31m104.2 MB/s\u001b[0m eta \u001b[36m0:00:00\u001b[0m\n",
            "\u001b[?25hRequirement already satisfied: wcwidth<0.3.0,>=0.2.12 in /usr/local/lib/python3.10/dist-packages (from ftfy->salesforce-lavis) (0.2.13)\n",
            "Collecting portalocker (from iopath->salesforce-lavis)\n",
            "  Downloading portalocker-2.10.0-py3-none-any.whl (18 kB)\n",
            "Requirement already satisfied: setuptools>=18.5 in /usr/local/lib/python3.10/dist-packages (from ipython->salesforce-lavis) (67.7.2)\n",
            "Collecting jedi>=0.16 (from ipython->salesforce-lavis)\n",
            "  Downloading jedi-0.19.1-py2.py3-none-any.whl (1.6 MB)\n",
            "\u001b[2K     \u001b[90m━━━━━━━━━━━━━━━━━━━━━━━━━━━━━━━━━━━━━━━━\u001b[0m \u001b[32m1.6/1.6 MB\u001b[0m \u001b[31m84.9 MB/s\u001b[0m eta \u001b[36m0:00:00\u001b[0m\n",
            "\u001b[?25hRequirement already satisfied: decorator in /usr/local/lib/python3.10/dist-packages (from ipython->salesforce-lavis) (4.4.2)\n",
            "Requirement already satisfied: pickleshare in /usr/local/lib/python3.10/dist-packages (from ipython->salesforce-lavis) (0.7.5)\n",
            "Requirement already satisfied: traitlets>=4.2 in /usr/local/lib/python3.10/dist-packages (from ipython->salesforce-lavis) (5.7.1)\n",
            "Requirement already satisfied: prompt-toolkit!=3.0.0,!=3.0.1,<3.1.0,>=2.0.0 in /usr/local/lib/python3.10/dist-packages (from ipython->salesforce-lavis) (3.0.47)\n",
            "Requirement already satisfied: pygments in /usr/local/lib/python3.10/dist-packages (from ipython->salesforce-lavis) (2.16.1)\n",
            "Requirement already satisfied: backcall in /usr/local/lib/python3.10/dist-packages (from ipython->salesforce-lavis) (0.2.0)\n",
            "Requirement already satisfied: matplotlib-inline in /usr/local/lib/python3.10/dist-packages (from ipython->salesforce-lavis) (0.1.7)\n",
            "Requirement already satisfied: pexpect>4.3 in /usr/local/lib/python3.10/dist-packages (from ipython->salesforce-lavis) (4.9.0)\n",
            "Requirement already satisfied: antlr4-python3-runtime==4.9.* in /usr/local/lib/python3.10/dist-packages (from omegaconf->salesforce-lavis) (4.9.3)\n",
            "Requirement already satisfied: kaggle in /usr/local/lib/python3.10/dist-packages (from opendatasets->salesforce-lavis) (1.6.14)\n",
            "Requirement already satisfied: click in /usr/local/lib/python3.10/dist-packages (from opendatasets->salesforce-lavis) (8.1.7)\n",
            "Requirement already satisfied: python-dateutil>=2.8.2 in /usr/local/lib/python3.10/dist-packages (from pandas->salesforce-lavis) (2.8.2)\n",
            "Requirement already satisfied: pytz>=2020.1 in /usr/local/lib/python3.10/dist-packages (from pandas->salesforce-lavis) (2023.4)\n",
            "Requirement already satisfied: tzdata>=2022.1 in /usr/local/lib/python3.10/dist-packages (from pandas->salesforce-lavis) (2024.1)\n",
            "Requirement already satisfied: tenacity>=6.2.0 in /usr/local/lib/python3.10/dist-packages (from plotly->salesforce-lavis) (8.4.2)\n",
            "Collecting cfgv>=2.0.0 (from pre-commit->salesforce-lavis)\n",
            "  Downloading cfgv-3.4.0-py2.py3-none-any.whl (7.2 kB)\n",
            "Collecting identify>=1.0.0 (from pre-commit->salesforce-lavis)\n",
            "  Downloading identify-2.5.36-py2.py3-none-any.whl (98 kB)\n",
            "\u001b[2K     \u001b[90m━━━━━━━━━━━━━━━━━━━━━━━━━━━━━━━━━━━━━━━━\u001b[0m \u001b[32m99.0/99.0 kB\u001b[0m \u001b[31m14.6 MB/s\u001b[0m eta \u001b[36m0:00:00\u001b[0m\n",
            "\u001b[?25hCollecting nodeenv>=0.11.1 (from pre-commit->salesforce-lavis)\n",
            "  Downloading nodeenv-1.9.1-py2.py3-none-any.whl (22 kB)\n",
            "Collecting virtualenv>=20.10.0 (from pre-commit->salesforce-lavis)\n",
            "  Downloading virtualenv-20.26.3-py3-none-any.whl (5.7 MB)\n",
            "\u001b[2K     \u001b[90m━━━━━━━━━━━━━━━━━━━━━━━━━━━━━━━━━━━━━━━━\u001b[0m \u001b[32m5.7/5.7 MB\u001b[0m \u001b[31m108.0 MB/s\u001b[0m eta \u001b[36m0:00:00\u001b[0m\n",
            "\u001b[?25hRequirement already satisfied: matplotlib>=2.1.0 in /usr/local/lib/python3.10/dist-packages (from pycocotools->salesforce-lavis) (3.7.1)\n",
            "Requirement already satisfied: scipy>=1.4.1 in /usr/local/lib/python3.10/dist-packages (from scikit-image->salesforce-lavis) (1.11.4)\n",
            "Requirement already satisfied: pillow!=7.1.0,!=7.1.1,!=8.3.0,>=6.1.0 in /usr/local/lib/python3.10/dist-packages (from scikit-image->salesforce-lavis) (9.4.0)\n",
            "Requirement already satisfied: imageio>=2.4.1 in /usr/local/lib/python3.10/dist-packages (from scikit-image->salesforce-lavis) (2.31.6)\n",
            "Requirement already satisfied: tifffile>=2019.7.26 in /usr/local/lib/python3.10/dist-packages (from scikit-image->salesforce-lavis) (2024.6.18)\n",
            "Requirement already satisfied: PyWavelets>=1.1.1 in /usr/local/lib/python3.10/dist-packages (from scikit-image->salesforce-lavis) (1.6.0)\n",
            "Requirement already satisfied: spacy-legacy<3.1.0,>=3.0.11 in /usr/local/lib/python3.10/dist-packages (from spacy->salesforce-lavis) (3.0.12)\n",
            "Requirement already satisfied: spacy-loggers<2.0.0,>=1.0.0 in /usr/local/lib/python3.10/dist-packages (from spacy->salesforce-lavis) (1.0.5)\n",
            "Requirement already satisfied: murmurhash<1.1.0,>=0.28.0 in /usr/local/lib/python3.10/dist-packages (from spacy->salesforce-lavis) (1.0.10)\n",
            "Requirement already satisfied: cymem<2.1.0,>=2.0.2 in /usr/local/lib/python3.10/dist-packages (from spacy->salesforce-lavis) (2.0.8)\n",
            "Requirement already satisfied: preshed<3.1.0,>=3.0.2 in /usr/local/lib/python3.10/dist-packages (from spacy->salesforce-lavis) (3.0.9)\n",
            "Requirement already satisfied: thinc<8.3.0,>=8.2.2 in /usr/local/lib/python3.10/dist-packages (from spacy->salesforce-lavis) (8.2.5)\n",
            "Requirement already satisfied: wasabi<1.2.0,>=0.9.1 in /usr/local/lib/python3.10/dist-packages (from spacy->salesforce-lavis) (1.1.3)\n",
            "Requirement already satisfied: srsly<3.0.0,>=2.4.3 in /usr/local/lib/python3.10/dist-packages (from spacy->salesforce-lavis) (2.4.8)\n",
            "Requirement already satisfied: catalogue<2.1.0,>=2.0.6 in /usr/local/lib/python3.10/dist-packages (from spacy->salesforce-lavis) (2.0.10)\n",
            "Requirement already satisfied: weasel<0.5.0,>=0.1.0 in /usr/local/lib/python3.10/dist-packages (from spacy->salesforce-lavis) (0.4.1)\n",
            "Requirement already satisfied: typer<1.0.0,>=0.3.0 in /usr/local/lib/python3.10/dist-packages (from spacy->salesforce-lavis) (0.12.3)\n",
            "Requirement already satisfied: pydantic!=1.8,!=1.8.1,<3.0.0,>=1.7.4 in /usr/local/lib/python3.10/dist-packages (from spacy->salesforce-lavis) (2.8.0)\n",
            "Requirement already satisfied: langcodes<4.0.0,>=3.2.0 in /usr/local/lib/python3.10/dist-packages (from spacy->salesforce-lavis) (3.4.0)\n",
            "Requirement already satisfied: altair<6,>=4.0 in /usr/local/lib/python3.10/dist-packages (from streamlit->salesforce-lavis) (4.2.2)\n",
            "Requirement already satisfied: blinker<2,>=1.0.0 in /usr/lib/python3/dist-packages (from streamlit->salesforce-lavis) (1.4)\n",
            "Requirement already satisfied: cachetools<6,>=4.0 in /usr/local/lib/python3.10/dist-packages (from streamlit->salesforce-lavis) (5.3.3)\n",
            "Requirement already satisfied: protobuf<6,>=3.20 in /usr/local/lib/python3.10/dist-packages (from streamlit->salesforce-lavis) (3.20.3)\n",
            "Requirement already satisfied: pyarrow>=7.0 in /usr/local/lib/python3.10/dist-packages (from streamlit->salesforce-lavis) (14.0.2)\n",
            "Requirement already satisfied: rich<14,>=10.14.0 in /usr/local/lib/python3.10/dist-packages (from streamlit->salesforce-lavis) (13.7.1)\n",
            "Requirement already satisfied: toml<2,>=0.10.1 in /usr/local/lib/python3.10/dist-packages (from streamlit->salesforce-lavis) (0.10.2)\n",
            "Requirement already satisfied: gitpython!=3.1.19,<4,>=3.0.7 in /usr/local/lib/python3.10/dist-packages (from streamlit->salesforce-lavis) (3.1.43)\n",
            "Collecting pydeck<1,>=0.8.0b4 (from streamlit->salesforce-lavis)\n",
            "  Downloading pydeck-0.9.1-py2.py3-none-any.whl (6.9 MB)\n",
            "\u001b[2K     \u001b[90m━━━━━━━━━━━━━━━━━━━━━━━━━━━━━━━━━━━━━━━━\u001b[0m \u001b[32m6.9/6.9 MB\u001b[0m \u001b[31m109.6 MB/s\u001b[0m eta \u001b[36m0:00:00\u001b[0m\n",
            "\u001b[?25hRequirement already satisfied: tornado<7,>=6.0.3 in /usr/local/lib/python3.10/dist-packages (from streamlit->salesforce-lavis) (6.3.3)\n",
            "Collecting watchdog<5,>=2.1.5 (from streamlit->salesforce-lavis)\n",
            "  Downloading watchdog-4.0.1-py3-none-manylinux2014_x86_64.whl (83 kB)\n",
            "\u001b[2K     \u001b[90m━━━━━━━━━━━━━━━━━━━━━━━━━━━━━━━━━━━━━━━━\u001b[0m \u001b[32m83.0/83.0 kB\u001b[0m \u001b[31m13.0 MB/s\u001b[0m eta \u001b[36m0:00:00\u001b[0m\n",
            "\u001b[?25hCollecting braceexpand (from webdataset->salesforce-lavis)\n",
            "  Downloading braceexpand-0.1.7-py2.py3-none-any.whl (5.9 kB)\n",
            "Requirement already satisfied: entrypoints in /usr/local/lib/python3.10/dist-packages (from altair<6,>=4.0->streamlit->salesforce-lavis) (0.4)\n",
            "Requirement already satisfied: jsonschema>=3.0 in /usr/local/lib/python3.10/dist-packages (from altair<6,>=4.0->streamlit->salesforce-lavis) (4.19.2)\n",
            "Requirement already satisfied: toolz in /usr/local/lib/python3.10/dist-packages (from altair<6,>=4.0->streamlit->salesforce-lavis) (0.12.1)\n",
            "Requirement already satisfied: gitdb<5,>=4.0.1 in /usr/local/lib/python3.10/dist-packages (from gitpython!=3.1.19,<4,>=3.0.7->streamlit->salesforce-lavis) (4.0.11)\n",
            "Requirement already satisfied: parso<0.9.0,>=0.8.3 in /usr/local/lib/python3.10/dist-packages (from jedi>=0.16->ipython->salesforce-lavis) (0.8.4)\n",
            "Requirement already satisfied: language-data>=1.2 in /usr/local/lib/python3.10/dist-packages (from langcodes<4.0.0,>=3.2.0->spacy->salesforce-lavis) (1.2.0)\n",
            "Requirement already satisfied: contourpy>=1.0.1 in /usr/local/lib/python3.10/dist-packages (from matplotlib>=2.1.0->pycocotools->salesforce-lavis) (1.2.1)\n",
            "Requirement already satisfied: cycler>=0.10 in /usr/local/lib/python3.10/dist-packages (from matplotlib>=2.1.0->pycocotools->salesforce-lavis) (0.12.1)\n",
            "Requirement already satisfied: fonttools>=4.22.0 in /usr/local/lib/python3.10/dist-packages (from matplotlib>=2.1.0->pycocotools->salesforce-lavis) (4.53.0)\n",
            "Requirement already satisfied: kiwisolver>=1.0.1 in /usr/local/lib/python3.10/dist-packages (from matplotlib>=2.1.0->pycocotools->salesforce-lavis) (1.4.5)\n",
            "Requirement already satisfied: pyparsing>=2.3.1 in /usr/local/lib/python3.10/dist-packages (from matplotlib>=2.1.0->pycocotools->salesforce-lavis) (3.1.2)\n",
            "Requirement already satisfied: ptyprocess>=0.5 in /usr/local/lib/python3.10/dist-packages (from pexpect>4.3->ipython->salesforce-lavis) (0.7.0)\n",
            "Requirement already satisfied: annotated-types>=0.4.0 in /usr/local/lib/python3.10/dist-packages (from pydantic!=1.8,!=1.8.1,<3.0.0,>=1.7.4->spacy->salesforce-lavis) (0.7.0)\n",
            "Requirement already satisfied: pydantic-core==2.20.0 in /usr/local/lib/python3.10/dist-packages (from pydantic!=1.8,!=1.8.1,<3.0.0,>=1.7.4->spacy->salesforce-lavis) (2.20.0)\n",
            "Requirement already satisfied: MarkupSafe>=2.0 in /usr/local/lib/python3.10/dist-packages (from jinja2->torch>=1.10.0->salesforce-lavis) (2.1.5)\n",
            "Requirement already satisfied: six>=1.5 in /usr/local/lib/python3.10/dist-packages (from python-dateutil>=2.8.2->pandas->salesforce-lavis) (1.16.0)\n",
            "Requirement already satisfied: charset-normalizer<4,>=2 in /usr/local/lib/python3.10/dist-packages (from requests->transformers<4.27,>=4.25.0->salesforce-lavis) (3.3.2)\n",
            "Requirement already satisfied: idna<4,>=2.5 in /usr/local/lib/python3.10/dist-packages (from requests->transformers<4.27,>=4.25.0->salesforce-lavis) (3.7)\n",
            "Requirement already satisfied: urllib3<3,>=1.21.1 in /usr/local/lib/python3.10/dist-packages (from requests->transformers<4.27,>=4.25.0->salesforce-lavis) (2.0.7)\n",
            "Requirement already satisfied: certifi>=2017.4.17 in /usr/local/lib/python3.10/dist-packages (from requests->transformers<4.27,>=4.25.0->salesforce-lavis) (2024.6.2)\n",
            "Requirement already satisfied: markdown-it-py>=2.2.0 in /usr/local/lib/python3.10/dist-packages (from rich<14,>=10.14.0->streamlit->salesforce-lavis) (3.0.0)\n",
            "Requirement already satisfied: blis<0.8.0,>=0.7.8 in /usr/local/lib/python3.10/dist-packages (from thinc<8.3.0,>=8.2.2->spacy->salesforce-lavis) (0.7.11)\n",
            "Requirement already satisfied: confection<1.0.0,>=0.0.1 in /usr/local/lib/python3.10/dist-packages (from thinc<8.3.0,>=8.2.2->spacy->salesforce-lavis) (0.1.5)\n",
            "Requirement already satisfied: shellingham>=1.3.0 in /usr/local/lib/python3.10/dist-packages (from typer<1.0.0,>=0.3.0->spacy->salesforce-lavis) (1.5.4)\n",
            "Collecting distlib<1,>=0.3.7 (from virtualenv>=20.10.0->pre-commit->salesforce-lavis)\n",
            "  Downloading distlib-0.3.8-py2.py3-none-any.whl (468 kB)\n",
            "\u001b[2K     \u001b[90m━━━━━━━━━━━━━━━━━━━━━━━━━━━━━━━━━━━━━━━━\u001b[0m \u001b[32m468.9/468.9 kB\u001b[0m \u001b[31m40.2 MB/s\u001b[0m eta \u001b[36m0:00:00\u001b[0m\n",
            "\u001b[?25hRequirement already satisfied: platformdirs<5,>=3.9.1 in /usr/local/lib/python3.10/dist-packages (from virtualenv>=20.10.0->pre-commit->salesforce-lavis) (4.2.2)\n",
            "Requirement already satisfied: cloudpathlib<1.0.0,>=0.7.0 in /usr/local/lib/python3.10/dist-packages (from weasel<0.5.0,>=0.1.0->spacy->salesforce-lavis) (0.18.1)\n",
            "Requirement already satisfied: smart-open<8.0.0,>=5.2.1 in /usr/local/lib/python3.10/dist-packages (from weasel<0.5.0,>=0.1.0->spacy->salesforce-lavis) (7.0.4)\n",
            "Requirement already satisfied: python-slugify in /usr/local/lib/python3.10/dist-packages (from kaggle->opendatasets->salesforce-lavis) (8.0.4)\n",
            "Requirement already satisfied: bleach in /usr/local/lib/python3.10/dist-packages (from kaggle->opendatasets->salesforce-lavis) (6.1.0)\n",
            "Requirement already satisfied: mpmath<1.4.0,>=1.1.0 in /usr/local/lib/python3.10/dist-packages (from sympy->torch>=1.10.0->salesforce-lavis) (1.3.0)\n",
            "Requirement already satisfied: smmap<6,>=3.0.1 in /usr/local/lib/python3.10/dist-packages (from gitdb<5,>=4.0.1->gitpython!=3.1.19,<4,>=3.0.7->streamlit->salesforce-lavis) (5.0.1)\n",
            "Requirement already satisfied: attrs>=22.2.0 in /usr/local/lib/python3.10/dist-packages (from jsonschema>=3.0->altair<6,>=4.0->streamlit->salesforce-lavis) (23.2.0)\n",
            "Requirement already satisfied: jsonschema-specifications>=2023.03.6 in /usr/local/lib/python3.10/dist-packages (from jsonschema>=3.0->altair<6,>=4.0->streamlit->salesforce-lavis) (2023.12.1)\n",
            "Requirement already satisfied: referencing>=0.28.4 in /usr/local/lib/python3.10/dist-packages (from jsonschema>=3.0->altair<6,>=4.0->streamlit->salesforce-lavis) (0.35.1)\n",
            "Requirement already satisfied: rpds-py>=0.7.1 in /usr/local/lib/python3.10/dist-packages (from jsonschema>=3.0->altair<6,>=4.0->streamlit->salesforce-lavis) (0.18.1)\n",
            "Requirement already satisfied: marisa-trie>=0.7.7 in /usr/local/lib/python3.10/dist-packages (from language-data>=1.2->langcodes<4.0.0,>=3.2.0->spacy->salesforce-lavis) (1.2.0)\n",
            "Requirement already satisfied: mdurl~=0.1 in /usr/local/lib/python3.10/dist-packages (from markdown-it-py>=2.2.0->rich<14,>=10.14.0->streamlit->salesforce-lavis) (0.1.2)\n",
            "Requirement already satisfied: wrapt in /usr/local/lib/python3.10/dist-packages (from smart-open<8.0.0,>=5.2.1->weasel<0.5.0,>=0.1.0->spacy->salesforce-lavis) (1.14.1)\n",
            "Requirement already satisfied: webencodings in /usr/local/lib/python3.10/dist-packages (from bleach->kaggle->opendatasets->salesforce-lavis) (0.5.1)\n",
            "Requirement already satisfied: text-unidecode>=1.3 in /usr/local/lib/python3.10/dist-packages (from python-slugify->kaggle->opendatasets->salesforce-lavis) (1.3)\n",
            "Building wheels for collected packages: fairscale, contexttimer, iopath\n",
            "  Building wheel for fairscale (pyproject.toml) ... \u001b[?25l\u001b[?25hdone\n",
            "  Created wheel for fairscale: filename=fairscale-0.4.4-py3-none-any.whl size=292830 sha256=2fa39b4c01740a5bc3a137b2e1d0770bfeb1e58e4287ffd4aa543fe820606e1a\n",
            "  Stored in directory: /root/.cache/pip/wheels/08/58/6f/56c57fa8315eb0bcf0287b580c850845be5f116359b809e9f1\n",
            "  Building wheel for contexttimer (setup.py) ... \u001b[?25l\u001b[?25hdone\n",
            "  Created wheel for contexttimer: filename=contexttimer-0.3.3-py3-none-any.whl size=5804 sha256=8e629040b947b84b25671132484a2f7819fd08f7bff24c517d67da4c54470724\n",
            "  Stored in directory: /root/.cache/pip/wheels/72/1c/da/cfd97201d88ccce214427fa84a5caeb91fef7c5a1b4c4312b4\n",
            "  Building wheel for iopath (setup.py) ... \u001b[?25l\u001b[?25hdone\n",
            "  Created wheel for iopath: filename=iopath-0.1.10-py3-none-any.whl size=31532 sha256=2ace93d2cbcf6bbc5e08f64d572f5b8aba13a927af75a93a0dce3586826f9b2c\n",
            "  Stored in directory: /root/.cache/pip/wheels/9a/a3/b6/ac0fcd1b4ed5cfeb3db92e6a0e476cfd48ed0df92b91080c1d\n",
            "Successfully built fairscale contexttimer iopath\n",
            "Installing collected packages: tokenizers, distlib, contexttimer, braceexpand, webdataset, watchdog, virtualenv, python-magic, portalocker, opencv-python-headless, nodeenv, jedi, identify, ftfy, einops, decord, cfgv, pydeck, pre-commit, iopath, transformers, opendatasets, pycocoevalcap, fairscale, timm, streamlit, salesforce-lavis\n",
            "  Attempting uninstall: tokenizers\n",
            "    Found existing installation: tokenizers 0.19.1\n",
            "    Uninstalling tokenizers-0.19.1:\n",
            "      Successfully uninstalled tokenizers-0.19.1\n",
            "  Attempting uninstall: opencv-python-headless\n",
            "    Found existing installation: opencv-python-headless 4.10.0.84\n",
            "    Uninstalling opencv-python-headless-4.10.0.84:\n",
            "      Successfully uninstalled opencv-python-headless-4.10.0.84\n",
            "  Attempting uninstall: transformers\n",
            "    Found existing installation: transformers 4.41.2\n",
            "    Uninstalling transformers-4.41.2:\n",
            "      Successfully uninstalled transformers-4.41.2\n",
            "Successfully installed braceexpand-0.1.7 cfgv-3.4.0 contexttimer-0.3.3 decord-0.6.0 distlib-0.3.8 einops-0.8.0 fairscale-0.4.4 ftfy-6.2.0 identify-2.5.36 iopath-0.1.10 jedi-0.19.1 nodeenv-1.9.1 opencv-python-headless-4.5.5.64 opendatasets-0.1.22 portalocker-2.10.0 pre-commit-3.7.1 pycocoevalcap-1.2 pydeck-0.9.1 python-magic-0.4.27 salesforce-lavis-1.0.2 streamlit-1.36.0 timm-0.4.12 tokenizers-0.13.3 transformers-4.26.1 virtualenv-20.26.3 watchdog-4.0.1 webdataset-0.2.86\n"
          ]
        },
        {
          "output_type": "display_data",
          "data": {
            "application/vnd.colab-display-data+json": {
              "pip_warning": {
                "packages": [
                  "cv2",
                  "transformers"
                ]
              },
              "id": "9cff5f7ce4504f8e97759e825e2636a4"
            }
          },
          "metadata": {}
        }
      ]
    },
    {
      "cell_type": "code",
      "source": [
        "import torch\n",
        "from PIL import Image\n",
        "\n",
        "from lavis.models import load_model_and_preprocess"
      ],
      "metadata": {
        "id": "Hfiq5ubO9Mhp"
      },
      "execution_count": null,
      "outputs": []
    },
    {
      "cell_type": "code",
      "source": [
        "device = torch.device(\"cuda\") if torch.cuda.is_available() else \"cpu\""
      ],
      "metadata": {
        "id": "kG3DejG3EnNh"
      },
      "execution_count": null,
      "outputs": []
    },
    {
      "cell_type": "markdown",
      "source": [
        "### текстовые данные для модели BERT"
      ],
      "metadata": {
        "id": "zDlj9rrrIW0p"
      }
    },
    {
      "cell_type": "code",
      "source": [],
      "metadata": {
        "id": "RjGT53S27doG"
      },
      "execution_count": null,
      "outputs": []
    },
    {
      "cell_type": "markdown",
      "metadata": {
        "id": "Bj3vrVetVkjz"
      },
      "source": [
        "## В качестве базовой модели будем использовать ResNet18FPN для извлечения признаков изображения, Generalized Mean (GeM) pooling, фьюзить данные будем с помощью суммирования"
      ]
    },
    {
      "cell_type": "code",
      "execution_count": null,
      "metadata": {
        "id": "fb3akcwctvU5"
      },
      "outputs": [],
      "source": [
        "import torch\n",
        "\n",
        "from opr.models.place_recognition.base import ImageModel\n",
        "from opr.modules.feature_extractors import ResNet18FPNFeatureExtractor\n",
        "from opr.modules import Add, GeM, Concat"
      ]
    },
    {
      "cell_type": "code",
      "source": [
        "from typing import Dict, Optional\n",
        "\n",
        "from loguru import logger\n",
        "from torch import Tensor, nn\n",
        "import torch.nn.functional as F"
      ],
      "metadata": {
        "id": "OP6XN5kqEZAm"
      },
      "execution_count": null,
      "outputs": []
    },
    {
      "cell_type": "code",
      "source": [
        "class ImageModel2(nn.Module):\n",
        "    \"\"\"Meta-model for image-based Place Recognition. Combines feature extraction backbone and head modules.\"\"\"\n",
        "\n",
        "    def __init__(\n",
        "        self,\n",
        "        backbone: nn.Module,\n",
        "        head: nn.Module,\n",
        "        image2text,\n",
        "        text_embedding,\n",
        "        tokenizer,\n",
        "        fusion: Optional[nn.Module] = None,\n",
        "    ) -> None:\n",
        "        \"\"\"Meta-model for image-based Place Recognition.\n",
        "\n",
        "        Args:\n",
        "            backbone (ImageFeatureExtractor): Image feature extraction backbone.\n",
        "            head (ImageHead): Image head module.\n",
        "            fusion (FusionModule, optional): Module to fuse descriptors for multiple images in batch.\n",
        "                Defaults to None.\n",
        "        \"\"\"\n",
        "        super().__init__()\n",
        "        self.backbone = backbone\n",
        "        self.head = head\n",
        "        self.fusion = fusion\n",
        "        self.image2text = image2text\n",
        "        self.text_embedding = text_embedding\n",
        "        self.tokenizer = tokenizer\n",
        "\n",
        "        self.linear = nn.Linear(1024, 256)\n",
        "        self.batch_norm = nn.BatchNorm1d(256)\n",
        "        #self.linear_layer1 = nn.Linear(, 256)\n",
        "\n",
        "    def get_describe(self, image_tensor):\n",
        "        res = image_tensor.unsqueeze(0)\n",
        "        resized_images = F.interpolate(res, size=(384, 384), mode='bilinear', align_corners=False).to(device)\n",
        "        return self.image2text.generate({\"image\": resized_images})\n",
        "\n",
        "\n",
        "    def forward(self, batch: Dict[str, Tensor]) -> Dict[str, Tensor]:  # noqa: D102\n",
        "        img_descriptors = {}\n",
        "        for key, value in batch.items():\n",
        "            if key.startswith(\"images_\"):\n",
        "                text = [self.get_describe(b)[0] for b in value]\n",
        "                encoded_input = self.tokenizer(text , padding=True, truncation=True, return_tensors='pt').to(device)\n",
        "                model_output = self.text_embedding(**encoded_input)\n",
        "                cls_embedding = model_output.last_hidden_state[:, 0, :]\n",
        "                images_embedding = self.head(self.backbone(value))\n",
        "                print(images_embedding.shape, cls_embedding.shape)\n",
        "                concatenated = torch.cat((images_embedding, cls_embedding), dim=1)\n",
        "                compressed = self.linear(concatenated)\n",
        "                activated = F.relu(compressed)\n",
        "                normalized = self.batch_norm(activated)\n",
        "                result =  images_embedding + normalized\n",
        "                img_descriptors[key] = result\n",
        "\n",
        "        if len(img_descriptors) > 1:\n",
        "            if self.fusion is None:\n",
        "                raise ValueError(\"Fusion module is not defined but multiple images are provided\")\n",
        "            descriptor = self.fusion(img_descriptors)\n",
        "        else:\n",
        "            if self.fusion is not None:\n",
        "                raise ValueError(\"Fusion module is defined but only one image is provided\")\n",
        "            descriptor = list(img_descriptors.values())[0]\n",
        "        out_dict: Dict[str, Tensor] = {\"final_descriptor\": descriptor}\n",
        "        return out_dict"
      ],
      "metadata": {
        "id": "FfCMIH7q8BU5"
      },
      "execution_count": null,
      "outputs": []
    },
    {
      "cell_type": "code",
      "source": [
        "from transformers import BertTokenizer, BertModel\n",
        "import torch"
      ],
      "metadata": {
        "id": "MyV57cLBLbfX"
      },
      "execution_count": null,
      "outputs": []
    },
    {
      "cell_type": "code",
      "source": [
        "from opr.modules.feature_extractors import ResNet50FPNFeatureExtractor"
      ],
      "metadata": {
        "id": "rLG_ArbdFUEk"
      },
      "execution_count": null,
      "outputs": []
    },
    {
      "cell_type": "code",
      "source": [],
      "metadata": {
        "id": "CociJN06POKd"
      },
      "execution_count": null,
      "outputs": []
    },
    {
      "cell_type": "code",
      "execution_count": null,
      "metadata": {
        "id": "w4yH-UZquGPr"
      },
      "outputs": [],
      "source": [
        "feature_extractor = ResNet50FPNFeatureExtractor(\n",
        "    in_channels=3,\n",
        "    lateral_dim=256,\n",
        "    fh_num_bottom_up=4,\n",
        "    fh_num_top_down=0,\n",
        "    pretrained=True,\n",
        ")\n",
        "pooling = GeM()\n",
        "descriptor_fusion_module = Concat()\n"
      ]
    },
    {
      "cell_type": "code",
      "source": [
        "model = ImageModel2(\n",
        "    backbone=feature_extractor,\n",
        "    head=pooling,\n",
        "    image2text=blip,\n",
        "    text_embedding = bert,\n",
        "    tokenizer=tokenizer,\n",
        "    fusion=descriptor_fusion_module,\n",
        ")"
      ],
      "metadata": {
        "id": "L0oWiK2MFUSp"
      },
      "execution_count": null,
      "outputs": []
    },
    {
      "cell_type": "code",
      "source": [
        "model = ImageModel(backbone = feature_extractor, head = pooling, fusion = descriptor_fusion_module)"
      ],
      "metadata": {
        "id": "Be2TaM7HE1kG"
      },
      "execution_count": null,
      "outputs": []
    },
    {
      "cell_type": "code",
      "execution_count": null,
      "metadata": {
        "id": "K2RAaSX_3VH_"
      },
      "outputs": [],
      "source": [
        "IMAGE_LR = 0.0001\n",
        "HEAD_LR = 0.0001\n",
        "FUSION_LR = 0.0001\n",
        "WEIGHT_DECAY = 0.0001\n",
        "SCHEDULER_GAMMA = 0.1\n",
        "SCHEDULER_STEPS = [5]"
      ]
    },
    {
      "cell_type": "code",
      "execution_count": null,
      "metadata": {
        "id": "ea113dsq3gd6"
      },
      "outputs": [],
      "source": [
        "from torch.optim import Adam\n",
        "from torch.optim.lr_scheduler import MultiStepLR"
      ]
    },
    {
      "cell_type": "code",
      "execution_count": null,
      "metadata": {
        "id": "Bmt6f-Ri3RY7"
      },
      "outputs": [],
      "source": [
        "params_list = []\n",
        "if model.backbone is not None and IMAGE_LR is not None:\n",
        "    params_list.append({\"params\": model.backbone.parameters(), \"lr\": IMAGE_LR})\n",
        "if model.head is not None and HEAD_LR is not None:\n",
        "    params_list.append({\"params\": model.head.parameters(), \"lr\": HEAD_LR})\n",
        "if model.fusion is not None and FUSION_LR is not None:\n",
        "    params_list.append({\"params\": model.fusion.parameters(), \"lr\": FUSION_LR})"
      ]
    },
    {
      "cell_type": "code",
      "execution_count": null,
      "metadata": {
        "id": "GbeQIk_m2gXr"
      },
      "outputs": [],
      "source": [
        "from opr.trainers.place_recognition import UnimodalPlaceRecognitionTrainer\n",
        "from opr.losses import BatchHardTripletMarginLoss"
      ]
    },
    {
      "cell_type": "code",
      "execution_count": null,
      "metadata": {
        "id": "uc5xYcMnzwhG",
        "colab": {
          "base_uri": "https://localhost:8080/"
        },
        "outputId": "25a04774-a8c6-4d66-ef7d-9ca8b545a8ce"
      },
      "outputs": [
        {
          "output_type": "stream",
          "name": "stdout",
          "text": [
            "mkdir: cannot create directory ‘checkpoints’: File exists\n"
          ]
        }
      ],
      "source": [
        "!mkdir checkpoints"
      ]
    },
    {
      "cell_type": "markdown",
      "metadata": {
        "id": "PxbIAJF8WkKu"
      },
      "source": [
        "Инициализируем наш Trainer"
      ]
    },
    {
      "cell_type": "code",
      "execution_count": null,
      "metadata": {
        "id": "9wBkIkn52q12"
      },
      "outputs": [],
      "source": [
        "loss_fn = BatchHardTripletMarginLoss(margin=0.2)\n",
        "optimizer = Adam(params_list, weight_decay=WEIGHT_DECAY)\n",
        "scheduler = MultiStepLR(optimizer, milestones=SCHEDULER_STEPS, gamma=SCHEDULER_GAMMA)\n",
        "\n",
        "trainer = UnimodalPlaceRecognitionTrainer(\n",
        "    checkpoints_dir='/content/checkpoints',\n",
        "    model=model,\n",
        "    loss_fn=loss_fn,\n",
        "    optimizer=optimizer,\n",
        "    scheduler=scheduler,\n",
        "    batch_expansion_threshold=0.7,\n",
        "    wandb_log=False,\n",
        "    device='cuda',\n",
        ")"
      ]
    },
    {
      "cell_type": "markdown",
      "metadata": {
        "id": "-cUHgTJyWmyI"
      },
      "source": [
        "Обучаем"
      ]
    },
    {
      "cell_type": "code",
      "execution_count": null,
      "metadata": {
        "id": "kYk2hala4spa",
        "colab": {
          "base_uri": "https://localhost:8080/"
        },
        "outputId": "661dc302-612a-4519-c1eb-94e0afdce86a"
      },
      "outputs": [
        {
          "output_type": "stream",
          "name": "stderr",
          "text": [
            "\u001b[32m2024-07-04 08:42:03.117\u001b[0m | \u001b[1mINFO    \u001b[0m | \u001b[36mopr.trainers.place_recognition.unimodal\u001b[0m:\u001b[36mtrain\u001b[0m:\u001b[36m113\u001b[0m - \u001b[1m=====> Epoch:   1/2:\u001b[0m\n",
            "\u001b[32m2024-07-04 08:42:03.119\u001b[0m | \u001b[1mINFO    \u001b[0m | \u001b[36mopr.trainers.place_recognition.unimodal\u001b[0m:\u001b[36m_loop_epoch\u001b[0m:\u001b[36m244\u001b[0m - \u001b[1m=> Train stage:\u001b[0m\n",
            "Train:   0%|          | 0/88 [00:00<?, ?it/s]/usr/lib/python3.10/multiprocessing/popen_fork.py:66: RuntimeWarning: os.fork() was called. os.fork() is incompatible with multithreaded code, and JAX is multithreaded, so this will likely lead to a deadlock.\n",
            "  self.pid = os.fork()\n",
            "Train: 100%|██████████| 88/88 [01:31<00:00,  1.90it/s]/usr/lib/python3.10/multiprocessing/popen_fork.py:66: RuntimeWarning: os.fork() was called. os.fork() is incompatible with multithreaded code, and JAX is multithreaded, so this will likely lead to a deadlock.\n",
            "  self.pid = os.fork()\n",
            "\u001b[32m2024-07-04 08:43:34.949\u001b[0m | \u001b[1mINFO    \u001b[0m | \u001b[36mopr.trainers.place_recognition.unimodal\u001b[0m:\u001b[36m_loop_epoch\u001b[0m:\u001b[36m277\u001b[0m - \u001b[1mTrain time: 01:31\u001b[0m\n",
            "\u001b[32m2024-07-04 08:43:34.952\u001b[0m | \u001b[1mINFO    \u001b[0m | \u001b[36mopr.trainers.place_recognition.unimodal\u001b[0m:\u001b[36m_loop_epoch\u001b[0m:\u001b[36m278\u001b[0m - \u001b[1mTrain stats: {'loss': 0.1626908207650889, 'avg_embedding_norm': 1.731470748782158, 'num_triplets': 16.0, 'num_non_zero_triplets': 13.090909090909092, 'non_zero_rate': 0.8181818181818182, 'max_pos_pair_dist': 0.5179296857254072, 'max_neg_pair_dist': 0.5614420023154129, 'mean_pos_pair_dist': 0.3551261934705756, 'mean_neg_pair_dist': 0.4501085374504328, 'min_pos_pair_dist': 0.22690849056975407, 'min_neg_pair_dist': 0.37644492936405266}\u001b[0m\n",
            "\u001b[32m2024-07-04 08:43:34.956\u001b[0m | \u001b[1mINFO    \u001b[0m | \u001b[36mopr.trainers.place_recognition.unimodal\u001b[0m:\u001b[36m_loop_epoch\u001b[0m:\u001b[36m244\u001b[0m - \u001b[1m=> Val stage:\u001b[0m\n",
            "\u001b[32m2024-07-04 08:44:09.489\u001b[0m | \u001b[1mINFO    \u001b[0m | \u001b[36mopr.trainers.place_recognition.unimodal\u001b[0m:\u001b[36m_loop_epoch\u001b[0m:\u001b[36m277\u001b[0m - \u001b[1mVal time: 00:34\u001b[0m\n",
            "\u001b[32m2024-07-04 08:44:09.493\u001b[0m | \u001b[1mINFO    \u001b[0m | \u001b[36mopr.trainers.place_recognition.unimodal\u001b[0m:\u001b[36m_loop_epoch\u001b[0m:\u001b[36m278\u001b[0m - \u001b[1mVal stats: {'loss': 0.3411760479211807, 'avg_embedding_norm': 2.0317180156707764, 'num_triplets': 256.0, 'num_non_zero_triplets': 256.0, 'non_zero_rate': 1.0, 'max_pos_pair_dist': 0.9901350438594818, 'max_neg_pair_dist': 0.7099721729755402, 'mean_pos_pair_dist': 0.6247915029525757, 'mean_neg_pair_dist': 0.4866526424884796, 'min_pos_pair_dist': 0.4067254811525345, 'min_neg_pair_dist': 0.3449395149946213}\u001b[0m\n",
            "\u001b[32m2024-07-04 08:44:09.495\u001b[0m | \u001b[1mINFO    \u001b[0m | \u001b[36mopr.trainers.place_recognition.unimodal\u001b[0m:\u001b[36mtest\u001b[0m:\u001b[36m172\u001b[0m - \u001b[1m=> Test stage:\u001b[0m\n",
            "\u001b[32m2024-07-04 08:46:07.642\u001b[0m | \u001b[34m\u001b[1mDEBUG   \u001b[0m | \u001b[36mopr.trainers.place_recognition.unimodal\u001b[0m:\u001b[36mtest\u001b[0m:\u001b[36m194\u001b[0m - \u001b[34m\u001b[1mTest embeddings: (1855, 512)\u001b[0m\n",
            "\u001b[32m2024-07-04 08:46:09.884\u001b[0m | \u001b[1mINFO    \u001b[0m | \u001b[36mopr.trainers.place_recognition.unimodal\u001b[0m:\u001b[36mtest\u001b[0m:\u001b[36m228\u001b[0m - \u001b[1mTest time: 02:00\u001b[0m\n",
            "\u001b[32m2024-07-04 08:46:09.890\u001b[0m | \u001b[1mINFO    \u001b[0m | \u001b[36mopr.trainers.place_recognition.unimodal\u001b[0m:\u001b[36mtest\u001b[0m:\u001b[36m229\u001b[0m - \u001b[1mMean Recall@N:\n",
            "[0.8002402  0.84637287 0.87282098 0.89527092 0.91063048 0.92059229\n",
            " 0.92761453 0.93408805 0.94083494 0.94516246 0.94840779 0.95084094\n",
            " 0.95462337 0.9575744  0.95946242 0.96217095 0.96351818 0.96539532\n",
            " 0.96755216 0.9683569  0.96943877 0.97187881 0.97242217 0.97458948\n",
            " 0.97593367]\u001b[0m\n",
            "\u001b[32m2024-07-04 08:46:09.892\u001b[0m | \u001b[1mINFO    \u001b[0m | \u001b[36mopr.trainers.place_recognition.unimodal\u001b[0m:\u001b[36mtest\u001b[0m:\u001b[36m230\u001b[0m - \u001b[1mMean Recall@1% = 0.9205922946162911\u001b[0m\n",
            "\u001b[32m2024-07-04 08:46:09.896\u001b[0m | \u001b[1mINFO    \u001b[0m | \u001b[36mopr.trainers.place_recognition.unimodal\u001b[0m:\u001b[36mtest\u001b[0m:\u001b[36m231\u001b[0m - \u001b[1mMean top-1 distance = 0.3959128166644994\u001b[0m\n",
            "\u001b[32m2024-07-04 08:46:10.243\u001b[0m | \u001b[1mINFO    \u001b[0m | \u001b[36mopr.trainers.place_recognition.unimodal\u001b[0m:\u001b[36mtrain\u001b[0m:\u001b[36m159\u001b[0m - \u001b[1mRecall@1 improved!\u001b[0m\n",
            "\u001b[32m2024-07-04 08:46:11.189\u001b[0m | \u001b[1mINFO    \u001b[0m | \u001b[36mopr.trainers.place_recognition.unimodal\u001b[0m:\u001b[36mtrain\u001b[0m:\u001b[36m113\u001b[0m - \u001b[1m=====> Epoch:   2/2:\u001b[0m\n",
            "\u001b[32m2024-07-04 08:46:11.193\u001b[0m | \u001b[1mINFO    \u001b[0m | \u001b[36mopr.trainers.place_recognition.unimodal\u001b[0m:\u001b[36m_loop_epoch\u001b[0m:\u001b[36m244\u001b[0m - \u001b[1m=> Train stage:\u001b[0m\n",
            "Train:   0%|          | 0/88 [00:00<?, ?it/s]/usr/local/lib/python3.10/dist-packages/torch/utils/data/dataloader.py:558: UserWarning: This DataLoader will create 4 worker processes in total. Our suggested max number of worker in current system is 2, which is smaller than what this DataLoader is going to create. Please be aware that excessive worker creation might get DataLoader running slow or even freeze, lower the worker number to avoid potential slowness/freeze if necessary.\n",
            "  warnings.warn(_create_warning_msg(\n",
            "/usr/lib/python3.10/multiprocessing/popen_fork.py:66: RuntimeWarning: os.fork() was called. os.fork() is incompatible with multithreaded code, and JAX is multithreaded, so this will likely lead to a deadlock.\n",
            "  self.pid = os.fork()\n",
            "\u001b[32m2024-07-04 08:47:40.649\u001b[0m | \u001b[1mINFO    \u001b[0m | \u001b[36mopr.trainers.place_recognition.unimodal\u001b[0m:\u001b[36m_loop_epoch\u001b[0m:\u001b[36m277\u001b[0m - \u001b[1mTrain time: 01:29\u001b[0m\n",
            "\u001b[32m2024-07-04 08:47:40.655\u001b[0m | \u001b[1mINFO    \u001b[0m | \u001b[36mopr.trainers.place_recognition.unimodal\u001b[0m:\u001b[36m_loop_epoch\u001b[0m:\u001b[36m278\u001b[0m - \u001b[1mTrain stats: {'loss': 0.16086510949852792, 'avg_embedding_norm': 2.3687059445814653, 'num_triplets': 16.0, 'num_non_zero_triplets': 6.261363636363637, 'non_zero_rate': 0.3913352272727273, 'max_pos_pair_dist': 0.8353934308344667, 'max_neg_pair_dist': 1.0439198084852912, 'mean_pos_pair_dist': 0.566986026073044, 'mean_neg_pair_dist': 0.8423992219296369, 'min_pos_pair_dist': 0.34197277592664416, 'min_neg_pair_dist': 0.6837457083165646}\u001b[0m\n",
            "\u001b[32m2024-07-04 08:47:40.657\u001b[0m | \u001b[1mINFO    \u001b[0m | \u001b[36mopr.trainers.place_recognition.unimodal\u001b[0m:\u001b[36m_loop_epoch\u001b[0m:\u001b[36m244\u001b[0m - \u001b[1m=> Val stage:\u001b[0m\n",
            "\u001b[32m2024-07-04 08:48:14.784\u001b[0m | \u001b[1mINFO    \u001b[0m | \u001b[36mopr.trainers.place_recognition.unimodal\u001b[0m:\u001b[36m_loop_epoch\u001b[0m:\u001b[36m277\u001b[0m - \u001b[1mVal time: 00:34\u001b[0m\n",
            "\u001b[32m2024-07-04 08:48:14.789\u001b[0m | \u001b[1mINFO    \u001b[0m | \u001b[36mopr.trainers.place_recognition.unimodal\u001b[0m:\u001b[36m_loop_epoch\u001b[0m:\u001b[36m278\u001b[0m - \u001b[1mVal stats: {'loss': 0.3787575215101242, 'avg_embedding_norm': 2.4403592348098755, 'num_triplets': 256.0, 'num_non_zero_triplets': 255.5, 'non_zero_rate': 0.998046875, 'max_pos_pair_dist': 1.1784030199050903, 'max_neg_pair_dist': 0.9043866991996765, 'mean_pos_pair_dist': 0.8051127195358276, 'mean_neg_pair_dist': 0.6319321990013123, 'min_pos_pair_dist': 0.47943150997161865, 'min_neg_pair_dist': 0.48941342532634735}\u001b[0m\n",
            "\u001b[32m2024-07-04 08:48:14.791\u001b[0m | \u001b[1mINFO    \u001b[0m | \u001b[36mopr.trainers.place_recognition.unimodal\u001b[0m:\u001b[36mtrain\u001b[0m:\u001b[36m131\u001b[0m - \u001b[1mNon-zero rate is below threshold: 0.391 < 0.7.\u001b[0m\n",
            "\u001b[32m2024-07-04 08:48:15.564\u001b[0m | \u001b[1mINFO    \u001b[0m | \u001b[36mopr.trainers.place_recognition.unimodal\u001b[0m:\u001b[36mtest\u001b[0m:\u001b[36m172\u001b[0m - \u001b[1m=> Test stage:\u001b[0m\n",
            "\u001b[32m2024-07-04 08:50:07.404\u001b[0m | \u001b[34m\u001b[1mDEBUG   \u001b[0m | \u001b[36mopr.trainers.place_recognition.unimodal\u001b[0m:\u001b[36mtest\u001b[0m:\u001b[36m194\u001b[0m - \u001b[34m\u001b[1mTest embeddings: (1855, 512)\u001b[0m\n",
            "\u001b[32m2024-07-04 08:50:11.196\u001b[0m | \u001b[1mINFO    \u001b[0m | \u001b[36mopr.trainers.place_recognition.unimodal\u001b[0m:\u001b[36mtest\u001b[0m:\u001b[36m228\u001b[0m - \u001b[1mTest time: 01:55\u001b[0m\n",
            "\u001b[32m2024-07-04 08:50:11.198\u001b[0m | \u001b[1mINFO    \u001b[0m | \u001b[36mopr.trainers.place_recognition.unimodal\u001b[0m:\u001b[36mtest\u001b[0m:\u001b[36m229\u001b[0m - \u001b[1mMean Recall@N:\n",
            "[0.87334375 0.91251542 0.92687031 0.93711823 0.94739533 0.95036906\n",
            " 0.95387922 0.95630617 0.96035577 0.96386908 0.966567   0.96791554\n",
            " 0.96926277 0.97115079 0.97277177 0.97303801 0.97464147 0.97518748\n",
            " 0.97653645 0.97761346 0.97923647 0.97977153 0.98058324 0.98166118\n",
            " 0.98192742]\u001b[0m\n",
            "\u001b[32m2024-07-04 08:50:11.204\u001b[0m | \u001b[1mINFO    \u001b[0m | \u001b[36mopr.trainers.place_recognition.unimodal\u001b[0m:\u001b[36mtest\u001b[0m:\u001b[36m230\u001b[0m - \u001b[1mMean Recall@1% = 0.9503690550678218\u001b[0m\n",
            "\u001b[32m2024-07-04 08:50:11.206\u001b[0m | \u001b[1mINFO    \u001b[0m | \u001b[36mopr.trainers.place_recognition.unimodal\u001b[0m:\u001b[36mtest\u001b[0m:\u001b[36m231\u001b[0m - \u001b[1mMean top-1 distance = 0.4868823771215573\u001b[0m\n",
            "\u001b[32m2024-07-04 08:50:11.651\u001b[0m | \u001b[1mINFO    \u001b[0m | \u001b[36mopr.trainers.place_recognition.unimodal\u001b[0m:\u001b[36mtrain\u001b[0m:\u001b[36m159\u001b[0m - \u001b[1mRecall@1 improved!\u001b[0m\n"
          ]
        }
      ],
      "source": [
        "trainer.train(\n",
        "    epochs=2,\n",
        "    train_dataloader=train_dl,\n",
        "    val_dataloader=val_dl,\n",
        "    test_dataloader=test_dl,\n",
        ")"
      ]
    },
    {
      "cell_type": "markdown",
      "metadata": {
        "id": "jQvyl5saW-et"
      },
      "source": [
        "Cтоит отметить, что при обучении тестирование происходит с помощью параметра distance_threshold = 25, подсчет метрик в яндекс контесте происходит при параметре distance_threshold = 5, поэтому делаем перерасчет"
      ]
    },
    {
      "cell_type": "code",
      "execution_count": null,
      "metadata": {
        "id": "rQywAQCvW9MQ"
      },
      "outputs": [],
      "source": [
        "trainer.test(test_dl, distance_threshold=5)"
      ]
    },
    {
      "cell_type": "markdown",
      "source": [],
      "metadata": {
        "id": "O_fEDjk0IGUt"
      }
    },
    {
      "cell_type": "code",
      "source": [
        "DATA_ROOT2 = \"/content/obfuscated_private_ed\""
      ],
      "metadata": {
        "id": "Rg4aJLY6Q9zv"
      },
      "execution_count": null,
      "outputs": []
    },
    {
      "cell_type": "code",
      "source": [
        "train_dataset = ITLPCampusOutdoor(\n",
        "    DATA_ROOT2,\n",
        "    subset=\"train\",\n",
        "    sensors=(\"front_cam\", \"back_cam\"),\n",
        "    load_semantics=True,\n",
        ")\n",
        "val_dataset = ITLPCampusOutdoor(\n",
        "    DATA_ROOT2,\n",
        "    subset=\"val\",\n",
        "    sensors=(\"front_cam\", \"back_cam\"),\n",
        "    load_semantics=True,\n",
        ")\n",
        "\n",
        "test_dataset = ITLPCampusOutdoor(\n",
        "    DATA_ROOT2,\n",
        "    subset=\"test\",\n",
        "    sensors=(\"front_cam\", \"back_cam\"),\n",
        "    load_semantics=True,\n",
        ")"
      ],
      "metadata": {
        "id": "jca5NqDjRINV"
      },
      "execution_count": null,
      "outputs": []
    },
    {
      "cell_type": "code",
      "source": [
        "train_sampler = BatchSampler(\n",
        "    train_dataset,\n",
        "    batch_size=16,  # initial batch size\n",
        "    batch_size_limit=256,  # maximum batch size (see \"Dynamic Batch Sizing\")\n",
        "    batch_expansion_rate=1.4,\n",
        "    drop_last=True,\n",
        ")\n",
        "val_sampler = BatchSampler(\n",
        "    val_dataset,\n",
        "    batch_size=256,  # initial batch size\n",
        "    drop_last=True,\n",
        ")"
      ],
      "metadata": {
        "id": "Pb3iisW3Tht0"
      },
      "execution_count": null,
      "outputs": []
    },
    {
      "cell_type": "code",
      "source": [
        "train_dl = DataLoader(\n",
        "    dataset=train_dataset,\n",
        "    batch_sampler=train_sampler,\n",
        "    collate_fn=train_dataset.collate_fn,\n",
        "    num_workers=4,\n",
        "    pin_memory=True,\n",
        ")\n",
        "val_dl = DataLoader(\n",
        "    dataset=val_dataset,\n",
        "    batch_sampler=val_sampler,\n",
        "    collate_fn=val_dataset.collate_fn,\n",
        "    num_workers=4,\n",
        "    pin_memory=True,\n",
        ")\n",
        "\n",
        "test_dl = DataLoader(\n",
        "    dataset=test_dataset,\n",
        "    batch_size=256,\n",
        "    collate_fn=test_dataset.collate_fn,\n",
        "    num_workers=4,\n",
        "    pin_memory=True,\n",
        "    drop_last=False,\n",
        ")"
      ],
      "metadata": {
        "colab": {
          "base_uri": "https://localhost:8080/"
        },
        "id": "g-pp4ATiRITk",
        "outputId": "8cc98e1d-9b85-4ed3-8b51-097042c97e4c"
      },
      "execution_count": null,
      "outputs": [
        {
          "output_type": "stream",
          "name": "stderr",
          "text": [
            "/usr/local/lib/python3.10/dist-packages/torch/utils/data/dataloader.py:558: UserWarning: This DataLoader will create 4 worker processes in total. Our suggested max number of worker in current system is 2, which is smaller than what this DataLoader is going to create. Please be aware that excessive worker creation might get DataLoader running slow or even freeze, lower the worker number to avoid potential slowness/freeze if necessary.\n",
            "  warnings.warn(_create_warning_msg(\n"
          ]
        }
      ]
    },
    {
      "cell_type": "markdown",
      "metadata": {
        "id": "tJF7Poy-Ws7A"
      },
      "source": [
        "## Подготовка ответа для загрузки на сервер"
      ]
    },
    {
      "cell_type": "markdown",
      "metadata": {
        "id": "0xvGzFF6Wv_F"
      },
      "source": [
        "Пример кода для создания файла сабмита. Вы можете модифицировать пайплайн, например добавить ре-ранжирование кандидатов на основе каких-либо характеристик (например, как в [Path-NetVLAD](https://arxiv.org/abs/2103.01486))."
      ]
    },
    {
      "cell_type": "code",
      "execution_count": null,
      "metadata": {
        "id": "lsaLyKu573Kh"
      },
      "outputs": [],
      "source": [
        "import itertools\n",
        "\n",
        "import pandas as pd\n",
        "from sklearn.neighbors import KDTree\n",
        "import numpy as np\n",
        "import torch\n",
        "from tqdm import tqdm\n",
        "\n",
        "\n",
        "def extract_embeddings(model, descriptor_key, dataloader, device):\n",
        "    model = model.to(device)\n",
        "    model.eval()\n",
        "    with torch.no_grad():\n",
        "        test_embeddings_list = []\n",
        "        for data in tqdm(dataloader, desc=\"Calculating test set descriptors\"):\n",
        "            batch = data\n",
        "            batch = {e: batch[e].to(device) for e in batch}\n",
        "            batch_embeddings = model(batch)\n",
        "            test_embeddings_list.append(batch_embeddings[descriptor_key].cpu().numpy())\n",
        "        test_embeddings = np.vstack(test_embeddings_list)\n",
        "    return test_embeddings\n",
        "\n",
        "\n",
        "def test_submission(\n",
        "    test_embeddings: np.ndarray, dataset_df: pd.DataFrame, filename: str = \"submission.txt\"\n",
        ") -> None:\n",
        "    \"\"\"Function to create submission txt file.\n",
        "\n",
        "    Args:\n",
        "        test_embeddings (np.ndarray): Array of embeddings.\n",
        "        dataset_df (pd.Dataframe): Test dataset dataframe ('test.csv').\n",
        "        filename (str): Name of the output txt file. Defaults to \"submission.txt\".\n",
        "    \"\"\"\n",
        "    tracks = []\n",
        "\n",
        "    for _, group in dataset_df.groupby(\"track\"):\n",
        "        tracks.append(group.index.to_numpy())\n",
        "    n = 1\n",
        "    ij_permutations = sorted(list(itertools.permutations(range(len(tracks)), 2)))\n",
        "    # ij_permutations = [(0, 1), (0, 2), (1, 0), (1, 2), (2, 0), (2, 1)]\n",
        "\n",
        "    submission_lines = []\n",
        "\n",
        "    for i, j in tqdm(ij_permutations, desc=\"Calculating metrics\"):\n",
        "        query_indices = tracks[i]\n",
        "        database_indices = tracks[j]\n",
        "        query_embs = test_embeddings[query_indices]\n",
        "        database_embs = test_embeddings[database_indices]\n",
        "\n",
        "        database_tree = KDTree(database_embs)\n",
        "        _, indices = database_tree.query(query_embs, k=n)\n",
        "\n",
        "        submission_lines.extend(list(database_indices[indices.squeeze()]))\n",
        "\n",
        "    with open(filename, \"w\") as f:\n",
        "        for l in submission_lines:\n",
        "            f.write(str(l)+\"\\n\")"
      ]
    },
    {
      "cell_type": "code",
      "execution_count": null,
      "metadata": {
        "id": "_qcdVV_47pCM",
        "colab": {
          "base_uri": "https://localhost:8080/",
          "height": 584
        },
        "outputId": "11b3a889-78e9-4842-d5c1-fdcd1d1b511c"
      },
      "outputs": [
        {
          "output_type": "stream",
          "name": "stderr",
          "text": [
            "\rCalculating test set descriptors:   0%|          | 0/5 [00:00<?, ?it/s]/usr/lib/python3.10/multiprocessing/popen_fork.py:66: RuntimeWarning: os.fork() was called. os.fork() is incompatible with multithreaded code, and JAX is multithreaded, so this will likely lead to a deadlock.\n",
            "  self.pid = os.fork()\n",
            "Calculating test set descriptors:   0%|          | 0/5 [00:00<?, ?it/s]\n"
          ]
        },
        {
          "output_type": "error",
          "ename": "ValueError",
          "evalue": "Caught ValueError in DataLoader worker process 0.\nOriginal Traceback (most recent call last):\n  File \"/usr/local/lib/python3.10/dist-packages/torch/utils/data/_utils/worker.py\", line 308, in _worker_loop\n    data = fetcher.fetch(index)  # type: ignore[possibly-undefined]\n  File \"/usr/local/lib/python3.10/dist-packages/torch/utils/data/_utils/fetch.py\", line 51, in fetch\n    data = [self.dataset[idx] for idx in possibly_batched_index]\n  File \"/usr/local/lib/python3.10/dist-packages/torch/utils/data/_utils/fetch.py\", line 51, in <listcomp>\n    data = [self.dataset[idx] for idx in possibly_batched_index]\n  File \"/content/open_place_recognition/src/opr/datasets/itlp_outdoor.py\", line 469, in __getitem__\n    im = self._load_image(\"front_cam\", idx, track, floor)\n  File \"/content/open_place_recognition/src/opr/datasets/itlp_outdoor.py\", line 268, in _load_image\n    image_ts = int(self.dataset_df[f\"{cam}_ts\"].iloc[idx])\nValueError: invalid literal for int() with base 10: '0a4038a6fbed52dbd04ae6d3ffc2d43d527bf6f1ed530a0c256f093cb3409229'\n",
          "traceback": [
            "\u001b[0;31m---------------------------------------------------------------------------\u001b[0m",
            "\u001b[0;31mValueError\u001b[0m                                Traceback (most recent call last)",
            "\u001b[0;32m<ipython-input-119-69fc1beddea3>\u001b[0m in \u001b[0;36m<cell line: 1>\u001b[0;34m()\u001b[0m\n\u001b[0;32m----> 1\u001b[0;31m \u001b[0membeddings\u001b[0m \u001b[0;34m=\u001b[0m \u001b[0mextract_embeddings\u001b[0m\u001b[0;34m(\u001b[0m\u001b[0mmodel\u001b[0m\u001b[0;34m,\u001b[0m \u001b[0mdescriptor_key\u001b[0m\u001b[0;34m=\u001b[0m\u001b[0;34m\"final_descriptor\"\u001b[0m\u001b[0;34m,\u001b[0m \u001b[0mdataloader\u001b[0m\u001b[0;34m=\u001b[0m\u001b[0mtest_dl\u001b[0m\u001b[0;34m,\u001b[0m \u001b[0mdevice\u001b[0m\u001b[0;34m=\u001b[0m\u001b[0;34m'cuda'\u001b[0m\u001b[0;34m)\u001b[0m\u001b[0;34m\u001b[0m\u001b[0;34m\u001b[0m\u001b[0m\n\u001b[0m\u001b[1;32m      2\u001b[0m \u001b[0mtest_submission\u001b[0m\u001b[0;34m(\u001b[0m\u001b[0membeddings\u001b[0m\u001b[0;34m,\u001b[0m \u001b[0mdataset_df\u001b[0m\u001b[0;34m=\u001b[0m\u001b[0mtest_dl\u001b[0m\u001b[0;34m.\u001b[0m\u001b[0mdataset\u001b[0m\u001b[0;34m.\u001b[0m\u001b[0mdataset_df\u001b[0m\u001b[0;34m,\u001b[0m \u001b[0mfilename\u001b[0m\u001b[0;34m=\u001b[0m\u001b[0;34m\"baseline_submission.txt\"\u001b[0m\u001b[0;34m)\u001b[0m\u001b[0;34m\u001b[0m\u001b[0;34m\u001b[0m\u001b[0m\n",
            "\u001b[0;32m<ipython-input-118-2096ee017d37>\u001b[0m in \u001b[0;36mextract_embeddings\u001b[0;34m(model, descriptor_key, dataloader, device)\u001b[0m\n\u001b[1;32m     13\u001b[0m     \u001b[0;32mwith\u001b[0m \u001b[0mtorch\u001b[0m\u001b[0;34m.\u001b[0m\u001b[0mno_grad\u001b[0m\u001b[0;34m(\u001b[0m\u001b[0;34m)\u001b[0m\u001b[0;34m:\u001b[0m\u001b[0;34m\u001b[0m\u001b[0;34m\u001b[0m\u001b[0m\n\u001b[1;32m     14\u001b[0m         \u001b[0mtest_embeddings_list\u001b[0m \u001b[0;34m=\u001b[0m \u001b[0;34m[\u001b[0m\u001b[0;34m]\u001b[0m\u001b[0;34m\u001b[0m\u001b[0;34m\u001b[0m\u001b[0m\n\u001b[0;32m---> 15\u001b[0;31m         \u001b[0;32mfor\u001b[0m \u001b[0mdata\u001b[0m \u001b[0;32min\u001b[0m \u001b[0mtqdm\u001b[0m\u001b[0;34m(\u001b[0m\u001b[0mdataloader\u001b[0m\u001b[0;34m,\u001b[0m \u001b[0mdesc\u001b[0m\u001b[0;34m=\u001b[0m\u001b[0;34m\"Calculating test set descriptors\"\u001b[0m\u001b[0;34m)\u001b[0m\u001b[0;34m:\u001b[0m\u001b[0;34m\u001b[0m\u001b[0;34m\u001b[0m\u001b[0m\n\u001b[0m\u001b[1;32m     16\u001b[0m             \u001b[0mbatch\u001b[0m \u001b[0;34m=\u001b[0m \u001b[0mdata\u001b[0m\u001b[0;34m\u001b[0m\u001b[0;34m\u001b[0m\u001b[0m\n\u001b[1;32m     17\u001b[0m             \u001b[0mbatch\u001b[0m \u001b[0;34m=\u001b[0m \u001b[0;34m{\u001b[0m\u001b[0me\u001b[0m\u001b[0;34m:\u001b[0m \u001b[0mbatch\u001b[0m\u001b[0;34m[\u001b[0m\u001b[0me\u001b[0m\u001b[0;34m]\u001b[0m\u001b[0;34m.\u001b[0m\u001b[0mto\u001b[0m\u001b[0;34m(\u001b[0m\u001b[0mdevice\u001b[0m\u001b[0;34m)\u001b[0m \u001b[0;32mfor\u001b[0m \u001b[0me\u001b[0m \u001b[0;32min\u001b[0m \u001b[0mbatch\u001b[0m\u001b[0;34m}\u001b[0m\u001b[0;34m\u001b[0m\u001b[0;34m\u001b[0m\u001b[0m\n",
            "\u001b[0;32m/usr/local/lib/python3.10/dist-packages/tqdm/std.py\u001b[0m in \u001b[0;36m__iter__\u001b[0;34m(self)\u001b[0m\n\u001b[1;32m   1179\u001b[0m \u001b[0;34m\u001b[0m\u001b[0m\n\u001b[1;32m   1180\u001b[0m         \u001b[0;32mtry\u001b[0m\u001b[0;34m:\u001b[0m\u001b[0;34m\u001b[0m\u001b[0;34m\u001b[0m\u001b[0m\n\u001b[0;32m-> 1181\u001b[0;31m             \u001b[0;32mfor\u001b[0m \u001b[0mobj\u001b[0m \u001b[0;32min\u001b[0m \u001b[0miterable\u001b[0m\u001b[0;34m:\u001b[0m\u001b[0;34m\u001b[0m\u001b[0;34m\u001b[0m\u001b[0m\n\u001b[0m\u001b[1;32m   1182\u001b[0m                 \u001b[0;32myield\u001b[0m \u001b[0mobj\u001b[0m\u001b[0;34m\u001b[0m\u001b[0;34m\u001b[0m\u001b[0m\n\u001b[1;32m   1183\u001b[0m                 \u001b[0;31m# Update and possibly print the progressbar.\u001b[0m\u001b[0;34m\u001b[0m\u001b[0;34m\u001b[0m\u001b[0m\n",
            "\u001b[0;32m/usr/local/lib/python3.10/dist-packages/torch/utils/data/dataloader.py\u001b[0m in \u001b[0;36m__next__\u001b[0;34m(self)\u001b[0m\n\u001b[1;32m    629\u001b[0m                 \u001b[0;31m# TODO(https://github.com/pytorch/pytorch/issues/76750)\u001b[0m\u001b[0;34m\u001b[0m\u001b[0;34m\u001b[0m\u001b[0m\n\u001b[1;32m    630\u001b[0m                 \u001b[0mself\u001b[0m\u001b[0;34m.\u001b[0m\u001b[0m_reset\u001b[0m\u001b[0;34m(\u001b[0m\u001b[0;34m)\u001b[0m  \u001b[0;31m# type: ignore[call-arg]\u001b[0m\u001b[0;34m\u001b[0m\u001b[0;34m\u001b[0m\u001b[0m\n\u001b[0;32m--> 631\u001b[0;31m             \u001b[0mdata\u001b[0m \u001b[0;34m=\u001b[0m \u001b[0mself\u001b[0m\u001b[0;34m.\u001b[0m\u001b[0m_next_data\u001b[0m\u001b[0;34m(\u001b[0m\u001b[0;34m)\u001b[0m\u001b[0;34m\u001b[0m\u001b[0;34m\u001b[0m\u001b[0m\n\u001b[0m\u001b[1;32m    632\u001b[0m             \u001b[0mself\u001b[0m\u001b[0;34m.\u001b[0m\u001b[0m_num_yielded\u001b[0m \u001b[0;34m+=\u001b[0m \u001b[0;36m1\u001b[0m\u001b[0;34m\u001b[0m\u001b[0;34m\u001b[0m\u001b[0m\n\u001b[1;32m    633\u001b[0m             \u001b[0;32mif\u001b[0m \u001b[0mself\u001b[0m\u001b[0;34m.\u001b[0m\u001b[0m_dataset_kind\u001b[0m \u001b[0;34m==\u001b[0m \u001b[0m_DatasetKind\u001b[0m\u001b[0;34m.\u001b[0m\u001b[0mIterable\u001b[0m \u001b[0;32mand\u001b[0m\u001b[0;31m \u001b[0m\u001b[0;31m\\\u001b[0m\u001b[0;34m\u001b[0m\u001b[0;34m\u001b[0m\u001b[0m\n",
            "\u001b[0;32m/usr/local/lib/python3.10/dist-packages/torch/utils/data/dataloader.py\u001b[0m in \u001b[0;36m_next_data\u001b[0;34m(self)\u001b[0m\n\u001b[1;32m   1344\u001b[0m             \u001b[0;32melse\u001b[0m\u001b[0;34m:\u001b[0m\u001b[0;34m\u001b[0m\u001b[0;34m\u001b[0m\u001b[0m\n\u001b[1;32m   1345\u001b[0m                 \u001b[0;32mdel\u001b[0m \u001b[0mself\u001b[0m\u001b[0;34m.\u001b[0m\u001b[0m_task_info\u001b[0m\u001b[0;34m[\u001b[0m\u001b[0midx\u001b[0m\u001b[0;34m]\u001b[0m\u001b[0;34m\u001b[0m\u001b[0;34m\u001b[0m\u001b[0m\n\u001b[0;32m-> 1346\u001b[0;31m                 \u001b[0;32mreturn\u001b[0m \u001b[0mself\u001b[0m\u001b[0;34m.\u001b[0m\u001b[0m_process_data\u001b[0m\u001b[0;34m(\u001b[0m\u001b[0mdata\u001b[0m\u001b[0;34m)\u001b[0m\u001b[0;34m\u001b[0m\u001b[0;34m\u001b[0m\u001b[0m\n\u001b[0m\u001b[1;32m   1347\u001b[0m \u001b[0;34m\u001b[0m\u001b[0m\n\u001b[1;32m   1348\u001b[0m     \u001b[0;32mdef\u001b[0m \u001b[0m_try_put_index\u001b[0m\u001b[0;34m(\u001b[0m\u001b[0mself\u001b[0m\u001b[0;34m)\u001b[0m\u001b[0;34m:\u001b[0m\u001b[0;34m\u001b[0m\u001b[0;34m\u001b[0m\u001b[0m\n",
            "\u001b[0;32m/usr/local/lib/python3.10/dist-packages/torch/utils/data/dataloader.py\u001b[0m in \u001b[0;36m_process_data\u001b[0;34m(self, data)\u001b[0m\n\u001b[1;32m   1370\u001b[0m         \u001b[0mself\u001b[0m\u001b[0;34m.\u001b[0m\u001b[0m_try_put_index\u001b[0m\u001b[0;34m(\u001b[0m\u001b[0;34m)\u001b[0m\u001b[0;34m\u001b[0m\u001b[0;34m\u001b[0m\u001b[0m\n\u001b[1;32m   1371\u001b[0m         \u001b[0;32mif\u001b[0m \u001b[0misinstance\u001b[0m\u001b[0;34m(\u001b[0m\u001b[0mdata\u001b[0m\u001b[0;34m,\u001b[0m \u001b[0mExceptionWrapper\u001b[0m\u001b[0;34m)\u001b[0m\u001b[0;34m:\u001b[0m\u001b[0;34m\u001b[0m\u001b[0;34m\u001b[0m\u001b[0m\n\u001b[0;32m-> 1372\u001b[0;31m             \u001b[0mdata\u001b[0m\u001b[0;34m.\u001b[0m\u001b[0mreraise\u001b[0m\u001b[0;34m(\u001b[0m\u001b[0;34m)\u001b[0m\u001b[0;34m\u001b[0m\u001b[0;34m\u001b[0m\u001b[0m\n\u001b[0m\u001b[1;32m   1373\u001b[0m         \u001b[0;32mreturn\u001b[0m \u001b[0mdata\u001b[0m\u001b[0;34m\u001b[0m\u001b[0;34m\u001b[0m\u001b[0m\n\u001b[1;32m   1374\u001b[0m \u001b[0;34m\u001b[0m\u001b[0m\n",
            "\u001b[0;32m/usr/local/lib/python3.10/dist-packages/torch/_utils.py\u001b[0m in \u001b[0;36mreraise\u001b[0;34m(self)\u001b[0m\n\u001b[1;32m    703\u001b[0m             \u001b[0;31m# instantiate since we don't know how to\u001b[0m\u001b[0;34m\u001b[0m\u001b[0;34m\u001b[0m\u001b[0m\n\u001b[1;32m    704\u001b[0m             \u001b[0;32mraise\u001b[0m \u001b[0mRuntimeError\u001b[0m\u001b[0;34m(\u001b[0m\u001b[0mmsg\u001b[0m\u001b[0;34m)\u001b[0m \u001b[0;32mfrom\u001b[0m \u001b[0;32mNone\u001b[0m\u001b[0;34m\u001b[0m\u001b[0;34m\u001b[0m\u001b[0m\n\u001b[0;32m--> 705\u001b[0;31m         \u001b[0;32mraise\u001b[0m \u001b[0mexception\u001b[0m\u001b[0;34m\u001b[0m\u001b[0;34m\u001b[0m\u001b[0m\n\u001b[0m\u001b[1;32m    706\u001b[0m \u001b[0;34m\u001b[0m\u001b[0m\n\u001b[1;32m    707\u001b[0m \u001b[0;34m\u001b[0m\u001b[0m\n",
            "\u001b[0;31mValueError\u001b[0m: Caught ValueError in DataLoader worker process 0.\nOriginal Traceback (most recent call last):\n  File \"/usr/local/lib/python3.10/dist-packages/torch/utils/data/_utils/worker.py\", line 308, in _worker_loop\n    data = fetcher.fetch(index)  # type: ignore[possibly-undefined]\n  File \"/usr/local/lib/python3.10/dist-packages/torch/utils/data/_utils/fetch.py\", line 51, in fetch\n    data = [self.dataset[idx] for idx in possibly_batched_index]\n  File \"/usr/local/lib/python3.10/dist-packages/torch/utils/data/_utils/fetch.py\", line 51, in <listcomp>\n    data = [self.dataset[idx] for idx in possibly_batched_index]\n  File \"/content/open_place_recognition/src/opr/datasets/itlp_outdoor.py\", line 469, in __getitem__\n    im = self._load_image(\"front_cam\", idx, track, floor)\n  File \"/content/open_place_recognition/src/opr/datasets/itlp_outdoor.py\", line 268, in _load_image\n    image_ts = int(self.dataset_df[f\"{cam}_ts\"].iloc[idx])\nValueError: invalid literal for int() with base 10: '0a4038a6fbed52dbd04ae6d3ffc2d43d527bf6f1ed530a0c256f093cb3409229'\n"
          ]
        }
      ],
      "source": [
        "embeddings = extract_embeddings(model, descriptor_key=\"final_descriptor\", dataloader=test_dl, device='cuda')\n",
        "test_submission(embeddings, dataset_df=test_dl.dataset.dataset_df, filename=\"baseline_submission.txt\")"
      ]
    },
    {
      "cell_type": "markdown",
      "metadata": {
        "id": "55XNKySG72d9"
      },
      "source": [
        "## Текстовая информация\n",
        "\n",
        "Для решения задачи также предлагается использовать OCR-пайплайн, [реализация](https://colab.research.google.com/drive/1TXGPCjOdi7auAIoHOspBqS1Tr-c9hHym?usp=sharing) которого представлена в библиотеке OpenPlaceRecognition. Таким образом, для предсказания места помимо текстовых эмбеддингов можно использовать текст, найденный на сцене."
      ]
    },
    {
      "cell_type": "markdown",
      "metadata": {
        "id": "DaU9e9P0WzS1"
      },
      "source": [
        "Файл с сабмитом необходимо загружать на яндекс контест: https://contest.yandex.ru/contest/63631\n",
        "\n",
        "Удачи!"
      ]
    },
    {
      "cell_type": "code",
      "execution_count": null,
      "metadata": {
        "id": "kZKkt-RHBkWi"
      },
      "outputs": [],
      "source": []
    }
  ],
  "metadata": {
    "colab": {
      "provenance": [],
      "gpuType": "T4"
    },
    "kernelspec": {
      "display_name": "Python 3",
      "name": "python3"
    },
    "language_info": {
      "name": "python"
    },
    "accelerator": "GPU"
  },
  "nbformat": 4,
  "nbformat_minor": 0
}